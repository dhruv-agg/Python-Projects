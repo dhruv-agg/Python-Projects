{
 "cells": [
  {
   "cell_type": "markdown",
   "metadata": {},
   "source": [
    "# Machine Learning with Python on the Enron Dataset"
   ]
  },
  {
   "cell_type": "markdown",
   "metadata": {},
   "source": [
    "# The objective of this project "
   ]
  },
  {
   "cell_type": "markdown",
   "metadata": {},
   "source": [
    "To create a machine learning model that could separate out the POIs.\n",
    "I choose not to use the text contained within the emails as input for my classifier, \n",
    "but rather the metadata about the emails and the financial information. \n",
    "The ultimate objective of investigating the Enron dataset is to be able to predict\n",
    "cases of fraud or unsafe business practices far in advance,\n",
    "so those responsible can be punished, and those who are innocent are not harmed."
   ]
  },
  {
   "cell_type": "markdown",
   "metadata": {},
   "source": [
    "# BACKGROUND"
   ]
  },
  {
   "cell_type": "markdown",
   "metadata": {},
   "source": [
    "Enron email + financial dataset is a trove of information regarding the Enron Corporation, \n",
    "company that infamously went bankrupt in December 2001 as a result of fraudulent business practices.\n",
    "\n",
    "The email + financial data contains the emails themselves,\n",
    "metadata about the emails such as number received by and sent from each individual, and financial\n",
    "information including salary and stock options.\n",
    "\n",
    "A valuable training and testing ground for machine learning practicioners to try and develop models\n",
    "that can identify the persons of interests (POIs) from the features within the data. \n",
    "The persons of interest are the individuals who were eventually tried for fraud or criminal \n",
    "activity in the Enron investigation"
   ]
  },
  {
   "cell_type": "markdown",
   "metadata": {},
   "source": [
    "**This section sets up import statements for all the packages that will be used throughout this python notebook**"
   ]
  },
  {
   "cell_type": "code",
   "execution_count": 1,
   "metadata": {},
   "outputs": [],
   "source": [
    "import pickle\n",
    "\n",
    "# Data analysis packages:\n",
    "import pandas as pd\n",
    "import numpy as np\n",
    "#from datetime import datetime as dt\n",
    "\n",
    "# Visualization packages:\n",
    "import seaborn as sns\n",
    "import matplotlib.pyplot as plt\n",
    "from feature_format import *\n",
    "%matplotlib inline"
   ]
  },
  {
   "cell_type": "code",
   "execution_count": 2,
   "metadata": {},
   "outputs": [],
   "source": [
    "## Forcing pandas to display any number of elements\n",
    "pd.set_option('display.max_columns', None)\n",
    "pd.options.display.max_seq_items = 20"
   ]
  },
  {
   "cell_type": "markdown",
   "metadata": {},
   "source": [
    "# Loading the data"
   ]
  },
  {
   "cell_type": "code",
   "execution_count": 3,
   "metadata": {},
   "outputs": [],
   "source": [
    "data_dict = pd.read_pickle(\"final_project_dataset.pkl\")"
   ]
  },
  {
   "cell_type": "code",
   "execution_count": 4,
   "metadata": {},
   "outputs": [
    {
     "name": "stdout",
     "output_type": "stream",
     "text": [
      "Dataset type:  <class 'dict'>\n",
      "Dataset length:  146\n"
     ]
    }
   ],
   "source": [
    "## What is the data type and length?\n",
    "print('Dataset type: ',type(data_dict))\n",
    "print('Dataset length: ',len(data_dict))"
   ]
  },
  {
   "cell_type": "code",
   "execution_count": 5,
   "metadata": {},
   "outputs": [
    {
     "data": {
      "text/html": [
       "<div>\n",
       "<style scoped>\n",
       "    .dataframe tbody tr th:only-of-type {\n",
       "        vertical-align: middle;\n",
       "    }\n",
       "\n",
       "    .dataframe tbody tr th {\n",
       "        vertical-align: top;\n",
       "    }\n",
       "\n",
       "    .dataframe thead th {\n",
       "        text-align: right;\n",
       "    }\n",
       "</style>\n",
       "<table border=\"1\" class=\"dataframe\">\n",
       "  <thead>\n",
       "    <tr style=\"text-align: right;\">\n",
       "      <th></th>\n",
       "      <th>salary</th>\n",
       "      <th>to_messages</th>\n",
       "      <th>deferral_payments</th>\n",
       "      <th>total_payments</th>\n",
       "      <th>loan_advances</th>\n",
       "      <th>bonus</th>\n",
       "      <th>email_address</th>\n",
       "      <th>restricted_stock_deferred</th>\n",
       "      <th>deferred_income</th>\n",
       "      <th>total_stock_value</th>\n",
       "      <th>expenses</th>\n",
       "      <th>from_poi_to_this_person</th>\n",
       "      <th>exercised_stock_options</th>\n",
       "      <th>from_messages</th>\n",
       "      <th>other</th>\n",
       "      <th>from_this_person_to_poi</th>\n",
       "      <th>poi</th>\n",
       "      <th>long_term_incentive</th>\n",
       "      <th>shared_receipt_with_poi</th>\n",
       "      <th>restricted_stock</th>\n",
       "      <th>director_fees</th>\n",
       "    </tr>\n",
       "  </thead>\n",
       "  <tbody>\n",
       "    <tr>\n",
       "      <th>ALLEN PHILLIP K</th>\n",
       "      <td>201955</td>\n",
       "      <td>2902</td>\n",
       "      <td>2869717</td>\n",
       "      <td>4484442</td>\n",
       "      <td>NaN</td>\n",
       "      <td>4175000</td>\n",
       "      <td>phillip.allen@enron.com</td>\n",
       "      <td>-126027</td>\n",
       "      <td>-3081055</td>\n",
       "      <td>1729541</td>\n",
       "      <td>13868</td>\n",
       "      <td>47</td>\n",
       "      <td>1729541</td>\n",
       "      <td>2195</td>\n",
       "      <td>152</td>\n",
       "      <td>65</td>\n",
       "      <td>False</td>\n",
       "      <td>304805</td>\n",
       "      <td>1407</td>\n",
       "      <td>126027</td>\n",
       "      <td>NaN</td>\n",
       "    </tr>\n",
       "    <tr>\n",
       "      <th>BADUM JAMES P</th>\n",
       "      <td>NaN</td>\n",
       "      <td>NaN</td>\n",
       "      <td>178980</td>\n",
       "      <td>182466</td>\n",
       "      <td>NaN</td>\n",
       "      <td>NaN</td>\n",
       "      <td>NaN</td>\n",
       "      <td>NaN</td>\n",
       "      <td>NaN</td>\n",
       "      <td>257817</td>\n",
       "      <td>3486</td>\n",
       "      <td>NaN</td>\n",
       "      <td>257817</td>\n",
       "      <td>NaN</td>\n",
       "      <td>NaN</td>\n",
       "      <td>NaN</td>\n",
       "      <td>False</td>\n",
       "      <td>NaN</td>\n",
       "      <td>NaN</td>\n",
       "      <td>NaN</td>\n",
       "      <td>NaN</td>\n",
       "    </tr>\n",
       "    <tr>\n",
       "      <th>BANNANTINE JAMES M</th>\n",
       "      <td>477</td>\n",
       "      <td>566</td>\n",
       "      <td>NaN</td>\n",
       "      <td>916197</td>\n",
       "      <td>NaN</td>\n",
       "      <td>NaN</td>\n",
       "      <td>james.bannantine@enron.com</td>\n",
       "      <td>-560222</td>\n",
       "      <td>-5104</td>\n",
       "      <td>5243487</td>\n",
       "      <td>56301</td>\n",
       "      <td>39</td>\n",
       "      <td>4046157</td>\n",
       "      <td>29</td>\n",
       "      <td>864523</td>\n",
       "      <td>0</td>\n",
       "      <td>False</td>\n",
       "      <td>NaN</td>\n",
       "      <td>465</td>\n",
       "      <td>1757552</td>\n",
       "      <td>NaN</td>\n",
       "    </tr>\n",
       "    <tr>\n",
       "      <th>BAXTER JOHN C</th>\n",
       "      <td>267102</td>\n",
       "      <td>NaN</td>\n",
       "      <td>1295738</td>\n",
       "      <td>5634343</td>\n",
       "      <td>NaN</td>\n",
       "      <td>1200000</td>\n",
       "      <td>NaN</td>\n",
       "      <td>NaN</td>\n",
       "      <td>-1386055</td>\n",
       "      <td>10623258</td>\n",
       "      <td>11200</td>\n",
       "      <td>NaN</td>\n",
       "      <td>6680544</td>\n",
       "      <td>NaN</td>\n",
       "      <td>2660303</td>\n",
       "      <td>NaN</td>\n",
       "      <td>False</td>\n",
       "      <td>1586055</td>\n",
       "      <td>NaN</td>\n",
       "      <td>3942714</td>\n",
       "      <td>NaN</td>\n",
       "    </tr>\n",
       "    <tr>\n",
       "      <th>BAY FRANKLIN R</th>\n",
       "      <td>239671</td>\n",
       "      <td>NaN</td>\n",
       "      <td>260455</td>\n",
       "      <td>827696</td>\n",
       "      <td>NaN</td>\n",
       "      <td>400000</td>\n",
       "      <td>frank.bay@enron.com</td>\n",
       "      <td>-82782</td>\n",
       "      <td>-201641</td>\n",
       "      <td>63014</td>\n",
       "      <td>129142</td>\n",
       "      <td>NaN</td>\n",
       "      <td>NaN</td>\n",
       "      <td>NaN</td>\n",
       "      <td>69</td>\n",
       "      <td>NaN</td>\n",
       "      <td>False</td>\n",
       "      <td>NaN</td>\n",
       "      <td>NaN</td>\n",
       "      <td>145796</td>\n",
       "      <td>NaN</td>\n",
       "    </tr>\n",
       "  </tbody>\n",
       "</table>\n",
       "</div>"
      ],
      "text/plain": [
       "                    salary to_messages deferral_payments total_payments  \\\n",
       "ALLEN PHILLIP K     201955        2902           2869717        4484442   \n",
       "BADUM JAMES P          NaN         NaN            178980         182466   \n",
       "BANNANTINE JAMES M     477         566               NaN         916197   \n",
       "BAXTER JOHN C       267102         NaN           1295738        5634343   \n",
       "BAY FRANKLIN R      239671         NaN            260455         827696   \n",
       "\n",
       "                   loan_advances    bonus               email_address  \\\n",
       "ALLEN PHILLIP K              NaN  4175000     phillip.allen@enron.com   \n",
       "BADUM JAMES P                NaN      NaN                         NaN   \n",
       "BANNANTINE JAMES M           NaN      NaN  james.bannantine@enron.com   \n",
       "BAXTER JOHN C                NaN  1200000                         NaN   \n",
       "BAY FRANKLIN R               NaN   400000         frank.bay@enron.com   \n",
       "\n",
       "                   restricted_stock_deferred deferred_income  \\\n",
       "ALLEN PHILLIP K                      -126027        -3081055   \n",
       "BADUM JAMES P                            NaN             NaN   \n",
       "BANNANTINE JAMES M                   -560222           -5104   \n",
       "BAXTER JOHN C                            NaN        -1386055   \n",
       "BAY FRANKLIN R                        -82782         -201641   \n",
       "\n",
       "                   total_stock_value expenses from_poi_to_this_person  \\\n",
       "ALLEN PHILLIP K              1729541    13868                      47   \n",
       "BADUM JAMES P                 257817     3486                     NaN   \n",
       "BANNANTINE JAMES M           5243487    56301                      39   \n",
       "BAXTER JOHN C               10623258    11200                     NaN   \n",
       "BAY FRANKLIN R                 63014   129142                     NaN   \n",
       "\n",
       "                   exercised_stock_options from_messages    other  \\\n",
       "ALLEN PHILLIP K                    1729541          2195      152   \n",
       "BADUM JAMES P                       257817           NaN      NaN   \n",
       "BANNANTINE JAMES M                 4046157            29   864523   \n",
       "BAXTER JOHN C                      6680544           NaN  2660303   \n",
       "BAY FRANKLIN R                         NaN           NaN       69   \n",
       "\n",
       "                   from_this_person_to_poi    poi long_term_incentive  \\\n",
       "ALLEN PHILLIP K                         65  False              304805   \n",
       "BADUM JAMES P                          NaN  False                 NaN   \n",
       "BANNANTINE JAMES M                       0  False                 NaN   \n",
       "BAXTER JOHN C                          NaN  False             1586055   \n",
       "BAY FRANKLIN R                         NaN  False                 NaN   \n",
       "\n",
       "                   shared_receipt_with_poi restricted_stock director_fees  \n",
       "ALLEN PHILLIP K                       1407           126027           NaN  \n",
       "BADUM JAMES P                          NaN              NaN           NaN  \n",
       "BANNANTINE JAMES M                     465          1757552           NaN  \n",
       "BAXTER JOHN C                          NaN          3942714           NaN  \n",
       "BAY FRANKLIN R                         NaN           145796           NaN  "
      ]
     },
     "execution_count": 5,
     "metadata": {},
     "output_type": "execute_result"
    }
   ],
   "source": [
    "## Exploring the dataset through pandas.Dataframe\n",
    "dataset = pd.DataFrame.from_dict(data_dict, orient='index')\n",
    "dataset.head()"
   ]
  },
  {
   "cell_type": "markdown",
   "metadata": {},
   "source": [
    "# Analyzing string data:"
   ]
  },
  {
   "cell_type": "code",
   "execution_count": 6,
   "metadata": {},
   "outputs": [
    {
     "data": {
      "text/html": [
       "<div>\n",
       "<style scoped>\n",
       "    .dataframe tbody tr th:only-of-type {\n",
       "        vertical-align: middle;\n",
       "    }\n",
       "\n",
       "    .dataframe tbody tr th {\n",
       "        vertical-align: top;\n",
       "    }\n",
       "\n",
       "    .dataframe thead th {\n",
       "        text-align: right;\n",
       "    }\n",
       "</style>\n",
       "<table border=\"1\" class=\"dataframe\">\n",
       "  <thead>\n",
       "    <tr style=\"text-align: right;\">\n",
       "      <th></th>\n",
       "      <th>salary</th>\n",
       "      <th>to_messages</th>\n",
       "      <th>deferral_payments</th>\n",
       "      <th>total_payments</th>\n",
       "      <th>loan_advances</th>\n",
       "      <th>bonus</th>\n",
       "      <th>email_address</th>\n",
       "      <th>restricted_stock_deferred</th>\n",
       "      <th>deferred_income</th>\n",
       "      <th>total_stock_value</th>\n",
       "      <th>expenses</th>\n",
       "      <th>from_poi_to_this_person</th>\n",
       "      <th>exercised_stock_options</th>\n",
       "      <th>from_messages</th>\n",
       "      <th>other</th>\n",
       "      <th>from_this_person_to_poi</th>\n",
       "      <th>poi</th>\n",
       "      <th>long_term_incentive</th>\n",
       "      <th>shared_receipt_with_poi</th>\n",
       "      <th>restricted_stock</th>\n",
       "      <th>director_fees</th>\n",
       "    </tr>\n",
       "  </thead>\n",
       "  <tbody>\n",
       "    <tr>\n",
       "      <th>count</th>\n",
       "      <td>146</td>\n",
       "      <td>146</td>\n",
       "      <td>146</td>\n",
       "      <td>146</td>\n",
       "      <td>146</td>\n",
       "      <td>146</td>\n",
       "      <td>146</td>\n",
       "      <td>146</td>\n",
       "      <td>146</td>\n",
       "      <td>146</td>\n",
       "      <td>146</td>\n",
       "      <td>146</td>\n",
       "      <td>146</td>\n",
       "      <td>146</td>\n",
       "      <td>146</td>\n",
       "      <td>146</td>\n",
       "      <td>146</td>\n",
       "      <td>146</td>\n",
       "      <td>146</td>\n",
       "      <td>146</td>\n",
       "      <td>146</td>\n",
       "    </tr>\n",
       "    <tr>\n",
       "      <th>unique</th>\n",
       "      <td>95</td>\n",
       "      <td>87</td>\n",
       "      <td>40</td>\n",
       "      <td>126</td>\n",
       "      <td>5</td>\n",
       "      <td>42</td>\n",
       "      <td>112</td>\n",
       "      <td>19</td>\n",
       "      <td>45</td>\n",
       "      <td>125</td>\n",
       "      <td>95</td>\n",
       "      <td>58</td>\n",
       "      <td>102</td>\n",
       "      <td>65</td>\n",
       "      <td>93</td>\n",
       "      <td>42</td>\n",
       "      <td>2</td>\n",
       "      <td>53</td>\n",
       "      <td>84</td>\n",
       "      <td>98</td>\n",
       "      <td>18</td>\n",
       "    </tr>\n",
       "    <tr>\n",
       "      <th>top</th>\n",
       "      <td>NaN</td>\n",
       "      <td>NaN</td>\n",
       "      <td>NaN</td>\n",
       "      <td>NaN</td>\n",
       "      <td>NaN</td>\n",
       "      <td>NaN</td>\n",
       "      <td>NaN</td>\n",
       "      <td>NaN</td>\n",
       "      <td>NaN</td>\n",
       "      <td>NaN</td>\n",
       "      <td>NaN</td>\n",
       "      <td>NaN</td>\n",
       "      <td>NaN</td>\n",
       "      <td>NaN</td>\n",
       "      <td>NaN</td>\n",
       "      <td>NaN</td>\n",
       "      <td>False</td>\n",
       "      <td>NaN</td>\n",
       "      <td>NaN</td>\n",
       "      <td>NaN</td>\n",
       "      <td>NaN</td>\n",
       "    </tr>\n",
       "    <tr>\n",
       "      <th>freq</th>\n",
       "      <td>51</td>\n",
       "      <td>60</td>\n",
       "      <td>107</td>\n",
       "      <td>21</td>\n",
       "      <td>142</td>\n",
       "      <td>64</td>\n",
       "      <td>35</td>\n",
       "      <td>128</td>\n",
       "      <td>97</td>\n",
       "      <td>20</td>\n",
       "      <td>51</td>\n",
       "      <td>60</td>\n",
       "      <td>44</td>\n",
       "      <td>60</td>\n",
       "      <td>53</td>\n",
       "      <td>60</td>\n",
       "      <td>128</td>\n",
       "      <td>80</td>\n",
       "      <td>60</td>\n",
       "      <td>36</td>\n",
       "      <td>129</td>\n",
       "    </tr>\n",
       "  </tbody>\n",
       "</table>\n",
       "</div>"
      ],
      "text/plain": [
       "       salary to_messages deferral_payments total_payments loan_advances  \\\n",
       "count     146         146               146            146           146   \n",
       "unique     95          87                40            126             5   \n",
       "top       NaN         NaN               NaN            NaN           NaN   \n",
       "freq       51          60               107             21           142   \n",
       "\n",
       "       bonus email_address restricted_stock_deferred deferred_income  \\\n",
       "count    146           146                       146             146   \n",
       "unique    42           112                        19              45   \n",
       "top      NaN           NaN                       NaN             NaN   \n",
       "freq      64            35                       128              97   \n",
       "\n",
       "       total_stock_value expenses from_poi_to_this_person  \\\n",
       "count                146      146                     146   \n",
       "unique               125       95                      58   \n",
       "top                  NaN      NaN                     NaN   \n",
       "freq                  20       51                      60   \n",
       "\n",
       "       exercised_stock_options from_messages other from_this_person_to_poi  \\\n",
       "count                      146           146   146                     146   \n",
       "unique                     102            65    93                      42   \n",
       "top                        NaN           NaN   NaN                     NaN   \n",
       "freq                        44            60    53                      60   \n",
       "\n",
       "          poi long_term_incentive shared_receipt_with_poi restricted_stock  \\\n",
       "count     146                 146                     146              146   \n",
       "unique      2                  53                      84               98   \n",
       "top     False                 NaN                     NaN              NaN   \n",
       "freq      128                  80                      60               36   \n",
       "\n",
       "       director_fees  \n",
       "count            146  \n",
       "unique            18  \n",
       "top              NaN  \n",
       "freq             129  "
      ]
     },
     "execution_count": 6,
     "metadata": {},
     "output_type": "execute_result"
    }
   ],
   "source": [
    "dataset.describe()"
   ]
  },
  {
   "cell_type": "code",
   "execution_count": 7,
   "metadata": {},
   "outputs": [],
   "source": [
    "## Checking the feature data type:\n",
    "features_to_check = []\n",
    "for col in dataset.columns:\n",
    "    datatype = type(dataset[col][0])\n",
    "    ## Uncomment the line below for a verbose mode:\n",
    "    # print '{} has type {}'.format(col,datatype)\n",
    "    ## Here we select those attributes which have string type data:\n",
    "    if datatype is str:\n",
    "        features_to_check.append(col)"
   ]
  },
  {
   "cell_type": "code",
   "execution_count": 8,
   "metadata": {},
   "outputs": [
    {
     "data": {
      "text/plain": [
       "['loan_advances', 'email_address', 'director_fees']"
      ]
     },
     "execution_count": 8,
     "metadata": {},
     "output_type": "execute_result"
    }
   ],
   "source": [
    "## Printing out the features that must be checked (string types are not iterable!)\n",
    "features_to_check"
   ]
  },
  {
   "cell_type": "code",
   "execution_count": 9,
   "metadata": {},
   "outputs": [
    {
     "data": {
      "text/plain": [
       "array(['NaN', 2000000, 81525000, 400000, 83925000], dtype=object)"
      ]
     },
     "execution_count": 9,
     "metadata": {},
     "output_type": "execute_result"
    }
   ],
   "source": [
    "#This attribute type is originally (str type).\n",
    "#However, it was expected to have financial values\n",
    "dataset['loan_advances'].unique()"
   ]
  },
  {
   "cell_type": "code",
   "execution_count": 10,
   "metadata": {},
   "outputs": [
    {
     "data": {
      "text/html": [
       "<div>\n",
       "<style scoped>\n",
       "    .dataframe tbody tr th:only-of-type {\n",
       "        vertical-align: middle;\n",
       "    }\n",
       "\n",
       "    .dataframe tbody tr th {\n",
       "        vertical-align: top;\n",
       "    }\n",
       "\n",
       "    .dataframe thead th {\n",
       "        text-align: right;\n",
       "    }\n",
       "</style>\n",
       "<table border=\"1\" class=\"dataframe\">\n",
       "  <thead>\n",
       "    <tr style=\"text-align: right;\">\n",
       "      <th></th>\n",
       "      <th>salary</th>\n",
       "      <th>to_messages</th>\n",
       "      <th>deferral_payments</th>\n",
       "      <th>total_payments</th>\n",
       "      <th>loan_advances</th>\n",
       "      <th>bonus</th>\n",
       "      <th>email_address</th>\n",
       "      <th>restricted_stock_deferred</th>\n",
       "      <th>deferred_income</th>\n",
       "      <th>total_stock_value</th>\n",
       "      <th>expenses</th>\n",
       "      <th>from_poi_to_this_person</th>\n",
       "      <th>exercised_stock_options</th>\n",
       "      <th>from_messages</th>\n",
       "      <th>other</th>\n",
       "      <th>from_this_person_to_poi</th>\n",
       "      <th>poi</th>\n",
       "      <th>long_term_incentive</th>\n",
       "      <th>shared_receipt_with_poi</th>\n",
       "      <th>restricted_stock</th>\n",
       "      <th>director_fees</th>\n",
       "    </tr>\n",
       "  </thead>\n",
       "  <tbody>\n",
       "    <tr>\n",
       "      <th>FREVERT MARK A</th>\n",
       "      <td>1060932</td>\n",
       "      <td>3275</td>\n",
       "      <td>6426990</td>\n",
       "      <td>17252530</td>\n",
       "      <td>2000000</td>\n",
       "      <td>2000000</td>\n",
       "      <td>mark.frevert@enron.com</td>\n",
       "      <td>NaN</td>\n",
       "      <td>-3367011</td>\n",
       "      <td>14622185</td>\n",
       "      <td>86987</td>\n",
       "      <td>242</td>\n",
       "      <td>10433518</td>\n",
       "      <td>21</td>\n",
       "      <td>7427621</td>\n",
       "      <td>6</td>\n",
       "      <td>False</td>\n",
       "      <td>1617011</td>\n",
       "      <td>2979</td>\n",
       "      <td>4188667</td>\n",
       "      <td>NaN</td>\n",
       "    </tr>\n",
       "    <tr>\n",
       "      <th>LAY KENNETH L</th>\n",
       "      <td>1072321</td>\n",
       "      <td>4273</td>\n",
       "      <td>202911</td>\n",
       "      <td>103559793</td>\n",
       "      <td>81525000</td>\n",
       "      <td>7000000</td>\n",
       "      <td>kenneth.lay@enron.com</td>\n",
       "      <td>NaN</td>\n",
       "      <td>-300000</td>\n",
       "      <td>49110078</td>\n",
       "      <td>99832</td>\n",
       "      <td>123</td>\n",
       "      <td>34348384</td>\n",
       "      <td>36</td>\n",
       "      <td>10359729</td>\n",
       "      <td>16</td>\n",
       "      <td>True</td>\n",
       "      <td>3600000</td>\n",
       "      <td>2411</td>\n",
       "      <td>14761694</td>\n",
       "      <td>NaN</td>\n",
       "    </tr>\n",
       "    <tr>\n",
       "      <th>PICKERING MARK R</th>\n",
       "      <td>655037</td>\n",
       "      <td>898</td>\n",
       "      <td>NaN</td>\n",
       "      <td>1386690</td>\n",
       "      <td>400000</td>\n",
       "      <td>300000</td>\n",
       "      <td>mark.pickering@enron.com</td>\n",
       "      <td>NaN</td>\n",
       "      <td>NaN</td>\n",
       "      <td>28798</td>\n",
       "      <td>31653</td>\n",
       "      <td>7</td>\n",
       "      <td>28798</td>\n",
       "      <td>67</td>\n",
       "      <td>NaN</td>\n",
       "      <td>0</td>\n",
       "      <td>False</td>\n",
       "      <td>NaN</td>\n",
       "      <td>728</td>\n",
       "      <td>NaN</td>\n",
       "      <td>NaN</td>\n",
       "    </tr>\n",
       "    <tr>\n",
       "      <th>TOTAL</th>\n",
       "      <td>26704229</td>\n",
       "      <td>NaN</td>\n",
       "      <td>32083396</td>\n",
       "      <td>309886585</td>\n",
       "      <td>83925000</td>\n",
       "      <td>97343619</td>\n",
       "      <td>NaN</td>\n",
       "      <td>-7576788</td>\n",
       "      <td>-27992891</td>\n",
       "      <td>434509511</td>\n",
       "      <td>5235198</td>\n",
       "      <td>NaN</td>\n",
       "      <td>311764000</td>\n",
       "      <td>NaN</td>\n",
       "      <td>42667589</td>\n",
       "      <td>NaN</td>\n",
       "      <td>False</td>\n",
       "      <td>48521928</td>\n",
       "      <td>NaN</td>\n",
       "      <td>130322299</td>\n",
       "      <td>1398517</td>\n",
       "    </tr>\n",
       "  </tbody>\n",
       "</table>\n",
       "</div>"
      ],
      "text/plain": [
       "                    salary to_messages deferral_payments total_payments  \\\n",
       "FREVERT MARK A     1060932        3275           6426990       17252530   \n",
       "LAY KENNETH L      1072321        4273            202911      103559793   \n",
       "PICKERING MARK R    655037         898               NaN        1386690   \n",
       "TOTAL             26704229         NaN          32083396      309886585   \n",
       "\n",
       "                 loan_advances     bonus             email_address  \\\n",
       "FREVERT MARK A         2000000   2000000    mark.frevert@enron.com   \n",
       "LAY KENNETH L         81525000   7000000     kenneth.lay@enron.com   \n",
       "PICKERING MARK R        400000    300000  mark.pickering@enron.com   \n",
       "TOTAL                 83925000  97343619                       NaN   \n",
       "\n",
       "                 restricted_stock_deferred deferred_income total_stock_value  \\\n",
       "FREVERT MARK A                         NaN        -3367011          14622185   \n",
       "LAY KENNETH L                          NaN         -300000          49110078   \n",
       "PICKERING MARK R                       NaN             NaN             28798   \n",
       "TOTAL                             -7576788       -27992891         434509511   \n",
       "\n",
       "                 expenses from_poi_to_this_person exercised_stock_options  \\\n",
       "FREVERT MARK A      86987                     242                10433518   \n",
       "LAY KENNETH L       99832                     123                34348384   \n",
       "PICKERING MARK R    31653                       7                   28798   \n",
       "TOTAL             5235198                     NaN               311764000   \n",
       "\n",
       "                 from_messages     other from_this_person_to_poi    poi  \\\n",
       "FREVERT MARK A              21   7427621                       6  False   \n",
       "LAY KENNETH L               36  10359729                      16   True   \n",
       "PICKERING MARK R            67       NaN                       0  False   \n",
       "TOTAL                      NaN  42667589                     NaN  False   \n",
       "\n",
       "                 long_term_incentive shared_receipt_with_poi restricted_stock  \\\n",
       "FREVERT MARK A               1617011                    2979          4188667   \n",
       "LAY KENNETH L                3600000                    2411         14761694   \n",
       "PICKERING MARK R                 NaN                     728              NaN   \n",
       "TOTAL                       48521928                     NaN        130322299   \n",
       "\n",
       "                 director_fees  \n",
       "FREVERT MARK A             NaN  \n",
       "LAY KENNETH L              NaN  \n",
       "PICKERING MARK R           NaN  \n",
       "TOTAL                  1398517  "
      ]
     },
     "execution_count": 10,
     "metadata": {},
     "output_type": "execute_result"
    }
   ],
   "source": [
    "dataset[dataset['loan_advances']!='NaN']"
   ]
  },
  {
   "cell_type": "code",
   "execution_count": 11,
   "metadata": {},
   "outputs": [
    {
     "data": {
      "text/plain": [
       "array(['NaN', 3285, 137864, 113784, 98784, 102492, 119292, 108750, 112492,\n",
       "       103750, 38346, 101250, 17500, 125034, 1398517, 36666, 109298,\n",
       "       108579], dtype=object)"
      ]
     },
     "execution_count": 11,
     "metadata": {},
     "output_type": "execute_result"
    }
   ],
   "source": [
    "#this attribute type is originally (str type). However, \n",
    "#it was expected to have financial values too.\n",
    "dataset['director_fees'].unique()"
   ]
  },
  {
   "cell_type": "markdown",
   "metadata": {},
   "source": [
    "only 17 instances contains valid value.\n",
    "What calls attention in this case is that \n",
    "most of the other features has NaN values, \n",
    "which brings suspection that maybe they refers \n",
    "to false names. "
   ]
  },
  {
   "cell_type": "code",
   "execution_count": 12,
   "metadata": {},
   "outputs": [
    {
     "data": {
      "text/html": [
       "<div>\n",
       "<style scoped>\n",
       "    .dataframe tbody tr th:only-of-type {\n",
       "        vertical-align: middle;\n",
       "    }\n",
       "\n",
       "    .dataframe tbody tr th {\n",
       "        vertical-align: top;\n",
       "    }\n",
       "\n",
       "    .dataframe thead th {\n",
       "        text-align: right;\n",
       "    }\n",
       "</style>\n",
       "<table border=\"1\" class=\"dataframe\">\n",
       "  <thead>\n",
       "    <tr style=\"text-align: right;\">\n",
       "      <th></th>\n",
       "      <th>salary</th>\n",
       "      <th>to_messages</th>\n",
       "      <th>deferral_payments</th>\n",
       "      <th>total_payments</th>\n",
       "      <th>loan_advances</th>\n",
       "      <th>bonus</th>\n",
       "      <th>email_address</th>\n",
       "      <th>restricted_stock_deferred</th>\n",
       "      <th>deferred_income</th>\n",
       "      <th>total_stock_value</th>\n",
       "      <th>expenses</th>\n",
       "      <th>from_poi_to_this_person</th>\n",
       "      <th>exercised_stock_options</th>\n",
       "      <th>from_messages</th>\n",
       "      <th>other</th>\n",
       "      <th>from_this_person_to_poi</th>\n",
       "      <th>poi</th>\n",
       "      <th>long_term_incentive</th>\n",
       "      <th>shared_receipt_with_poi</th>\n",
       "      <th>restricted_stock</th>\n",
       "      <th>director_fees</th>\n",
       "    </tr>\n",
       "  </thead>\n",
       "  <tbody>\n",
       "    <tr>\n",
       "      <th>BELFER ROBERT</th>\n",
       "      <td>NaN</td>\n",
       "      <td>NaN</td>\n",
       "      <td>-102500</td>\n",
       "      <td>102500</td>\n",
       "      <td>NaN</td>\n",
       "      <td>NaN</td>\n",
       "      <td>NaN</td>\n",
       "      <td>44093</td>\n",
       "      <td>NaN</td>\n",
       "      <td>-44093</td>\n",
       "      <td>NaN</td>\n",
       "      <td>NaN</td>\n",
       "      <td>3285</td>\n",
       "      <td>NaN</td>\n",
       "      <td>NaN</td>\n",
       "      <td>NaN</td>\n",
       "      <td>False</td>\n",
       "      <td>NaN</td>\n",
       "      <td>NaN</td>\n",
       "      <td>NaN</td>\n",
       "      <td>3285</td>\n",
       "    </tr>\n",
       "    <tr>\n",
       "      <th>BHATNAGAR SANJAY</th>\n",
       "      <td>NaN</td>\n",
       "      <td>523</td>\n",
       "      <td>NaN</td>\n",
       "      <td>15456290</td>\n",
       "      <td>NaN</td>\n",
       "      <td>NaN</td>\n",
       "      <td>sanjay.bhatnagar@enron.com</td>\n",
       "      <td>15456290</td>\n",
       "      <td>NaN</td>\n",
       "      <td>NaN</td>\n",
       "      <td>NaN</td>\n",
       "      <td>0</td>\n",
       "      <td>2604490</td>\n",
       "      <td>29</td>\n",
       "      <td>137864</td>\n",
       "      <td>1</td>\n",
       "      <td>False</td>\n",
       "      <td>NaN</td>\n",
       "      <td>463</td>\n",
       "      <td>-2604490</td>\n",
       "      <td>137864</td>\n",
       "    </tr>\n",
       "    <tr>\n",
       "      <th>BLAKE JR. NORMAN P</th>\n",
       "      <td>NaN</td>\n",
       "      <td>NaN</td>\n",
       "      <td>NaN</td>\n",
       "      <td>1279</td>\n",
       "      <td>NaN</td>\n",
       "      <td>NaN</td>\n",
       "      <td>NaN</td>\n",
       "      <td>NaN</td>\n",
       "      <td>-113784</td>\n",
       "      <td>NaN</td>\n",
       "      <td>1279</td>\n",
       "      <td>NaN</td>\n",
       "      <td>NaN</td>\n",
       "      <td>NaN</td>\n",
       "      <td>NaN</td>\n",
       "      <td>NaN</td>\n",
       "      <td>False</td>\n",
       "      <td>NaN</td>\n",
       "      <td>NaN</td>\n",
       "      <td>NaN</td>\n",
       "      <td>113784</td>\n",
       "    </tr>\n",
       "    <tr>\n",
       "      <th>CHAN RONNIE</th>\n",
       "      <td>NaN</td>\n",
       "      <td>NaN</td>\n",
       "      <td>NaN</td>\n",
       "      <td>NaN</td>\n",
       "      <td>NaN</td>\n",
       "      <td>NaN</td>\n",
       "      <td>NaN</td>\n",
       "      <td>-32460</td>\n",
       "      <td>-98784</td>\n",
       "      <td>NaN</td>\n",
       "      <td>NaN</td>\n",
       "      <td>NaN</td>\n",
       "      <td>NaN</td>\n",
       "      <td>NaN</td>\n",
       "      <td>NaN</td>\n",
       "      <td>NaN</td>\n",
       "      <td>False</td>\n",
       "      <td>NaN</td>\n",
       "      <td>NaN</td>\n",
       "      <td>32460</td>\n",
       "      <td>98784</td>\n",
       "    </tr>\n",
       "    <tr>\n",
       "      <th>DUNCAN JOHN H</th>\n",
       "      <td>NaN</td>\n",
       "      <td>NaN</td>\n",
       "      <td>NaN</td>\n",
       "      <td>77492</td>\n",
       "      <td>NaN</td>\n",
       "      <td>NaN</td>\n",
       "      <td>NaN</td>\n",
       "      <td>NaN</td>\n",
       "      <td>-25000</td>\n",
       "      <td>371750</td>\n",
       "      <td>NaN</td>\n",
       "      <td>NaN</td>\n",
       "      <td>371750</td>\n",
       "      <td>NaN</td>\n",
       "      <td>NaN</td>\n",
       "      <td>NaN</td>\n",
       "      <td>False</td>\n",
       "      <td>NaN</td>\n",
       "      <td>NaN</td>\n",
       "      <td>NaN</td>\n",
       "      <td>102492</td>\n",
       "    </tr>\n",
       "    <tr>\n",
       "      <th>GRAMM WENDY L</th>\n",
       "      <td>NaN</td>\n",
       "      <td>NaN</td>\n",
       "      <td>NaN</td>\n",
       "      <td>119292</td>\n",
       "      <td>NaN</td>\n",
       "      <td>NaN</td>\n",
       "      <td>NaN</td>\n",
       "      <td>NaN</td>\n",
       "      <td>NaN</td>\n",
       "      <td>NaN</td>\n",
       "      <td>NaN</td>\n",
       "      <td>NaN</td>\n",
       "      <td>NaN</td>\n",
       "      <td>NaN</td>\n",
       "      <td>NaN</td>\n",
       "      <td>NaN</td>\n",
       "      <td>False</td>\n",
       "      <td>NaN</td>\n",
       "      <td>NaN</td>\n",
       "      <td>NaN</td>\n",
       "      <td>119292</td>\n",
       "    </tr>\n",
       "    <tr>\n",
       "      <th>JAEDICKE ROBERT</th>\n",
       "      <td>NaN</td>\n",
       "      <td>NaN</td>\n",
       "      <td>NaN</td>\n",
       "      <td>83750</td>\n",
       "      <td>NaN</td>\n",
       "      <td>NaN</td>\n",
       "      <td>NaN</td>\n",
       "      <td>-44093</td>\n",
       "      <td>-25000</td>\n",
       "      <td>431750</td>\n",
       "      <td>NaN</td>\n",
       "      <td>NaN</td>\n",
       "      <td>431750</td>\n",
       "      <td>NaN</td>\n",
       "      <td>NaN</td>\n",
       "      <td>NaN</td>\n",
       "      <td>False</td>\n",
       "      <td>NaN</td>\n",
       "      <td>NaN</td>\n",
       "      <td>44093</td>\n",
       "      <td>108750</td>\n",
       "    </tr>\n",
       "    <tr>\n",
       "      <th>LEMAISTRE CHARLES</th>\n",
       "      <td>NaN</td>\n",
       "      <td>NaN</td>\n",
       "      <td>NaN</td>\n",
       "      <td>87492</td>\n",
       "      <td>NaN</td>\n",
       "      <td>NaN</td>\n",
       "      <td>NaN</td>\n",
       "      <td>NaN</td>\n",
       "      <td>-25000</td>\n",
       "      <td>412878</td>\n",
       "      <td>NaN</td>\n",
       "      <td>NaN</td>\n",
       "      <td>412878</td>\n",
       "      <td>NaN</td>\n",
       "      <td>NaN</td>\n",
       "      <td>NaN</td>\n",
       "      <td>False</td>\n",
       "      <td>NaN</td>\n",
       "      <td>NaN</td>\n",
       "      <td>NaN</td>\n",
       "      <td>112492</td>\n",
       "    </tr>\n",
       "    <tr>\n",
       "      <th>MENDELSOHN JOHN</th>\n",
       "      <td>NaN</td>\n",
       "      <td>NaN</td>\n",
       "      <td>NaN</td>\n",
       "      <td>148</td>\n",
       "      <td>NaN</td>\n",
       "      <td>NaN</td>\n",
       "      <td>NaN</td>\n",
       "      <td>NaN</td>\n",
       "      <td>-103750</td>\n",
       "      <td>NaN</td>\n",
       "      <td>148</td>\n",
       "      <td>NaN</td>\n",
       "      <td>NaN</td>\n",
       "      <td>NaN</td>\n",
       "      <td>NaN</td>\n",
       "      <td>NaN</td>\n",
       "      <td>False</td>\n",
       "      <td>NaN</td>\n",
       "      <td>NaN</td>\n",
       "      <td>NaN</td>\n",
       "      <td>103750</td>\n",
       "    </tr>\n",
       "    <tr>\n",
       "      <th>MEYER JEROME J</th>\n",
       "      <td>NaN</td>\n",
       "      <td>NaN</td>\n",
       "      <td>NaN</td>\n",
       "      <td>2151</td>\n",
       "      <td>NaN</td>\n",
       "      <td>NaN</td>\n",
       "      <td>NaN</td>\n",
       "      <td>NaN</td>\n",
       "      <td>-38346</td>\n",
       "      <td>NaN</td>\n",
       "      <td>2151</td>\n",
       "      <td>NaN</td>\n",
       "      <td>NaN</td>\n",
       "      <td>NaN</td>\n",
       "      <td>NaN</td>\n",
       "      <td>NaN</td>\n",
       "      <td>False</td>\n",
       "      <td>NaN</td>\n",
       "      <td>NaN</td>\n",
       "      <td>NaN</td>\n",
       "      <td>38346</td>\n",
       "    </tr>\n",
       "    <tr>\n",
       "      <th>PEREIRA PAULO V. FERRAZ</th>\n",
       "      <td>NaN</td>\n",
       "      <td>NaN</td>\n",
       "      <td>NaN</td>\n",
       "      <td>27942</td>\n",
       "      <td>NaN</td>\n",
       "      <td>NaN</td>\n",
       "      <td>NaN</td>\n",
       "      <td>NaN</td>\n",
       "      <td>-101250</td>\n",
       "      <td>NaN</td>\n",
       "      <td>27942</td>\n",
       "      <td>NaN</td>\n",
       "      <td>NaN</td>\n",
       "      <td>NaN</td>\n",
       "      <td>NaN</td>\n",
       "      <td>NaN</td>\n",
       "      <td>False</td>\n",
       "      <td>NaN</td>\n",
       "      <td>NaN</td>\n",
       "      <td>NaN</td>\n",
       "      <td>101250</td>\n",
       "    </tr>\n",
       "    <tr>\n",
       "      <th>POWERS WILLIAM</th>\n",
       "      <td>NaN</td>\n",
       "      <td>653</td>\n",
       "      <td>NaN</td>\n",
       "      <td>NaN</td>\n",
       "      <td>NaN</td>\n",
       "      <td>NaN</td>\n",
       "      <td>ken.powers@enron.com</td>\n",
       "      <td>NaN</td>\n",
       "      <td>-17500</td>\n",
       "      <td>NaN</td>\n",
       "      <td>NaN</td>\n",
       "      <td>0</td>\n",
       "      <td>NaN</td>\n",
       "      <td>26</td>\n",
       "      <td>NaN</td>\n",
       "      <td>0</td>\n",
       "      <td>False</td>\n",
       "      <td>NaN</td>\n",
       "      <td>12</td>\n",
       "      <td>NaN</td>\n",
       "      <td>17500</td>\n",
       "    </tr>\n",
       "    <tr>\n",
       "      <th>SAVAGE FRANK</th>\n",
       "      <td>NaN</td>\n",
       "      <td>NaN</td>\n",
       "      <td>NaN</td>\n",
       "      <td>3750</td>\n",
       "      <td>NaN</td>\n",
       "      <td>NaN</td>\n",
       "      <td>NaN</td>\n",
       "      <td>NaN</td>\n",
       "      <td>-121284</td>\n",
       "      <td>NaN</td>\n",
       "      <td>NaN</td>\n",
       "      <td>NaN</td>\n",
       "      <td>NaN</td>\n",
       "      <td>NaN</td>\n",
       "      <td>NaN</td>\n",
       "      <td>NaN</td>\n",
       "      <td>False</td>\n",
       "      <td>NaN</td>\n",
       "      <td>NaN</td>\n",
       "      <td>NaN</td>\n",
       "      <td>125034</td>\n",
       "    </tr>\n",
       "    <tr>\n",
       "      <th>TOTAL</th>\n",
       "      <td>26704229</td>\n",
       "      <td>NaN</td>\n",
       "      <td>32083396</td>\n",
       "      <td>309886585</td>\n",
       "      <td>83925000</td>\n",
       "      <td>97343619</td>\n",
       "      <td>NaN</td>\n",
       "      <td>-7576788</td>\n",
       "      <td>-27992891</td>\n",
       "      <td>434509511</td>\n",
       "      <td>5235198</td>\n",
       "      <td>NaN</td>\n",
       "      <td>311764000</td>\n",
       "      <td>NaN</td>\n",
       "      <td>42667589</td>\n",
       "      <td>NaN</td>\n",
       "      <td>False</td>\n",
       "      <td>48521928</td>\n",
       "      <td>NaN</td>\n",
       "      <td>130322299</td>\n",
       "      <td>1398517</td>\n",
       "    </tr>\n",
       "    <tr>\n",
       "      <th>URQUHART JOHN A</th>\n",
       "      <td>NaN</td>\n",
       "      <td>NaN</td>\n",
       "      <td>NaN</td>\n",
       "      <td>228656</td>\n",
       "      <td>NaN</td>\n",
       "      <td>NaN</td>\n",
       "      <td>NaN</td>\n",
       "      <td>NaN</td>\n",
       "      <td>-36666</td>\n",
       "      <td>NaN</td>\n",
       "      <td>228656</td>\n",
       "      <td>NaN</td>\n",
       "      <td>NaN</td>\n",
       "      <td>NaN</td>\n",
       "      <td>NaN</td>\n",
       "      <td>NaN</td>\n",
       "      <td>False</td>\n",
       "      <td>NaN</td>\n",
       "      <td>NaN</td>\n",
       "      <td>NaN</td>\n",
       "      <td>36666</td>\n",
       "    </tr>\n",
       "    <tr>\n",
       "      <th>WAKEHAM JOHN</th>\n",
       "      <td>NaN</td>\n",
       "      <td>NaN</td>\n",
       "      <td>NaN</td>\n",
       "      <td>213071</td>\n",
       "      <td>NaN</td>\n",
       "      <td>NaN</td>\n",
       "      <td>NaN</td>\n",
       "      <td>NaN</td>\n",
       "      <td>NaN</td>\n",
       "      <td>NaN</td>\n",
       "      <td>103773</td>\n",
       "      <td>NaN</td>\n",
       "      <td>NaN</td>\n",
       "      <td>NaN</td>\n",
       "      <td>NaN</td>\n",
       "      <td>NaN</td>\n",
       "      <td>False</td>\n",
       "      <td>NaN</td>\n",
       "      <td>NaN</td>\n",
       "      <td>NaN</td>\n",
       "      <td>109298</td>\n",
       "    </tr>\n",
       "    <tr>\n",
       "      <th>WINOKUR JR. HERBERT S</th>\n",
       "      <td>NaN</td>\n",
       "      <td>NaN</td>\n",
       "      <td>NaN</td>\n",
       "      <td>84992</td>\n",
       "      <td>NaN</td>\n",
       "      <td>NaN</td>\n",
       "      <td>NaN</td>\n",
       "      <td>NaN</td>\n",
       "      <td>-25000</td>\n",
       "      <td>NaN</td>\n",
       "      <td>1413</td>\n",
       "      <td>NaN</td>\n",
       "      <td>NaN</td>\n",
       "      <td>NaN</td>\n",
       "      <td>NaN</td>\n",
       "      <td>NaN</td>\n",
       "      <td>False</td>\n",
       "      <td>NaN</td>\n",
       "      <td>NaN</td>\n",
       "      <td>NaN</td>\n",
       "      <td>108579</td>\n",
       "    </tr>\n",
       "  </tbody>\n",
       "</table>\n",
       "</div>"
      ],
      "text/plain": [
       "                           salary to_messages deferral_payments  \\\n",
       "BELFER ROBERT                 NaN         NaN           -102500   \n",
       "BHATNAGAR SANJAY              NaN         523               NaN   \n",
       "BLAKE JR. NORMAN P            NaN         NaN               NaN   \n",
       "CHAN RONNIE                   NaN         NaN               NaN   \n",
       "DUNCAN JOHN H                 NaN         NaN               NaN   \n",
       "GRAMM WENDY L                 NaN         NaN               NaN   \n",
       "JAEDICKE ROBERT               NaN         NaN               NaN   \n",
       "LEMAISTRE CHARLES             NaN         NaN               NaN   \n",
       "MENDELSOHN JOHN               NaN         NaN               NaN   \n",
       "MEYER JEROME J                NaN         NaN               NaN   \n",
       "PEREIRA PAULO V. FERRAZ       NaN         NaN               NaN   \n",
       "POWERS WILLIAM                NaN         653               NaN   \n",
       "SAVAGE FRANK                  NaN         NaN               NaN   \n",
       "TOTAL                    26704229         NaN          32083396   \n",
       "URQUHART JOHN A               NaN         NaN               NaN   \n",
       "WAKEHAM JOHN                  NaN         NaN               NaN   \n",
       "WINOKUR JR. HERBERT S         NaN         NaN               NaN   \n",
       "\n",
       "                        total_payments loan_advances     bonus  \\\n",
       "BELFER ROBERT                   102500           NaN       NaN   \n",
       "BHATNAGAR SANJAY              15456290           NaN       NaN   \n",
       "BLAKE JR. NORMAN P                1279           NaN       NaN   \n",
       "CHAN RONNIE                        NaN           NaN       NaN   \n",
       "DUNCAN JOHN H                    77492           NaN       NaN   \n",
       "GRAMM WENDY L                   119292           NaN       NaN   \n",
       "JAEDICKE ROBERT                  83750           NaN       NaN   \n",
       "LEMAISTRE CHARLES                87492           NaN       NaN   \n",
       "MENDELSOHN JOHN                    148           NaN       NaN   \n",
       "MEYER JEROME J                    2151           NaN       NaN   \n",
       "PEREIRA PAULO V. FERRAZ          27942           NaN       NaN   \n",
       "POWERS WILLIAM                     NaN           NaN       NaN   \n",
       "SAVAGE FRANK                      3750           NaN       NaN   \n",
       "TOTAL                        309886585      83925000  97343619   \n",
       "URQUHART JOHN A                 228656           NaN       NaN   \n",
       "WAKEHAM JOHN                    213071           NaN       NaN   \n",
       "WINOKUR JR. HERBERT S            84992           NaN       NaN   \n",
       "\n",
       "                                      email_address restricted_stock_deferred  \\\n",
       "BELFER ROBERT                                   NaN                     44093   \n",
       "BHATNAGAR SANJAY         sanjay.bhatnagar@enron.com                  15456290   \n",
       "BLAKE JR. NORMAN P                              NaN                       NaN   \n",
       "CHAN RONNIE                                     NaN                    -32460   \n",
       "DUNCAN JOHN H                                   NaN                       NaN   \n",
       "GRAMM WENDY L                                   NaN                       NaN   \n",
       "JAEDICKE ROBERT                                 NaN                    -44093   \n",
       "LEMAISTRE CHARLES                               NaN                       NaN   \n",
       "MENDELSOHN JOHN                                 NaN                       NaN   \n",
       "MEYER JEROME J                                  NaN                       NaN   \n",
       "PEREIRA PAULO V. FERRAZ                         NaN                       NaN   \n",
       "POWERS WILLIAM                 ken.powers@enron.com                       NaN   \n",
       "SAVAGE FRANK                                    NaN                       NaN   \n",
       "TOTAL                                           NaN                  -7576788   \n",
       "URQUHART JOHN A                                 NaN                       NaN   \n",
       "WAKEHAM JOHN                                    NaN                       NaN   \n",
       "WINOKUR JR. HERBERT S                           NaN                       NaN   \n",
       "\n",
       "                        deferred_income total_stock_value expenses  \\\n",
       "BELFER ROBERT                       NaN            -44093      NaN   \n",
       "BHATNAGAR SANJAY                    NaN               NaN      NaN   \n",
       "BLAKE JR. NORMAN P              -113784               NaN     1279   \n",
       "CHAN RONNIE                      -98784               NaN      NaN   \n",
       "DUNCAN JOHN H                    -25000            371750      NaN   \n",
       "GRAMM WENDY L                       NaN               NaN      NaN   \n",
       "JAEDICKE ROBERT                  -25000            431750      NaN   \n",
       "LEMAISTRE CHARLES                -25000            412878      NaN   \n",
       "MENDELSOHN JOHN                 -103750               NaN      148   \n",
       "MEYER JEROME J                   -38346               NaN     2151   \n",
       "PEREIRA PAULO V. FERRAZ         -101250               NaN    27942   \n",
       "POWERS WILLIAM                   -17500               NaN      NaN   \n",
       "SAVAGE FRANK                    -121284               NaN      NaN   \n",
       "TOTAL                         -27992891         434509511  5235198   \n",
       "URQUHART JOHN A                  -36666               NaN   228656   \n",
       "WAKEHAM JOHN                        NaN               NaN   103773   \n",
       "WINOKUR JR. HERBERT S            -25000               NaN     1413   \n",
       "\n",
       "                        from_poi_to_this_person exercised_stock_options  \\\n",
       "BELFER ROBERT                               NaN                    3285   \n",
       "BHATNAGAR SANJAY                              0                 2604490   \n",
       "BLAKE JR. NORMAN P                          NaN                     NaN   \n",
       "CHAN RONNIE                                 NaN                     NaN   \n",
       "DUNCAN JOHN H                               NaN                  371750   \n",
       "GRAMM WENDY L                               NaN                     NaN   \n",
       "JAEDICKE ROBERT                             NaN                  431750   \n",
       "LEMAISTRE CHARLES                           NaN                  412878   \n",
       "MENDELSOHN JOHN                             NaN                     NaN   \n",
       "MEYER JEROME J                              NaN                     NaN   \n",
       "PEREIRA PAULO V. FERRAZ                     NaN                     NaN   \n",
       "POWERS WILLIAM                                0                     NaN   \n",
       "SAVAGE FRANK                                NaN                     NaN   \n",
       "TOTAL                                       NaN               311764000   \n",
       "URQUHART JOHN A                             NaN                     NaN   \n",
       "WAKEHAM JOHN                                NaN                     NaN   \n",
       "WINOKUR JR. HERBERT S                       NaN                     NaN   \n",
       "\n",
       "                        from_messages     other from_this_person_to_poi  \\\n",
       "BELFER ROBERT                     NaN       NaN                     NaN   \n",
       "BHATNAGAR SANJAY                   29    137864                       1   \n",
       "BLAKE JR. NORMAN P                NaN       NaN                     NaN   \n",
       "CHAN RONNIE                       NaN       NaN                     NaN   \n",
       "DUNCAN JOHN H                     NaN       NaN                     NaN   \n",
       "GRAMM WENDY L                     NaN       NaN                     NaN   \n",
       "JAEDICKE ROBERT                   NaN       NaN                     NaN   \n",
       "LEMAISTRE CHARLES                 NaN       NaN                     NaN   \n",
       "MENDELSOHN JOHN                   NaN       NaN                     NaN   \n",
       "MEYER JEROME J                    NaN       NaN                     NaN   \n",
       "PEREIRA PAULO V. FERRAZ           NaN       NaN                     NaN   \n",
       "POWERS WILLIAM                     26       NaN                       0   \n",
       "SAVAGE FRANK                      NaN       NaN                     NaN   \n",
       "TOTAL                             NaN  42667589                     NaN   \n",
       "URQUHART JOHN A                   NaN       NaN                     NaN   \n",
       "WAKEHAM JOHN                      NaN       NaN                     NaN   \n",
       "WINOKUR JR. HERBERT S             NaN       NaN                     NaN   \n",
       "\n",
       "                           poi long_term_incentive shared_receipt_with_poi  \\\n",
       "BELFER ROBERT            False                 NaN                     NaN   \n",
       "BHATNAGAR SANJAY         False                 NaN                     463   \n",
       "BLAKE JR. NORMAN P       False                 NaN                     NaN   \n",
       "CHAN RONNIE              False                 NaN                     NaN   \n",
       "DUNCAN JOHN H            False                 NaN                     NaN   \n",
       "GRAMM WENDY L            False                 NaN                     NaN   \n",
       "JAEDICKE ROBERT          False                 NaN                     NaN   \n",
       "LEMAISTRE CHARLES        False                 NaN                     NaN   \n",
       "MENDELSOHN JOHN          False                 NaN                     NaN   \n",
       "MEYER JEROME J           False                 NaN                     NaN   \n",
       "PEREIRA PAULO V. FERRAZ  False                 NaN                     NaN   \n",
       "POWERS WILLIAM           False                 NaN                      12   \n",
       "SAVAGE FRANK             False                 NaN                     NaN   \n",
       "TOTAL                    False            48521928                     NaN   \n",
       "URQUHART JOHN A          False                 NaN                     NaN   \n",
       "WAKEHAM JOHN             False                 NaN                     NaN   \n",
       "WINOKUR JR. HERBERT S    False                 NaN                     NaN   \n",
       "\n",
       "                        restricted_stock director_fees  \n",
       "BELFER ROBERT                        NaN          3285  \n",
       "BHATNAGAR SANJAY                -2604490        137864  \n",
       "BLAKE JR. NORMAN P                   NaN        113784  \n",
       "CHAN RONNIE                        32460         98784  \n",
       "DUNCAN JOHN H                        NaN        102492  \n",
       "GRAMM WENDY L                        NaN        119292  \n",
       "JAEDICKE ROBERT                    44093        108750  \n",
       "LEMAISTRE CHARLES                    NaN        112492  \n",
       "MENDELSOHN JOHN                      NaN        103750  \n",
       "MEYER JEROME J                       NaN         38346  \n",
       "PEREIRA PAULO V. FERRAZ              NaN        101250  \n",
       "POWERS WILLIAM                       NaN         17500  \n",
       "SAVAGE FRANK                         NaN        125034  \n",
       "TOTAL                          130322299       1398517  \n",
       "URQUHART JOHN A                      NaN         36666  \n",
       "WAKEHAM JOHN                         NaN        109298  \n",
       "WINOKUR JR. HERBERT S                NaN        108579  "
      ]
     },
     "execution_count": 12,
     "metadata": {},
     "output_type": "execute_result"
    }
   ],
   "source": [
    "dataset[dataset['director_fees']!='NaN']"
   ]
  },
  {
   "cell_type": "markdown",
   "metadata": {},
   "source": [
    "# Converting string \"NaN\" to numpy.NaN"
   ]
  },
  {
   "cell_type": "code",
   "execution_count": 13,
   "metadata": {},
   "outputs": [],
   "source": [
    "#some 'NaN' in string type instead of numerical or numpy type, \n",
    "#causes some troubles when plotting data or using some classifier. \n",
    "#Due to this, the next step is to scan the dataset for 'NaN' string \n",
    "#and replace it by numpy.NaN.\n",
    "\n",
    "for column in dataset.columns:\n",
    "    dataset[column] = dataset[column].apply(lambda x: np.NaN if x == 'NaN' else x)"
   ]
  },
  {
   "cell_type": "code",
   "execution_count": 14,
   "metadata": {},
   "outputs": [
    {
     "name": "stdout",
     "output_type": "stream",
     "text": [
      "<class 'pandas.core.frame.DataFrame'>\n",
      "Index: 146 entries, ALLEN PHILLIP K to YEAP SOON\n",
      "Data columns (total 21 columns):\n",
      "salary                       95 non-null float64\n",
      "to_messages                  86 non-null float64\n",
      "deferral_payments            39 non-null float64\n",
      "total_payments               125 non-null float64\n",
      "loan_advances                4 non-null float64\n",
      "bonus                        82 non-null float64\n",
      "email_address                111 non-null object\n",
      "restricted_stock_deferred    18 non-null float64\n",
      "deferred_income              49 non-null float64\n",
      "total_stock_value            126 non-null float64\n",
      "expenses                     95 non-null float64\n",
      "from_poi_to_this_person      86 non-null float64\n",
      "exercised_stock_options      102 non-null float64\n",
      "from_messages                86 non-null float64\n",
      "other                        93 non-null float64\n",
      "from_this_person_to_poi      86 non-null float64\n",
      "poi                          146 non-null bool\n",
      "long_term_incentive          66 non-null float64\n",
      "shared_receipt_with_poi      86 non-null float64\n",
      "restricted_stock             110 non-null float64\n",
      "director_fees                17 non-null float64\n",
      "dtypes: bool(1), float64(19), object(1)\n",
      "memory usage: 29.1+ KB\n"
     ]
    }
   ],
   "source": [
    "## Checking the dataset information:\n",
    "dataset.info()"
   ]
  },
  {
   "cell_type": "markdown",
   "metadata": {},
   "source": [
    "# Counting valid data"
   ]
  },
  {
   "cell_type": "code",
   "execution_count": 15,
   "metadata": {},
   "outputs": [],
   "source": [
    "#In order to select the most appropriate features \n",
    "#to explore, we will look for those that are present \n",
    "#at least in 70% of the dataset. There are 21 features\n",
    "#(from which 70% is 15 features), we will first observe\n",
    "#which instances have more than 15 not null values and\n",
    "#choose the most complete features from this selection.\n",
    "\n",
    "notNullDataset = dataset.dropna(thresh=15)\n",
    "\n",
    "#thresh : int, optional\n",
    "#Require that many non-NA values."
   ]
  },
  {
   "cell_type": "code",
   "execution_count": 16,
   "metadata": {},
   "outputs": [
    {
     "name": "stdout",
     "output_type": "stream",
     "text": [
      "<class 'pandas.core.frame.DataFrame'>\n",
      "Index: 58 entries, ALLEN PHILLIP K to WHALLEY LAWRENCE G\n",
      "Data columns (total 21 columns):\n",
      "salary                       58 non-null float64\n",
      "to_messages                  57 non-null float64\n",
      "deferral_payments            16 non-null float64\n",
      "total_payments               58 non-null float64\n",
      "loan_advances                3 non-null float64\n",
      "bonus                        54 non-null float64\n",
      "email_address                57 non-null object\n",
      "restricted_stock_deferred    7 non-null float64\n",
      "deferred_income              26 non-null float64\n",
      "total_stock_value            57 non-null float64\n",
      "expenses                     52 non-null float64\n",
      "from_poi_to_this_person      57 non-null float64\n",
      "exercised_stock_options      51 non-null float64\n",
      "from_messages                57 non-null float64\n",
      "other                        58 non-null float64\n",
      "from_this_person_to_poi      57 non-null float64\n",
      "poi                          58 non-null bool\n",
      "long_term_incentive          46 non-null float64\n",
      "shared_receipt_with_poi      57 non-null float64\n",
      "restricted_stock             57 non-null float64\n",
      "director_fees                1 non-null float64\n",
      "dtypes: bool(1), float64(19), object(1)\n",
      "memory usage: 9.6+ KB\n"
     ]
    }
   ],
   "source": [
    "notNullDataset.info()"
   ]
  },
  {
   "cell_type": "code",
   "execution_count": 17,
   "metadata": {},
   "outputs": [],
   "source": [
    "#From the output above, the features named deferral_payments; \n",
    "#restricted_stock_deferred; and director_fees are removed. \n",
    "#Doing so the pre-selected features list can be defined accordingly \n",
    "#to its context:\n",
    "\n",
    "## Only numerical features are being considered here\n",
    "financialFeatures = ['salary','bonus', 'exercised_stock_options', 'restricted_stock', 'shared_receipt_with_poi',\n",
    "                     'total_payments', 'expenses', 'total_stock_value', 'deferred_income', 'long_term_incentive']\n",
    "\n",
    "behavioralFeatures = ['to_messages', 'from_messages', 'from_poi_to_this_person', 'from_this_person_to_poi', 'other']\n",
    "\n",
    "allFeatures = ['poi','salary','bonus', 'exercised_stock_options', 'restricted_stock', 'shared_receipt_with_poi',\n",
    "               'total_payments', 'expenses', 'total_stock_value', 'deferred_income', 'long_term_incentive',\n",
    "               'to_messages', 'from_messages', 'from_poi_to_this_person', 'from_this_person_to_poi', 'other']"
   ]
  },
  {
   "cell_type": "code",
   "execution_count": 18,
   "metadata": {},
   "outputs": [],
   "source": [
    "#in the feature_format() method the \"NaN\" strings are \n",
    "#replaced by zeros, we need to make this adjustment here.\n",
    "\n",
    "dataset.fillna(0,inplace=True)"
   ]
  },
  {
   "cell_type": "markdown",
   "metadata": {},
   "source": [
    "# Visualizing data by features"
   ]
  },
  {
   "cell_type": "code",
   "execution_count": 19,
   "metadata": {},
   "outputs": [],
   "source": [
    "#to visualize how the data is distributed accordingly \n",
    "#to each feature, as well as identifying outliers \n",
    "#through visual inspection."
   ]
  },
  {
   "cell_type": "code",
   "execution_count": 20,
   "metadata": {},
   "outputs": [],
   "source": [
    "#The function is useful to get information for only one variable.\n",
    "\n",
    "def visualizeFeat(series, figsize):\n",
    "    ''' series = pandas.series, which can be inputed as \"dataframe['feature']\n",
    "        figsize = (width,length)'''\n",
    "    fig, axes = plt.subplots(2,1,figsize=figsize, sharex=True)\n",
    "    series.plot(kind='kde', ax=axes[0])\n",
    "    sns.boxplot(x=series, ax=axes[1])\n",
    "    plt.xlim(series.min(), series.max()*1.1)\n",
    "    return"
   ]
  },
  {
   "cell_type": "code",
   "execution_count": 21,
   "metadata": {},
   "outputs": [],
   "source": [
    "#To explore the whole dataset (or at least a good chunk of it), \n",
    "#we will code a function to show them all:\n",
    "\n",
    "def visualize3Feats(dataset, features):\n",
    "    '''Shows the distribution and the boxplot for the given features of a pandas.Dataframe:\n",
    "        dataset = pandas dataframe.\n",
    "        features = list of features of interest'''\n",
    "    ## Building the Figure:\n",
    "    fig, axes = plt.subplots(2,3,figsize=(20,20), sharex=False)\n",
    "    for col, feat in enumerate(features):\n",
    "        dataset[feat].plot(kind='kde', ax=axes[0,col])\n",
    "        sns.boxplot(x=dataset[feat], ax=axes[1,col])\n",
    "        axes[0,col].set_xlim(dataset[feat].min(), dataset[feat].max()*1.1);\n",
    "        axes[1,col].set_xlim(dataset[feat].min(), dataset[feat].max()*1.1);\n",
    "    return"
   ]
  },
  {
   "cell_type": "code",
   "execution_count": 22,
   "metadata": {},
   "outputs": [
    {
     "data": {
      "image/png": "[encoded data removed]",
      "text/plain": [
       "<Figure size 1440x1440 with 6 Axes>"
      ]
     },
     "metadata": {},
     "output_type": "display_data"
    },
    {
     "data": {
      "image/png": "[encoded data removed]",
      "text/plain": [
       "<Figure size 1440x1440 with 6 Axes>"
      ]
     },
     "metadata": {},
     "output_type": "display_data"
    },
    {
     "data": {
      "image/png": "[encoded data removed]",
      "text/plain": [
       "<Figure size 1440x1440 with 6 Axes>"
      ]
     },
     "metadata": {},
     "output_type": "display_data"
    },
    {
     "data": {
      "image/png": "[encoded data removed]",
      "text/plain": [
       "<Figure size 1440x1440 with 6 Axes>"
      ]
     },
     "metadata": {},
     "output_type": "display_data"
    }
   ],
   "source": [
    "### Visualizing financial features:\n",
    "numPlots = int(np.ceil(len(financialFeatures)/3.))\n",
    "for i in range(numPlots):\n",
    "    shift = i*3\n",
    "    visualize3Feats(dataset,financialFeatures[0+shift:3+shift])"
   ]
  },
  {
   "cell_type": "markdown",
   "metadata": {},
   "source": [
    "# Removing TOTAL instance"
   ]
  },
  {
   "cell_type": "code",
   "execution_count": 23,
   "metadata": {},
   "outputs": [],
   "source": [
    "#the \"TOTAL\" instance must be removed, \n",
    "#since we are interested only on POIs.\n",
    "dataset.drop('TOTAL',inplace=True)  \n",
    "#Removing the anomalous instance"
   ]
  },
  {
   "cell_type": "markdown",
   "metadata": {},
   "source": [
    "# Checking the class distribution"
   ]
  },
  {
   "cell_type": "code",
   "execution_count": 24,
   "metadata": {},
   "outputs": [
    {
     "data": {
      "text/plain": [
       "False    127\n",
       "True      18\n",
       "Name: poi, dtype: int64"
      ]
     },
     "execution_count": 24,
     "metadata": {},
     "output_type": "execute_result"
    }
   ],
   "source": [
    "## Counting the POI and Non POI instances\n",
    "dataset['poi'].value_counts()"
   ]
  },
  {
   "cell_type": "markdown",
   "metadata": {},
   "source": [
    "# Stratified data split"
   ]
  },
  {
   "cell_type": "code",
   "execution_count": 25,
   "metadata": {},
   "outputs": [],
   "source": [
    "#our data is unbalanced and so it is important to split \n",
    "#data in a stratified way, i.e., each subset must have \n",
    "#the same proportion of each class.\n",
    "\n",
    "from sklearn.model_selection import train_test_split\n",
    "#from sklearn.cross_validation import train_test_split"
   ]
  },
  {
   "cell_type": "code",
   "execution_count": 26,
   "metadata": {},
   "outputs": [],
   "source": [
    "## For pandas.Dataframe the train_test_split is given in a straight way:\n",
    "trainData, testData = train_test_split(dataset, test_size=0.3, random_state=42, stratify=dataset['poi'])\n",
    "\n",
    "#stratify : array-like or None (default=None)\n",
    "#If not None, data is split in a stratified fashion, \n",
    "#using this as the class labels."
   ]
  },
  {
   "cell_type": "code",
   "execution_count": 27,
   "metadata": {},
   "outputs": [
    {
     "name": "stderr",
     "output_type": "stream",
     "text": [
      "C:\\Users\\dhruv.aggarwal\\AppData\\Local\\Continuum\\anaconda3\\lib\\site-packages\\ipykernel_launcher.py:4: SettingWithCopyWarning: \n",
      "A value is trying to be set on a copy of a slice from a DataFrame.\n",
      "Try using .loc[row_indexer,col_indexer] = value instead\n",
      "\n",
      "See the caveats in the documentation: http://pandas.pydata.org/pandas-docs/stable/indexing.html#indexing-view-versus-copy\n",
      "  after removing the cwd from sys.path.\n",
      "C:\\Users\\dhruv.aggarwal\\AppData\\Local\\Continuum\\anaconda3\\lib\\site-packages\\ipykernel_launcher.py:6: SettingWithCopyWarning: \n",
      "A value is trying to be set on a copy of a slice from a DataFrame.\n",
      "Try using .loc[row_indexer,col_indexer] = value instead\n",
      "\n",
      "See the caveats in the documentation: http://pandas.pydata.org/pandas-docs/stable/indexing.html#indexing-view-versus-copy\n",
      "  \n"
     ]
    }
   ],
   "source": [
    "## Converting boolean data into int:\n",
    "dataset['poi'] = dataset['poi'].apply(lambda x: int(x))\n",
    "\n",
    "trainData['poi'] = trainData['poi'].apply(lambda x: int(x))\n",
    "\n",
    "testData['poi'] = testData['poi'].apply(lambda x: int(x))"
   ]
  },
  {
   "cell_type": "code",
   "execution_count": 28,
   "metadata": {},
   "outputs": [
    {
     "data": {
      "image/png": "[encoded data removed]",
      "text/plain": [
       "<Figure size 1080x216 with 3 Axes>"
      ]
     },
     "metadata": {},
     "output_type": "display_data"
    }
   ],
   "source": [
    "## Evaluating the class distribution:\n",
    "fig2, axes2 = plt.subplots(1,3,figsize=(15,3), sharex=False);\n",
    "\n",
    "dataset['poi'].plot(kind='hist', ax=axes2[0], title='Total dataset');\n",
    "\n",
    "trainData['poi'].plot(kind='hist', ax=axes2[1], title='Train subset');\n",
    "\n",
    "testData['poi'].plot(kind='hist', ax=axes2[2], title='Test subset');"
   ]
  },
  {
   "cell_type": "markdown",
   "metadata": {},
   "source": [
    "# Feature extraction"
   ]
  },
  {
   "cell_type": "markdown",
   "metadata": {},
   "source": [
    "## Verifying correlation among features"
   ]
  },
  {
   "cell_type": "code",
   "execution_count": 29,
   "metadata": {},
   "outputs": [
    {
     "data": {
      "image/png": "[encoded data removed]",
      "text/plain": [
       "<Figure size 1008x720 with 2 Axes>"
      ]
     },
     "metadata": {},
     "output_type": "display_data"
    }
   ],
   "source": [
    "## Calculating the correlation among features by Pearson method\n",
    "correlationDataframe = dataset[allFeatures].corr()\n",
    "\n",
    "# Drawing a heatmap with the numeric values in each cell\n",
    "fig1, ax = plt.subplots(figsize=(14,10))\n",
    "fig1.subplots_adjust(top=.945)\n",
    "plt.suptitle('Features correlation from the Enron POI dataset', fontsize=14, fontweight='bold')\n",
    "\n",
    "cbar_kws = {'orientation':\"vertical\", 'pad':0.025, 'aspect':70}\n",
    "sns.heatmap(correlationDataframe, annot=True, fmt='.2f', linewidths=.3, ax=ax, cbar_kws=cbar_kws);"
   ]
  },
  {
   "cell_type": "markdown",
   "metadata": {},
   "source": [
    "# Applying PCA on correlated features to generate a new one"
   ]
  },
  {
   "cell_type": "code",
   "execution_count": 30,
   "metadata": {},
   "outputs": [],
   "source": [
    "# the financial features are highly correlated, \n",
    "#we will apply PCA to generate an only one new \n",
    "#feature from them.\n",
    "\n",
    "from sklearn.decomposition import PCA"
   ]
  },
  {
   "cell_type": "code",
   "execution_count": 31,
   "metadata": {},
   "outputs": [
    {
     "data": {
      "text/plain": [
       "['salary',\n",
       " 'bonus',\n",
       " 'exercised_stock_options',\n",
       " 'restricted_stock',\n",
       " 'shared_receipt_with_poi',\n",
       " 'total_payments',\n",
       " 'expenses',\n",
       " 'total_stock_value',\n",
       " 'deferred_income',\n",
       " 'long_term_incentive']"
      ]
     },
     "execution_count": 31,
     "metadata": {},
     "output_type": "execute_result"
    }
   ],
   "source": [
    "## Listing the financial features\n",
    "financialFeatures"
   ]
  },
  {
   "cell_type": "code",
   "execution_count": 32,
   "metadata": {},
   "outputs": [
    {
     "data": {
      "text/plain": [
       "PCA(copy=True, iterated_power='auto', n_components=1, random_state=None,\n",
       "  svd_solver='auto', tol=0.0, whiten=False)"
      ]
     },
     "execution_count": 32,
     "metadata": {},
     "output_type": "execute_result"
    }
   ],
   "source": [
    "## Defining only one resulting component:\n",
    "pca = PCA(n_components=1)\n",
    "pca.fit(dataset[financialFeatures])\n",
    "\n",
    "#class sklearn.decomposition.PCA(n_components=None, copy=True, whiten=False, svd_solver=’auto’, tol=0.0, iterated_power=’auto’, random_state=None)\n",
    "\n",
    "#n_components : int, float, None or string\n",
    "#Number of components to keep. \n",
    "#if n_components is not set all components are kept"
   ]
  },
  {
   "cell_type": "code",
   "execution_count": 33,
   "metadata": {},
   "outputs": [],
   "source": [
    "pcaComponents = pca.fit_transform(dataset[financialFeatures])"
   ]
  },
  {
   "cell_type": "code",
   "execution_count": 34,
   "metadata": {},
   "outputs": [],
   "source": [
    "dataset['financial'] = pcaComponents"
   ]
  },
  {
   "cell_type": "code",
   "execution_count": 35,
   "metadata": {},
   "outputs": [
    {
     "name": "stderr",
     "output_type": "stream",
     "text": [
      "C:\\Users\\dhruv.aggarwal\\AppData\\Local\\Continuum\\anaconda3\\lib\\site-packages\\scipy\\stats\\stats.py:1713: FutureWarning: Using a non-tuple sequence for multidimensional indexing is deprecated; use `arr[tuple(seq)]` instead of `arr[seq]`. In the future this will be interpreted as an array index, `arr[np.array(seq)]`, which will result either in an error or a different result.\n",
      "  return np.add.reduce(sorted[indexer] * weights, axis=axis) / sumval\n"
     ]
    },
    {
     "data": {
      "image/png": "[encoded data removed]",
      "text/plain": [
       "<Figure size 402.375x360 with 6 Axes>"
      ]
     },
     "metadata": {},
     "output_type": "display_data"
    }
   ],
   "source": [
    "sns.pairplot(dataset,hue='poi',vars=['salary','bonus'], diag_kind='kde');\n",
    "\n",
    "#Plot pairwise relationships in a dataset.\n",
    "\n",
    "#hue : string (variable name), optional\n",
    "#Variable in data to map plot aspects to different colors.\n",
    "\n",
    "#vars : list of variable names, optional\n",
    "#Variables within data to use, otherwise use every column with a numeric datatype."
   ]
  },
  {
   "cell_type": "code",
   "execution_count": 36,
   "metadata": {},
   "outputs": [
    {
     "name": "stderr",
     "output_type": "stream",
     "text": [
      "C:\\Users\\dhruv.aggarwal\\AppData\\Local\\Continuum\\anaconda3\\lib\\site-packages\\scipy\\stats\\stats.py:1713: FutureWarning: Using a non-tuple sequence for multidimensional indexing is deprecated; use `arr[tuple(seq)]` instead of `arr[seq]`. In the future this will be interpreted as an array index, `arr[np.array(seq)]`, which will result either in an error or a different result.\n",
      "  return np.add.reduce(sorted[indexer] * weights, axis=axis) / sumval\n"
     ]
    },
    {
     "data": {
      "image/png": "[encoded data removed]",
      "text/plain": [
       "<Figure size 402.375x360 with 6 Axes>"
      ]
     },
     "metadata": {},
     "output_type": "display_data"
    }
   ],
   "source": [
    "sns.pairplot(dataset,hue='poi',vars=['salary','financial'], diag_kind='kde');"
   ]
  },
  {
   "cell_type": "markdown",
   "metadata": {},
   "source": [
    "# Univariate feature selection"
   ]
  },
  {
   "cell_type": "code",
   "execution_count": 37,
   "metadata": {},
   "outputs": [],
   "source": [
    "## Adding up the new 'financial' feature to the 'allFeatures' list:\n",
    "allFeatures.append('financial')\n",
    "financialFeatures.append('financial')"
   ]
  },
  {
   "cell_type": "code",
   "execution_count": 38,
   "metadata": {},
   "outputs": [
    {
     "data": {
      "text/plain": [
       "['poi',\n",
       " 'salary',\n",
       " 'bonus',\n",
       " 'exercised_stock_options',\n",
       " 'restricted_stock',\n",
       " 'shared_receipt_with_poi',\n",
       " 'total_payments',\n",
       " 'expenses',\n",
       " 'total_stock_value',\n",
       " 'deferred_income',\n",
       " 'long_term_incentive',\n",
       " 'to_messages',\n",
       " 'from_messages',\n",
       " 'from_poi_to_this_person',\n",
       " 'from_this_person_to_poi',\n",
       " 'other',\n",
       " 'financial']"
      ]
     },
     "execution_count": 38,
     "metadata": {},
     "output_type": "execute_result"
    }
   ],
   "source": [
    "allFeatures"
   ]
  },
  {
   "cell_type": "code",
   "execution_count": 39,
   "metadata": {},
   "outputs": [
    {
     "data": {
      "text/plain": [
       "SelectPercentile(percentile=5,\n",
       "         score_func=<function f_classif at 0x000001F5AD97FA60>)"
      ]
     },
     "execution_count": 39,
     "metadata": {},
     "output_type": "execute_result"
    }
   ],
   "source": [
    "#an univariate feature selection is applied.\n",
    "\n",
    "from sklearn.feature_selection import SelectPercentile, f_classif\n",
    "\n",
    "selectorDataset = dataset[financialFeatures]\n",
    "selectorLabel = dataset['poi']\n",
    "\n",
    "# #############################################################################\n",
    "# Univariate feature selection with F-test for feature scoring\n",
    "# We use the default selection function: the 5% most significant features\n",
    "selector = SelectPercentile(f_classif, percentile=5)\n",
    "#sklearn.feature_selection.SelectPercentile(score_func=<function f_classif>, percentile=10)[source]\n",
    "#Select features according to a percentile of the highest scores.\n",
    "\n",
    "#percentile : int, optional, default=10\n",
    "#Percent of features to keep.\n",
    "\n",
    "selector.fit(selectorDataset, selectorLabel)\n",
    "#Run score function on (X, y) and get the appropriate features."
   ]
  },
  {
   "cell_type": "code",
   "execution_count": 40,
   "metadata": {},
   "outputs": [
    {
     "data": {
      "text/plain": [
       "<BarContainer object of 11 artists>"
      ]
     },
     "execution_count": 40,
     "metadata": {},
     "output_type": "execute_result"
    },
    {
     "data": {
      "image/png": "[encoded data removed]",
      "text/plain": [
       "<Figure size 432x288 with 1 Axes>"
      ]
     },
     "metadata": {},
     "output_type": "display_data"
    }
   ],
   "source": [
    "## Plotting the features selection: \n",
    "X_indices = np.arange(selectorDataset.shape[-1])\n",
    "scores = -np.log10(selector.pvalues_)\n",
    "scores /= scores.max()\n",
    "plt.bar(X_indices, scores, width=.2,\n",
    "        label=r'Univariate score ($-Log(p_{value})$)', color='darkorange',\n",
    "        edgecolor='black')"
   ]
  },
  {
   "cell_type": "code",
   "execution_count": 41,
   "metadata": {},
   "outputs": [
    {
     "data": {
      "text/plain": [
       "11"
      ]
     },
     "execution_count": 41,
     "metadata": {},
     "output_type": "execute_result"
    }
   ],
   "source": [
    "len(scores)"
   ]
  },
  {
   "cell_type": "code",
   "execution_count": 42,
   "metadata": {},
   "outputs": [
    {
     "name": "stdout",
     "output_type": "stream",
     "text": [
      "salary :  0.7818686344960931\n",
      "bonus :  0.8657013901313363\n",
      "exercised_stock_options :  1.0\n",
      "restricted_stock :  0.4447590111988349\n",
      "shared_receipt_with_poi :  0.4228079784855426\n",
      "total_payments :  0.42525219924626906\n",
      "expenses :  0.32408364888457886\n",
      "total_stock_value :  0.9794654890133486\n",
      "deferred_income :  0.5288269433859027\n",
      "long_term_incentive :  0.472735821399702\n",
      "financial :  0.759729734365803\n"
     ]
    }
   ],
   "source": [
    "## Printing out the selected financial features: \n",
    "selectedFeatures = ['poi']  #'poi' must be the first one due to the evaluation methods defined by Udacity.\n",
    "for ix, pval in enumerate(scores):\n",
    "    print(financialFeatures[ix],': ',pval)\n",
    "    if (pval >= 0.45):\n",
    "        selectedFeatures.append(financialFeatures[ix])"
   ]
  },
  {
   "cell_type": "code",
   "execution_count": 43,
   "metadata": {},
   "outputs": [
    {
     "data": {
      "text/plain": [
       "['poi',\n",
       " 'salary',\n",
       " 'bonus',\n",
       " 'exercised_stock_options',\n",
       " 'total_stock_value',\n",
       " 'deferred_income',\n",
       " 'long_term_incentive',\n",
       " 'financial']"
      ]
     },
     "execution_count": 43,
     "metadata": {},
     "output_type": "execute_result"
    }
   ],
   "source": [
    "selectedFeatures"
   ]
  },
  {
   "cell_type": "markdown",
   "metadata": {},
   "source": [
    "# Alternative feature selection"
   ]
  },
  {
   "cell_type": "markdown",
   "metadata": {},
   "source": [
    "\n",
    "Since the PCA applied to the financial features creates a \n",
    "new variable ('financial') which contains the most important\n",
    "components of the others, one alternative is to append it to \n",
    "the behavioral features selected before, in what we call \n",
    "strategicFeatures. \n",
    "\n",
    "Now we will evaluate the performance of applying machine \n",
    "learning in this two classes of features.\n"
   ]
  },
  {
   "cell_type": "code",
   "execution_count": 44,
   "metadata": {},
   "outputs": [],
   "source": [
    "strategicFeatures = ['poi'] + behavioralFeatures + ['financial']"
   ]
  },
  {
   "cell_type": "code",
   "execution_count": 45,
   "metadata": {},
   "outputs": [
    {
     "data": {
      "text/plain": [
       "['poi',\n",
       " 'to_messages',\n",
       " 'from_messages',\n",
       " 'from_poi_to_this_person',\n",
       " 'from_this_person_to_poi',\n",
       " 'other',\n",
       " 'financial']"
      ]
     },
     "execution_count": 45,
     "metadata": {},
     "output_type": "execute_result"
    }
   ],
   "source": [
    "strategicFeatures"
   ]
  },
  {
   "cell_type": "markdown",
   "metadata": {},
   "source": [
    "# Feature scaling"
   ]
  },
  {
   "cell_type": "markdown",
   "metadata": {},
   "source": [
    "Besides some of the machine learning algorithms chosen \n",
    "for this analysis (Naive Bayes and Adaboost) are \n",
    "invariant to feature scaling\n",
    "\n",
    "we are also interested in using SVM it is important \n",
    "to apply feature scaling in our dataset. Furthermore, \n",
    "the \"strategicFeatures\" mixes two types of data, \n",
    "the financial data from PCA and the behavioral \n",
    "data from the number of emails sent."
   ]
  },
  {
   "cell_type": "code",
   "execution_count": 46,
   "metadata": {},
   "outputs": [
    {
     "name": "stderr",
     "output_type": "stream",
     "text": [
      "C:\\Users\\dhruv.aggarwal\\AppData\\Local\\Continuum\\anaconda3\\lib\\site-packages\\sklearn\\preprocessing\\data.py:323: DataConversionWarning: Data with input dtype int64, float64 were all converted to float64 by MinMaxScaler.\n",
      "  return self.partial_fit(X, y)\n"
     ]
    }
   ],
   "source": [
    "from sklearn.preprocessing import MinMaxScaler\n",
    "#Transforms features by scaling each feature to a given range.\n",
    "\n",
    "scaler = MinMaxScaler()\n",
    "scaler.fit(dataset[allFeatures])\n",
    "#Compute the minimum and maximum to be used for later scaling.\n",
    "\n",
    "dataset[allFeatures] = scaler.transform(dataset[allFeatures])\n",
    "#Fit to data, then transform it."
   ]
  },
  {
   "cell_type": "markdown",
   "metadata": {},
   "source": [
    "# Machine Learning"
   ]
  },
  {
   "cell_type": "markdown",
   "metadata": {},
   "source": [
    "We select some classification algorithms to apply\n",
    "on the features we extracted from our dataset. \n",
    "After applying each of the selected machine \n",
    "learning algorithms -- naive Bayes; Adaboost \n",
    "with decision trees; and SVM -- it is important \n",
    "to evaluate its classification results. \n",
    "\n",
    "Considering we have an unbalanced dataset, i.e. \n",
    "the number of samples for each class are distinct,\n",
    "we cannot use accuracy for measuring its performance. \n",
    "In this case we choose precision and recall for \n",
    "performance measurements."
   ]
  },
  {
   "cell_type": "code",
   "execution_count": 47,
   "metadata": {},
   "outputs": [],
   "source": [
    "## Converting back the pandas Dataframe to the \n",
    "#dictionary structure, in order to use the Udacity evaluating code.\n",
    "\n",
    "my_dataset = dataset.to_dict(orient='index')\n",
    "features_list = selectedFeatures\n",
    "\n",
    "#features_list = strategicFeatures\n",
    "\n",
    "### Extract features and labels from dataset \n",
    "#for local testing\n",
    "\n",
    "data = featureFormat(my_dataset, features_list, sort_keys = True)\n",
    "labels, features = targetFeatureSplit(data)"
   ]
  },
  {
   "cell_type": "code",
   "execution_count": 48,
   "metadata": {},
   "outputs": [],
   "source": [
    "## Splitting the data:\n",
    "# Example starting point. \n",
    "#Try investigating other evaluation techniques!\n",
    "\n",
    "from sklearn.model_selection import train_test_split\n",
    "features_train, features_test, labels_train, labels_test = \\\n",
    "    train_test_split(features, labels, test_size=0.3, random_state=42)"
   ]
  },
  {
   "cell_type": "code",
   "execution_count": 49,
   "metadata": {},
   "outputs": [],
   "source": [
    "## Defining an evaluation metric based on \n",
    "#(http://scikit-learn.org/stable/modules/model_evaluation.html)\n",
    "\n",
    "from sklearn.metrics import classification_report\n",
    "def evaluateClassif(clf):\n",
    "    classes=['Non-POI','POI']  ## Defining the classes labels\n",
    "    predTrain = clf.predict(features_train)\n",
    "    print('################### Training data ##################')\n",
    "    print(classification_report(labels_train, predTrain, target_names=classes))\n",
    "    \n",
    "    predTest = clf.predict(features_test)\n",
    "    print('################### Testing data ###################')\n",
    "    print(classification_report(labels_test, predTest, target_names=classes))\n",
    "    \n",
    "    return"
   ]
  },
  {
   "cell_type": "code",
   "execution_count": 50,
   "metadata": {},
   "outputs": [],
   "source": [
    "## Importing GridSearch algorithm for parameter selection:\n",
    "from sklearn.model_selection import GridSearchCV"
   ]
  },
  {
   "cell_type": "markdown",
   "metadata": {},
   "source": [
    "# Naive Bayes classifier"
   ]
  },
  {
   "cell_type": "code",
   "execution_count": 51,
   "metadata": {},
   "outputs": [],
   "source": [
    "### Please name your classifier clf for easy export below.\n",
    "### Note that if you want to do PCA or other multi-stage operations,\n",
    "### you'll need to use Pipelines. \n",
    "#For more info:\n",
    "### http://scikit-learn.org/stable/modules/pipeline.html\n",
    "\n",
    "from sklearn.naive_bayes import GaussianNB\n",
    "nb = GaussianNB()\n",
    "nb_parameters = {}"
   ]
  },
  {
   "cell_type": "code",
   "execution_count": 52,
   "metadata": {},
   "outputs": [
    {
     "name": "stderr",
     "output_type": "stream",
     "text": [
      "C:\\Users\\dhruv.aggarwal\\AppData\\Local\\Continuum\\anaconda3\\lib\\site-packages\\sklearn\\model_selection\\_split.py:2053: FutureWarning: You should specify a value for 'cv' instead of relying on the default value. The default value will change from 3 to 5 in version 0.22.\n",
      "  warnings.warn(CV_WARNING, FutureWarning)\n",
      "C:\\Users\\dhruv.aggarwal\\AppData\\Local\\Continuum\\anaconda3\\lib\\site-packages\\sklearn\\model_selection\\_search.py:841: DeprecationWarning: The default of the `iid` parameter will change from True to False in version 0.22 and will be removed in 0.24. This will change numeric results when test-set sizes are unequal.\n",
      "  DeprecationWarning)\n"
     ]
    },
    {
     "data": {
      "text/plain": [
       "GridSearchCV(cv='warn', error_score='raise-deprecating',\n",
       "       estimator=GaussianNB(priors=None, var_smoothing=1e-09),\n",
       "       fit_params=None, iid='warn', n_jobs=None, param_grid={},\n",
       "       pre_dispatch='2*n_jobs', refit=True, return_train_score='warn',\n",
       "       scoring=None, verbose=0)"
      ]
     },
     "execution_count": 52,
     "metadata": {},
     "output_type": "execute_result"
    }
   ],
   "source": [
    "clf_nb = GridSearchCV(nb, nb_parameters)\n",
    "clf_nb.fit(features_train, labels_train)"
   ]
  },
  {
   "cell_type": "code",
   "execution_count": 53,
   "metadata": {},
   "outputs": [
    {
     "name": "stdout",
     "output_type": "stream",
     "text": [
      "################### Training data ##################\n",
      "              precision    recall  f1-score   support\n",
      "\n",
      "     Non-POI       0.90      0.93      0.92        87\n",
      "         POI       0.45      0.36      0.40        14\n",
      "\n",
      "   micro avg       0.85      0.85      0.85       101\n",
      "   macro avg       0.68      0.64      0.66       101\n",
      "weighted avg       0.84      0.85      0.84       101\n",
      "\n",
      "################### Testing data ###################\n",
      "              precision    recall  f1-score   support\n",
      "\n",
      "     Non-POI       0.93      0.95      0.94        40\n",
      "         POI       0.33      0.25      0.29         4\n",
      "\n",
      "   micro avg       0.89      0.89      0.89        44\n",
      "   macro avg       0.63      0.60      0.61        44\n",
      "weighted avg       0.87      0.89      0.88        44\n",
      "\n"
     ]
    }
   ],
   "source": [
    "evaluateClassif(clf_nb)"
   ]
  },
  {
   "cell_type": "markdown",
   "metadata": {},
   "source": [
    "# AdaBoost classifier"
   ]
  },
  {
   "cell_type": "code",
   "execution_count": 54,
   "metadata": {},
   "outputs": [],
   "source": [
    "### Adaboost Classifier\n",
    "### http://scikit-learn.org/stable/auto_examples/ensemble/plot_adaboost_twoclass.html#sphx-glr-auto-examples-ensemble-plot-adaboost-twoclass-py\n",
    "from sklearn.ensemble import AdaBoostClassifier\n",
    "from sklearn.tree import DecisionTreeClassifier"
   ]
  },
  {
   "cell_type": "code",
   "execution_count": 55,
   "metadata": {},
   "outputs": [],
   "source": [
    "## Defining the Adaboost parameters for GridSearch:\n",
    "abc_parameters = {\"learning_rate\" : [0.5, 1., 2., 5., 10., 100.],\n",
    "                 \"n_estimators\": [10,50,100,200,500,900,2000],\n",
    "                 \"algorithm\": ['SAMME','SAMME.R']}\n",
    "\n",
    "dtc_parameters = [\"criterion='entropy', max_depth =2, min_samples_split=2, min_samples_leaf=6\", \n",
    "                      \"n_estimators=150, min_samples_split=5\", \n",
    "                      \"n_estimators=150\",\n",
    "                      \"Default\"]\n",
    "dtc = DecisionTreeClassifier(random_state = 42, max_features = \"auto\", max_depth = None)\n",
    "abc = AdaBoostClassifier(base_estimator=dtc)\n",
    "\n",
    "# run grid search\n",
    "#clf_decisiontree = GridSearchCV(dtc, param_grid = dtc_parameters)\n",
    "\n",
    "clf_adaboost = GridSearchCV(abc, param_grid=abc_parameters)"
   ]
  },
  {
   "cell_type": "code",
   "execution_count": 56,
   "metadata": {},
   "outputs": [
    {
     "name": "stderr",
     "output_type": "stream",
     "text": [
      "C:\\Users\\dhruv.aggarwal\\AppData\\Local\\Continuum\\anaconda3\\lib\\site-packages\\sklearn\\model_selection\\_split.py:2053: FutureWarning: You should specify a value for 'cv' instead of relying on the default value. The default value will change from 3 to 5 in version 0.22.\n",
      "  warnings.warn(CV_WARNING, FutureWarning)\n",
      "C:\\Users\\dhruv.aggarwal\\AppData\\Local\\Continuum\\anaconda3\\lib\\site-packages\\sklearn\\model_selection\\_search.py:841: DeprecationWarning: The default of the `iid` parameter will change from True to False in version 0.22 and will be removed in 0.24. This will change numeric results when test-set sizes are unequal.\n",
      "  DeprecationWarning)\n"
     ]
    },
    {
     "data": {
      "text/plain": [
       "GridSearchCV(cv='warn', error_score='raise-deprecating',\n",
       "       estimator=AdaBoostClassifier(algorithm='SAMME.R',\n",
       "          base_estimator=DecisionTreeClassifier(class_weight=None, criterion='gini', max_depth=None,\n",
       "            max_features='auto', max_leaf_nodes=None,\n",
       "            min_impurity_decrease=0.0, min_impurity_split=None,\n",
       "            min_samples_leaf=1, min_samples_split=2,\n",
       "            min_weight_fraction_leaf=0.0, presort=False, random_state=42,\n",
       "            splitter='best'),\n",
       "          learning_rate=1.0, n_estimators=50, random_state=None),\n",
       "       fit_params=None, iid='warn', n_jobs=None,\n",
       "       param_grid={'learning_rate': [0.5, 1.0, 2.0, 5.0, 10.0, 100.0], 'n_estimators': [10, 50, 100, 200, 500, 900, 2000], 'algorithm': ['SAMME', 'SAMME.R']},\n",
       "       pre_dispatch='2*n_jobs', refit=True, return_train_score='warn',\n",
       "       scoring=None, verbose=0)"
      ]
     },
     "execution_count": 56,
     "metadata": {},
     "output_type": "execute_result"
    }
   ],
   "source": [
    "clf_adaboost.fit(features_train, labels_train)"
   ]
  },
  {
   "cell_type": "code",
   "execution_count": 57,
   "metadata": {},
   "outputs": [
    {
     "name": "stdout",
     "output_type": "stream",
     "text": [
      "################### Training data ##################\n",
      "              precision    recall  f1-score   support\n",
      "\n",
      "     Non-POI       1.00      1.00      1.00        87\n",
      "         POI       1.00      1.00      1.00        14\n",
      "\n",
      "   micro avg       1.00      1.00      1.00       101\n",
      "   macro avg       1.00      1.00      1.00       101\n",
      "weighted avg       1.00      1.00      1.00       101\n",
      "\n",
      "################### Testing data ###################\n",
      "              precision    recall  f1-score   support\n",
      "\n",
      "     Non-POI       0.90      0.95      0.93        40\n",
      "         POI       0.00      0.00      0.00         4\n",
      "\n",
      "   micro avg       0.86      0.86      0.86        44\n",
      "   macro avg       0.45      0.47      0.46        44\n",
      "weighted avg       0.82      0.86      0.84        44\n",
      "\n"
     ]
    }
   ],
   "source": [
    "evaluateClassif(clf_adaboost)"
   ]
  },
  {
   "cell_type": "markdown",
   "metadata": {},
   "source": [
    "# SVM classifier"
   ]
  },
  {
   "cell_type": "code",
   "execution_count": 58,
   "metadata": {},
   "outputs": [],
   "source": [
    "from sklearn import svm\n",
    "svm_parameters = {'kernel':['linear','rbf','poly','sigmoid'], \n",
    "                  'C':[0.5,1.,5.,10.,50.,100.,1000.], 'gamma':['scale']}\n",
    "svr = svm.SVC()"
   ]
  },
  {
   "cell_type": "code",
   "execution_count": 59,
   "metadata": {},
   "outputs": [],
   "source": [
    "clf_svc = GridSearchCV(svr, svm_parameters);"
   ]
  },
  {
   "cell_type": "code",
   "execution_count": 60,
   "metadata": {
    "scrolled": true
   },
   "outputs": [
    {
     "name": "stderr",
     "output_type": "stream",
     "text": [
      "C:\\Users\\dhruv.aggarwal\\AppData\\Local\\Continuum\\anaconda3\\lib\\site-packages\\sklearn\\model_selection\\_split.py:2053: FutureWarning: You should specify a value for 'cv' instead of relying on the default value. The default value will change from 3 to 5 in version 0.22.\n",
      "  warnings.warn(CV_WARNING, FutureWarning)\n",
      "C:\\Users\\dhruv.aggarwal\\AppData\\Local\\Continuum\\anaconda3\\lib\\site-packages\\sklearn\\model_selection\\_search.py:841: DeprecationWarning: The default of the `iid` parameter will change from True to False in version 0.22 and will be removed in 0.24. This will change numeric results when test-set sizes are unequal.\n",
      "  DeprecationWarning)\n"
     ]
    },
    {
     "data": {
      "text/plain": [
       "GridSearchCV(cv='warn', error_score='raise-deprecating',\n",
       "       estimator=SVC(C=1.0, cache_size=200, class_weight=None, coef0=0.0,\n",
       "  decision_function_shape='ovr', degree=3, gamma='auto_deprecated',\n",
       "  kernel='rbf', max_iter=-1, probability=False, random_state=None,\n",
       "  shrinking=True, tol=0.001, verbose=False),\n",
       "       fit_params=None, iid='warn', n_jobs=None,\n",
       "       param_grid={'kernel': ['linear', 'rbf', 'poly', 'sigmoid'], 'C': [0.5, 1.0, 5.0, 10.0, 50.0, 100.0, 1000.0], 'gamma': ['scale']},\n",
       "       pre_dispatch='2*n_jobs', refit=True, return_train_score='warn',\n",
       "       scoring=None, verbose=0)"
      ]
     },
     "execution_count": 60,
     "metadata": {},
     "output_type": "execute_result"
    }
   ],
   "source": [
    "clf_svc.fit(features_train, labels_train)"
   ]
  },
  {
   "cell_type": "code",
   "execution_count": 61,
   "metadata": {},
   "outputs": [
    {
     "name": "stdout",
     "output_type": "stream",
     "text": [
      "################### Training data ##################\n",
      "              precision    recall  f1-score   support\n",
      "\n",
      "     Non-POI       0.89      1.00      0.94        87\n",
      "         POI       1.00      0.21      0.35        14\n",
      "\n",
      "   micro avg       0.89      0.89      0.89       101\n",
      "   macro avg       0.94      0.61      0.65       101\n",
      "weighted avg       0.90      0.89      0.86       101\n",
      "\n",
      "################### Testing data ###################\n",
      "              precision    recall  f1-score   support\n",
      "\n",
      "     Non-POI       0.91      1.00      0.95        40\n",
      "         POI       0.00      0.00      0.00         4\n",
      "\n",
      "   micro avg       0.91      0.91      0.91        44\n",
      "   macro avg       0.45      0.50      0.48        44\n",
      "weighted avg       0.83      0.91      0.87        44\n",
      "\n"
     ]
    },
    {
     "name": "stderr",
     "output_type": "stream",
     "text": [
      "C:\\Users\\dhruv.aggarwal\\AppData\\Local\\Continuum\\anaconda3\\lib\\site-packages\\sklearn\\metrics\\classification.py:1143: UndefinedMetricWarning: Precision and F-score are ill-defined and being set to 0.0 in labels with no predicted samples.\n",
      "  'precision', 'predicted', average, warn_for)\n"
     ]
    }
   ],
   "source": [
    "evaluateClassif(clf_svc)"
   ]
  },
  {
   "cell_type": "markdown",
   "metadata": {
    "scrolled": true
   },
   "source": [
    "# Conclusions"
   ]
  },
  {
   "cell_type": "markdown",
   "metadata": {},
   "source": [
    "Evaluating the output of the classifiers above, \n",
    "it's effort to choose Naive Bayes Classifier, \n",
    "since it had the best considered metrics \n",
    "(precision and recall) for POI in the testing \n",
    "data. It must be considered, though, that we \n",
    "could use more strategies to iterate the test \n",
    "and to certify this would be the best machine \n",
    "learning algorithm to be used.\n"
   ]
  }
 ],
 "metadata": {
  "kernelspec": {
   "display_name": "Python 3",
   "language": "python",
   "name": "python3"
  },
  "language_info": {
   "codemirror_mode": {
    "name": "ipython",
    "version": 3
   },
   "file_extension": ".py",
   "mimetype": "text/x-python",
   "name": "python",
   "nbconvert_exporter": "python",
   "pygments_lexer": "ipython3",
   "version": "3.6.4"
  }
 },
 "nbformat": 4,
 "nbformat_minor": 2
}
