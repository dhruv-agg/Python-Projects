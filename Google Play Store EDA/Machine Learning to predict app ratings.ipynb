{
  "cells": [
    {
      "metadata": {
        "_uuid": "60d871ec5472a13720f0c97574e9b984a8a7e876"
      },
      "cell_type": "markdown",
      "source": "Hi Everyone! This is my very first post and exploration of using machine learning algorithms to see if we can predict the ratings for apps on the google play store. Most of the posts are exploration data analysis and I  hope to contribute a little via the use of machine learning!\n\nI've been studying about machine learning and am still a beginner, so if there's any comments/suggestions please feel free to tell me and I hope we can all learn together!"
    },
    {
      "metadata": {
        "_uuid": "d0a6597cc43a82ca038b8c94e91e6d505d53c4de"
      },
      "cell_type": "markdown",
      "source": "Naturally we start by importing the common libraries at the start"
    },
    {
      "metadata": {
        "trusted": true,
        "_uuid": "48ef69dab4f55451698c785d24eb6bf719470843"
      },
      "cell_type": "code",
      "source": "import pandas as pd\nimport numpy as np\nimport seaborn as sns\nfrom sklearn import metrics\nfrom sklearn.cross_validation import train_test_split\nimport random\nimport matplotlib.pyplot as plt\n%matplotlib inline",
      "execution_count": null,
      "outputs": []
    },
    {
      "metadata": {
        "trusted": true,
        "_uuid": "c9ec97591babbd21f6dab17d551807d29379643d"
      },
      "cell_type": "code",
      "source": "df = pd.read_csv('../input/googleplaystore.csv')",
      "execution_count": null,
      "outputs": []
    },
    {
      "metadata": {
        "_uuid": "e1071bc60ccc3976cbac289831ffc1a8218c4753"
      },
      "cell_type": "markdown",
      "source": "Checking out the info, there's a not of null values that need to be addressed. Since my main objective is predicting the ratings of the apps, I deleted all the NaN values, just for simplicity sake."
    },
    {
      "metadata": {
        "trusted": true,
        "_uuid": "dfd8fe4ea4f65433449740d97592745148e0c54a"
      },
      "cell_type": "code",
      "source": "df.info()",
      "execution_count": null,
      "outputs": []
    },
    {
      "metadata": {
        "trusted": true,
        "_uuid": "893585b310c8d8736bf45f0a001dee820ef7313f"
      },
      "cell_type": "code",
      "source": "df.dropna(inplace = True)",
      "execution_count": null,
      "outputs": []
    },
    {
      "metadata": {
        "trusted": true,
        "_uuid": "06956b76442bc23c33545c98244ef22aed62bcac"
      },
      "cell_type": "code",
      "source": "df.info()",
      "execution_count": null,
      "outputs": []
    },
    {
      "metadata": {
        "_uuid": "f2320a31566b0fb105b29c6dc2d19ea189f72e1e"
      },
      "cell_type": "markdown",
      "source": "For the following steps, in order to process the data in the machine learning algorithms, we need to first convert it from text to numbers, as from what i understand, most algorithms run better that way. From most of the books I've read, data cleaning/preprocessing is **THE** most important part of any machine learning process, as high quality data translates to high quality predictions and models."
    },
    {
      "metadata": {
        "trusted": true,
        "_uuid": "6e8f66ffe023136d238eeb5ced44243c08307e17"
      },
      "cell_type": "code",
      "source": "df.head()",
      "execution_count": null,
      "outputs": []
    },
    {
      "metadata": {
        "_uuid": "87990c57ee2b6bba00a6391affc19782b417d518"
      },
      "cell_type": "markdown",
      "source": "From the categorical column, I converted each category into an individual number. In the later sections when we do apply machine learning, two methods will be applied to the code, being integer encoding(which we are doing now) and one-hot encoding, aka dummy variables.  \n\nThe main reason as to why I understand we do this transformation is mainly because integer encoding relies on the fact that there's a relationship between each category(e.g. think age range vs types of animals). In this case however, it's hard to really determine such a relationship, hence dummy/one-hot encoding might help provide better predictive accuracy. "
    },
    {
      "metadata": {
        "trusted": true,
        "_uuid": "1d712f60b38313c1c9c69a811272151f29eafbe3"
      },
      "cell_type": "code",
      "source": "# Cleaning Categories into integers\nCategoryString = df[\"Category\"]\ncategoryVal = df[\"Category\"].unique()\ncategoryValCount = len(categoryVal)\ncategory_dict = {}\nfor i in range(0,categoryValCount):\n    category_dict[categoryVal[i]] = i\ndf[\"Category_c\"] = df[\"Category\"].map(category_dict).astype(int)",
      "execution_count": null,
      "outputs": []
    },
    {
      "metadata": {
        "_uuid": "dc87e79c206a5306769cdfcfa48b455a49827402"
      },
      "cell_type": "markdown",
      "source": "Cleaning of sizes of the apps and also filling up the missing values using ffill"
    },
    {
      "metadata": {
        "trusted": true,
        "_uuid": "5651db43989ad6ce324b822294f77578577eb7a3"
      },
      "cell_type": "code",
      "source": "#scaling and cleaning size of installation\ndef change_size(size):\n    if 'M' in size:\n        x = size[:-1]\n        x = float(x)*1000000\n        return(x)\n    elif 'k' == size[-1:]:\n        x = size[:-1]\n        x = float(x)*1000\n        return(x)\n    else:\n        return None\n\ndf[\"Size\"] = df[\"Size\"].map(change_size)\n\n#filling Size which had NA\ndf.Size.fillna(method = 'ffill', inplace = True)\n",
      "execution_count": null,
      "outputs": []
    },
    {
      "metadata": {
        "_uuid": "52d3a0e62f688a8e25fa9028f899aba8565f165b"
      },
      "cell_type": "markdown",
      "source": "Cleaning the number of installations column"
    },
    {
      "metadata": {
        "trusted": true,
        "_uuid": "45645243a0d6dc01d9906715cb6cd03237f73311"
      },
      "cell_type": "code",
      "source": "#Cleaning no of installs classification\ndf['Installs'] = [int(i[:-1].replace(',','')) for i in df['Installs']]",
      "execution_count": null,
      "outputs": []
    },
    {
      "metadata": {
        "_uuid": "0445d0c4ed04ec8d0b1f9aaae99b26d7e306e93a"
      },
      "cell_type": "markdown",
      "source": "Converting the paid/free classification types into binary"
    },
    {
      "metadata": {
        "trusted": true,
        "_uuid": "e07c28228846bd4e66c5b48da7c03e780a8fe3b1"
      },
      "cell_type": "code",
      "source": "#Converting Type classification into binary\ndef type_cat(types):\n    if types == 'Free':\n        return 0\n    else:\n        return 1\n\ndf['Type'] = df['Type'].map(type_cat)",
      "execution_count": null,
      "outputs": []
    },
    {
      "metadata": {
        "_uuid": "959f4e9f1a9cff3d23be80c4c9faa24394856c02"
      },
      "cell_type": "markdown",
      "source": "Converting of the content rating section into integers. In this specific instance, given that the concent rating is somewhat relatable and has an order to it, we do not use one-hot encoding."
    },
    {
      "metadata": {
        "trusted": true,
        "_uuid": "80e4fff9a4a343ff09a33280c7c227e0f7ac4a29"
      },
      "cell_type": "code",
      "source": "#Cleaning of content rating classification\nRatingL = df['Content Rating'].unique()\nRatingDict = {}\nfor i in range(len(RatingL)):\n    RatingDict[RatingL[i]] = i\ndf['Content Rating'] = df['Content Rating'].map(RatingDict).astype(int)",
      "execution_count": null,
      "outputs": []
    },
    {
      "metadata": {
        "_uuid": "255b7a10da4a315b3a27814aef752d7e5e051231"
      },
      "cell_type": "markdown",
      "source": "I dropped these portions of information as i deemed it unecessary for our machine learning algorithm"
    },
    {
      "metadata": {
        "trusted": true,
        "_uuid": "8c314231e1a178b522549340a5334116faa81c79"
      },
      "cell_type": "code",
      "source": "#dropping of unrelated and unnecessary items\ndf.drop(labels = ['Last Updated','Current Ver','Android Ver','App'], axis = 1, inplace = True)",
      "execution_count": null,
      "outputs": []
    },
    {
      "metadata": {
        "_uuid": "2b70683d1f655d9d4c971c6f867680b9a0a5a3b1"
      },
      "cell_type": "markdown",
      "source": "Technically when doing the cleaning of genres, one-hot should also be applied in this instance. However, I did not as firstly, it's a subset of the categorical column and secondly, application of a dummy variable would significantly increase the number of independent variables. \n\nSo to combat this instead, we ran two seperate regressions, one including and one excluding such genre data. When including the data, we only considered in the impact/information provided via the genre section purely based on it's numeric value."
    },
    {
      "metadata": {
        "trusted": true,
        "_uuid": "003eadc56ae1dafbf4bd7711eab55fedfdc38a7a"
      },
      "cell_type": "code",
      "source": "#Cleaning of genres\nGenresL = df.Genres.unique()\nGenresDict = {}\nfor i in range(len(GenresL)):\n    GenresDict[GenresL[i]] = i\ndf['Genres_c'] = df['Genres'].map(GenresDict).astype(int)",
      "execution_count": null,
      "outputs": []
    },
    {
      "metadata": {
        "_uuid": "0d2a0da9e264b2720e4c8a43b695b4f24fff6b28"
      },
      "cell_type": "markdown",
      "source": "Cleaning of the prices of the apps to floats"
    },
    {
      "metadata": {
        "trusted": true,
        "_uuid": "b22f84a0dffa95f13374c68c0d2b62db97732e5d"
      },
      "cell_type": "code",
      "source": "#Cleaning prices\ndef price_clean(price):\n    if price == '0':\n        return 0\n    else:\n        price = price[1:]\n        price = float(price)\n        return price\n\ndf['Price'] = df['Price'].map(price_clean).astype(float)",
      "execution_count": null,
      "outputs": []
    },
    {
      "metadata": {
        "_uuid": "7b11a42397cb1ecf837c42c1b1f1af55ef81d26f"
      },
      "cell_type": "markdown",
      "source": "Finally converting the number reviews column into integers"
    },
    {
      "metadata": {
        "trusted": true,
        "_uuid": "4482c9f0122cce66acf7a5349b63c81affc31d70"
      },
      "cell_type": "code",
      "source": "# convert reviews to numeric\ndf['Reviews'] = df['Reviews'].astype(int)",
      "execution_count": null,
      "outputs": []
    },
    {
      "metadata": {
        "trusted": true,
        "_uuid": "bea9e360a22d16f28700075acd2183a2462f2ca4"
      },
      "cell_type": "code",
      "source": "df.info()",
      "execution_count": null,
      "outputs": []
    },
    {
      "metadata": {
        "_uuid": "9a6c7ebb7ac53a2369ced377b65c6d7a9ae77caf"
      },
      "cell_type": "markdown",
      "source": "Doing checks and we are good to go! So I created first this dataframe that has **integer encoding** of categorical variables, defined as df"
    },
    {
      "metadata": {
        "trusted": true,
        "_uuid": "d4f86b90e745c255f7743446d84a5737a9983152"
      },
      "cell_type": "code",
      "source": "df.head()",
      "execution_count": null,
      "outputs": []
    },
    {
      "metadata": {
        "_uuid": "a106b5213a0d77eb705779eec0e9d1ee85692cc4"
      },
      "cell_type": "markdown",
      "source": "In this instance, I created another dataframe that specifically created **dummy values** for each categorical instance in the dataframe, defined as df2"
    },
    {
      "metadata": {
        "trusted": true,
        "_uuid": "e2b45f9a77c6b8c36a5b224fd76550864e718aad"
      },
      "cell_type": "code",
      "source": "# for dummy variable encoding for Categories\ndf2 = pd.get_dummies(df, columns=['Category'])",
      "execution_count": null,
      "outputs": []
    },
    {
      "metadata": {
        "trusted": true,
        "_uuid": "2aac0752f0252b2745f8fdc1a2babef90bfc5a6d"
      },
      "cell_type": "code",
      "source": "df2.head()",
      "execution_count": null,
      "outputs": []
    },
    {
      "metadata": {
        "_uuid": "8e488198fd8d0625708a406ed579d003c4efa627"
      },
      "cell_type": "markdown",
      "source": "After our final checks for the preprocessing of our data, looks like we can start work! So the next question is what exactly are we doing and how are we doing it.\n\nSo the goal of this instance is to see if we can use existing data provided(e.g. Size, no of reviews) to predict the ratings of the google applications. **In other words, our dependent variable Y, would be the rating of the apps.**  \n\nOne important factor to note is that the dependent variable Y, is a continuous variable(aka infinite no of combinations), as compared to a discrete variable. Naturally there are ways to convert our Y to a discrete variable but **I decided to keep Y as a continuous variable** for the purposes of this machine learning session. \n\n**Next question, what models should we apply and how should we evaluate them?**\n\nModel wise, I'm not too sure as well as there are like a ton of models out there that can be used for machine learning. Hence, I basically just chose the 3 most common models that I use, being linear regression, SVR, and random forest regressor. \n\n**We technically run 4 regressions for each model used, as we consider one-hot vs interger encoded results for the category section, as well as including/excluding the genre section.**\n\nWe then evaluate the models by comparing the predicted results against the actual results graphically, as well as use the mean squared error, mean absolute error and mean squared log error as possible benchmarks.\n\nThe use of the error term will be evaluated right at the end after running through all the models."
    },
    {
      "metadata": {
        "trusted": false,
        "_uuid": "8f05852c6b36ebb0d2a7244586c86ba12c6cf22d"
      },
      "cell_type": "code",
      "source": "# let's use 3 different regression models with two different techniques on treating the categorical variable",
      "execution_count": null,
      "outputs": []
    },
    {
      "metadata": {
        "_uuid": "46af4b6d2262f2b00c2a301beebb99d1f57e389c"
      },
      "cell_type": "markdown",
      "source": "So before we start, the following is code to obtain the error terms for the various models, for comparability."
    },
    {
      "metadata": {
        "trusted": true,
        "_uuid": "c1ca6cb2c5e6447ed933d5d9beceb96ec814e07e"
      },
      "cell_type": "code",
      "source": "#for evaluation of error term and \ndef Evaluationmatrix(y_true, y_predict):\n    print ('Mean Squared Error: '+ str(metrics.mean_squared_error(y_true,y_predict)))\n    print ('Mean absolute Error: '+ str(metrics.mean_absolute_error(y_true,y_predict)))\n    print ('Mean squared Log Error: '+ str(metrics.mean_squared_log_error(y_true,y_predict)))",
      "execution_count": null,
      "outputs": []
    },
    {
      "metadata": {
        "trusted": true,
        "_uuid": "025d913b95d23bafc931aedc6eee9c2f2d559e6e"
      },
      "cell_type": "code",
      "source": "#to add into results_index for evaluation of error term \ndef Evaluationmatrix_dict(y_true, y_predict, name = 'Linear - Integer'):\n    dict_matrix = {}\n    dict_matrix['Series Name'] = name\n    dict_matrix['Mean Squared Error'] = metrics.mean_squared_error(y_true,y_predict)\n    dict_matrix['Mean Absolute Error'] = metrics.mean_absolute_error(y_true,y_predict)\n    dict_matrix['Mean Squared Log Error'] = metrics.mean_squared_log_error(y_true,y_predict)\n    return dict_matrix",
      "execution_count": null,
      "outputs": []
    },
    {
      "metadata": {
        "_uuid": "20315bb428a71332153b9f59b0fd2237ccd227c9"
      },
      "cell_type": "markdown",
      "source": "We start off by looking at **linear regression** model (without the genre label)"
    },
    {
      "metadata": {
        "trusted": true,
        "_uuid": "0260339a9d8055294e77d4302b78da9d74cf428c"
      },
      "cell_type": "code",
      "source": "#excluding Genre label\nfrom sklearn.linear_model import LinearRegression \n\n#Integer encoding\nX = df.drop(labels = ['Category','Rating','Genres','Genres_c'],axis = 1)\ny = df.Rating\nX_train, X_test, y_train, y_test = train_test_split(X, y, test_size=0.30)\nmodel = LinearRegression()\nmodel.fit(X_train,y_train)\nResults = model.predict(X_test)\n\n#Creation of results dataframe and addition of first entry\nresultsdf = pd.DataFrame()\nresultsdf = resultsdf.from_dict(Evaluationmatrix_dict(y_test,Results),orient = 'index')\nresultsdf = resultsdf.transpose()\n\n#dummy encoding\n\nX_d = df2.drop(labels = ['Rating','Genres','Category_c','Genres_c'],axis = 1)\ny_d = df2.Rating\nX_train_d, X_test_d, y_train_d, y_test_d = train_test_split(X_d, y_d, test_size=0.30)\nmodel_d = LinearRegression()\nmodel_d.fit(X_train_d,y_train_d)\nResults_d = model_d.predict(X_test_d)\n\n#adding results into results dataframe\nresultsdf = resultsdf.append(Evaluationmatrix_dict(y_test_d,Results_d, name = 'Linear - Dummy'),ignore_index = True)",
      "execution_count": null,
      "outputs": []
    },
    {
      "metadata": {
        "trusted": true,
        "scrolled": false,
        "_uuid": "2f3fb555e038c4d4a3dd9befad00d0f636fa3ee4"
      },
      "cell_type": "code",
      "source": "plt.figure(figsize=(12,7))\nsns.regplot(Results,y_test,color='teal', label = 'Integer', marker = 'x')\nsns.regplot(Results_d,y_test_d,color='orange',label = 'Dummy')\nplt.legend()\nplt.title('Linear model - Excluding Genres')\nplt.xlabel('Predicted Ratings')\nplt.ylabel('Actual Ratings')\nplt.show()",
      "execution_count": null,
      "outputs": []
    },
    {
      "metadata": {
        "trusted": true,
        "_uuid": "506fe51d5c730145d2364b64a766d02c00f60862"
      },
      "cell_type": "code",
      "source": "print ('Actual mean of population:' + str(y.mean()))\nprint ('Integer encoding(mean) :' + str(Results.mean()))\nprint ('Dummy encoding(mean) :'+ str(Results_d.mean()))\nprint ('Integer encoding(std) :' + str(Results.std()))\nprint ('Dummy encoding(std) :'+ str(Results_d.std()))",
      "execution_count": null,
      "outputs": []
    },
    {
      "metadata": {
        "_uuid": "8e21e732197a6f20150ec827ad1ec6dfddb10a07"
      },
      "cell_type": "markdown",
      "source": "At first glance, it's hard to really see which model(dummy vs one-hot) is better in terms of predictive accuracy. What is striking however is the that at first glance, the dummy model seems favors the outcome of a lower rating compared to the integer model. \n\nAlthough if we look at the actual mean of the predictive results, both are approximately the same, **however the dummy encoded results have a much larger standard deviation as compared to the integer encoded model.**\n\nNext is looking at the linear model including the genre label as a numeric value."
    },
    {
      "metadata": {
        "trusted": true,
        "_uuid": "d02cdc3c2dbc1033bf620c99c63d27440d8513bb"
      },
      "cell_type": "code",
      "source": "#Including genre label\n\n#Integer encoding\nX = df.drop(labels = ['Category','Rating','Genres'],axis = 1)\ny = df.Rating\nX_train, X_test, y_train, y_test = train_test_split(X, y, test_size=0.30)\nmodel = LinearRegression()\nmodel.fit(X_train,y_train)\nResults = model.predict(X_test)\n\nresultsdf = resultsdf.append(Evaluationmatrix_dict(y_test,Results, name = 'Linear(inc Genre) - Integer'),ignore_index = True)\n\n#dummy encoding\n\nX_d = df2.drop(labels = ['Rating','Genres','Category_c'],axis = 1)\ny_d = df2.Rating\nX_train_d, X_test_d, y_train_d, y_test_d = train_test_split(X_d, y_d, test_size=0.30)\nmodel_d = LinearRegression()\nmodel_d.fit(X_train_d,y_train_d)\nResults_d = model_d.predict(X_test_d)\n\nresultsdf = resultsdf.append(Evaluationmatrix_dict(y_test_d,Results_d, name = 'Linear(inc Genre) - Dummy'),ignore_index = True)",
      "execution_count": null,
      "outputs": []
    },
    {
      "metadata": {
        "trusted": true,
        "_uuid": "11ead4fa9cda87b789a87ae96c5a16e53328cb4d"
      },
      "cell_type": "code",
      "source": "plt.figure(figsize=(12,7))\nsns.regplot(Results,y_test,color='teal', label = 'Integer', marker = 'x')\nsns.regplot(Results_d,y_test_d,color='orange',label = 'Dummy')\nplt.legend()\nplt.title('Linear model - Including Genres')\nplt.xlabel('Predicted Ratings')\nplt.ylabel('Actual Ratings')\nplt.show()",
      "execution_count": null,
      "outputs": []
    },
    {
      "metadata": {
        "trusted": true,
        "_uuid": "2f3c31ed05ed246cace1cfddacf2376019176a38"
      },
      "cell_type": "code",
      "source": "print ('Integer encoding(mean) :' + str(Results.mean()))\nprint ('Dummy encoding(mean) :'+ str(Results_d.mean()))\nprint ('Integer encoding(std) :' + str(Results.std()))\nprint ('Dummy encoding(std) :'+ str(Results_d.std()))",
      "execution_count": null,
      "outputs": []
    },
    {
      "metadata": {
        "_uuid": "6c6e581feb85dd6f99f1d6b088bd40940f49b741"
      },
      "cell_type": "markdown",
      "source": "When including the genre data, we see a slight difference in the mean between the integer and dummy encoded linear models. The dummy encoded model's std is still higher than the integer encoded model.\n\nWhat's striking to me personally is that the dummy encoded regression line in the scatterplot is now flatter than the integer encoded regression line, which might suggest a \"worse\" outcome, given that usually you would want your regression's beta value to be closer to 1 than to 0. \n\n**Next up is the SVR model.**"
    },
    {
      "metadata": {
        "trusted": true,
        "_uuid": "48f7e64ac06bb1dbd53966f98a980ae49cb89c33"
      },
      "cell_type": "code",
      "source": "#Excluding genres\nfrom sklearn import svm\n#Integer encoding\n\nX = df.drop(labels = ['Category','Rating','Genres','Genres_c'],axis = 1)\ny = df.Rating\nX_train, X_test, y_train, y_test = train_test_split(X, y, test_size=0.30)\n\nmodel2 = svm.SVR()\nmodel2.fit(X_train,y_train)\n\nResults2 = model2.predict(X_test)\n\nresultsdf = resultsdf.append(Evaluationmatrix_dict(y_test,Results2, name = 'SVM - Integer'),ignore_index = True)\n\n#dummy based\n\n\nX_d = df2.drop(labels = ['Rating','Genres','Category_c','Genres_c'],axis = 1)\ny_d = df2.Rating\n\nX_train_d, X_test_d, y_train_d, y_test_d = train_test_split(X_d, y_d, test_size=0.30)\n\nmodel2 = svm.SVR()\nmodel2.fit(X_train_d,y_train_d)\n\nResults2_d = model2.predict(X_test_d)\n\nresultsdf = resultsdf.append(Evaluationmatrix_dict(y_test_d,Results2_d, name = 'SVM - Dummy'),ignore_index = True)",
      "execution_count": null,
      "outputs": []
    },
    {
      "metadata": {
        "scrolled": true,
        "trusted": true,
        "_uuid": "103d0f4684c714ce3bee66492d3b4f0b7df6dfbc"
      },
      "cell_type": "code",
      "source": "plt.figure(figsize=(12,7))\nsns.regplot(Results2,y_test,color='teal', label = 'Integer', marker = 'x')\nsns.regplot(Results2_d,y_test_d,color='orange',label = 'Dummy')\nplt.legend()\nplt.title('SVM model - excluding Genres')\nplt.xlabel('Predicted Ratings')\nplt.ylabel('Actual Ratings')\nplt.show()",
      "execution_count": null,
      "outputs": []
    },
    {
      "metadata": {
        "trusted": true,
        "_uuid": "8c3314ea964d53b4ccf93af70d253aee213a29e3"
      },
      "cell_type": "code",
      "source": "print ('Integer encoding(mean) :' + str(Results2.mean()))\nprint ('Dummy encoding(mean) :'+ str(Results2_d.mean()))\nprint ('Integer encoding(std) :' + str(Results2.std()))\nprint ('Dummy encoding(std) :'+ str(Results2_d.std()))",
      "execution_count": null,
      "outputs": []
    },
    {
      "metadata": {
        "_uuid": "783192e34100bff31f3e87342b3ba9686ecc9004"
      },
      "cell_type": "markdown",
      "source": "The results are quite interesting. Overall the model predicted quite a bit of ratings to be approximately at 4.2, even though the actual ratings were not. Looking at the scatterplot, the integer encoded model seems to have performed better in this instance.\n\nAs usual, the dummy encoded model has a higher std than the integer encoded model."
    },
    {
      "metadata": {
        "trusted": true,
        "_uuid": "3ee8b302922e051fbb8140bdd35e40067b70e78b"
      },
      "cell_type": "code",
      "source": "#Integer encoding, including Genres_c\nmodel2a = svm.SVR()\n\nX = df.drop(labels = ['Category','Rating','Genres'],axis = 1)\ny = df.Rating\n\nX_train, X_test, y_train, y_test = train_test_split(X, y, test_size=0.30)\n\nmodel2a.fit(X_train,y_train)\n\nResults2a = model2a.predict(X_test)\n\n#evaluation\nresultsdf = resultsdf.append(Evaluationmatrix_dict(y_test,Results2a, name = 'SVM(inc Genres) - Integer'),ignore_index = True)\n\n#dummy encoding, including Genres_c\nmodel2a = svm.SVR()\n\nX_d = df2.drop(labels = ['Rating','Genres','Category_c'],axis = 1)\ny_d = df2.Rating\n\nX_train_d, X_test_d, y_train_d, y_test_d = train_test_split(X_d, y_d, test_size=0.30)\n\nmodel2a.fit(X_train_d,y_train_d)\n\nResults2a_d = model2a.predict(X_test_d)\n\n#evaluation\nresultsdf = resultsdf.append(Evaluationmatrix_dict(y_test_d,Results2a_d, name = 'SVM(inc Genres) - Dummy'),ignore_index = True)",
      "execution_count": null,
      "outputs": []
    },
    {
      "metadata": {
        "trusted": true,
        "_uuid": "eeb5da4bb723bc7b98bfe291d7e0dc2afda17ae8"
      },
      "cell_type": "code",
      "source": "plt.figure(figsize=(12,7))\nsns.regplot(Results2a,y_test,color='teal', label = 'Integer', marker = 'x')\nsns.regplot(Results2a_d,y_test_d,color='orange',label = 'Dummy')\nplt.legend()\nplt.title('SVM model - including Genres')\nplt.xlabel('Predicted Ratings')\nplt.ylabel('Actual Ratings')\nplt.show()",
      "execution_count": null,
      "outputs": []
    },
    {
      "metadata": {
        "trusted": true,
        "scrolled": true,
        "_uuid": "1facab14794b735de4d584a47da4705840169bc3"
      },
      "cell_type": "code",
      "source": "print ('Integer encoding(mean) :' + str(Results2a.mean()))\nprint ('Dummy encoding(mean) :'+ str(Results2a_d.mean()))\nprint ('Integer encoding(std) :' + str(Results2a.std()))\nprint ('Dummy encoding(std) :'+ str(Results2a_d.std()))",
      "execution_count": null,
      "outputs": []
    },
    {
      "metadata": {
        "_uuid": "260860a1ba8d81c832123533d612111c8ffeb505"
      },
      "cell_type": "markdown",
      "source": "With the inclusion of the genre variable, the dummy encoding model now seems to be performing better, as we see the regression line comparing the actual vs the predicted results to be very similar to that of the integer encoded model.\n\nFurthermore the std of the dummy encoded model has fallen significantly, and now has a higher mean compared to the integer encoded model.\n\n**Next up is the random forest regressor model.** \nHonestly this is my favorite model as not only is it fast, it also allows you to see what independent variables significantly affect the outcome of the model."
    },
    {
      "metadata": {
        "trusted": true,
        "_uuid": "6cc703ff67e5425d25c50e4debb1174aa294b831"
      },
      "cell_type": "code",
      "source": "from sklearn.ensemble import RandomForestRegressor\n\n#Integer encoding\nX = df.drop(labels = ['Category','Rating','Genres','Genres_c'],axis = 1)\ny = df.Rating\nX_train, X_test, y_train, y_test = train_test_split(X, y, test_size=0.30)\nmodel3 = RandomForestRegressor()\nmodel3.fit(X_train,y_train)\nResults3 = model3.predict(X_test)\n\n#evaluation\nresultsdf = resultsdf.append(Evaluationmatrix_dict(y_test,Results3, name = 'RFR - Integer'),ignore_index = True)\n\n#dummy encoding\n\nX_d = df2.drop(labels = ['Rating','Genres','Category_c','Genres_c'],axis = 1)\ny_d = df2.Rating\nX_train_d, X_test_d, y_train_d, y_test_d = train_test_split(X_d, y_d, test_size=0.30)\nmodel3_d = RandomForestRegressor()\nmodel3_d.fit(X_train_d,y_train_d)\nResults3_d = model3_d.predict(X_test_d)\n\n#evaluation\nresultsdf = resultsdf.append(Evaluationmatrix_dict(y_test,Results3_d, name = 'RFR - Dummy'),ignore_index = True)",
      "execution_count": null,
      "outputs": []
    },
    {
      "metadata": {
        "trusted": true,
        "_uuid": "c74d3bca4fbd743d70a9cf17e290587aea4d5b43"
      },
      "cell_type": "code",
      "source": "plt.figure(figsize=(12,7))\nsns.regplot(Results3,y_test,color='teal', label = 'Integer', marker = 'x')\nsns.regplot(Results3_d,y_test_d,color='orange',label = 'Dummy')\nplt.legend()\nplt.title('RFR model - excluding Genres')\nplt.xlabel('Predicted Ratings')\nplt.ylabel('Actual Ratings')\nplt.show()",
      "execution_count": null,
      "outputs": []
    },
    {
      "metadata": {
        "trusted": true,
        "_uuid": "58898797f9ffdadaf94da5eecae677aa584d013e"
      },
      "cell_type": "code",
      "source": "print ('Integer encoding(mean) :' + str(Results3.mean()))\nprint ('Dummy encoding(mean) :'+ str(Results3_d.mean()))\nprint ('Integer encoding(std) :' + str(Results3.std()))\nprint ('Dummy encoding(std) :'+ str(Results3_d.std()))",
      "execution_count": null,
      "outputs": []
    },
    {
      "metadata": {
        "_uuid": "171f2e4add29bb11cf912e47e40b259790ed6c72"
      },
      "cell_type": "markdown",
      "source": "At first glance, I would say that the RFR model produced the best predictive results, just looking at the scatter graph plotted. Overall both models, the integer and the dummy encoded models seem to perform relatively similar, although the dummy encoded model has a higher overall predicted mean."
    },
    {
      "metadata": {
        "trusted": true,
        "_uuid": "950b780406095bad5856f36d8c326e3c9a304d92"
      },
      "cell_type": "code",
      "source": "#for integer\nFeat_impt = {}\nfor col,feat in zip(X.columns,model3.feature_importances_):\n    Feat_impt[col] = feat\n\nFeat_impt_df = pd.DataFrame.from_dict(Feat_impt,orient = 'index')\nFeat_impt_df.sort_values(by = 0, inplace = True)\nFeat_impt_df.rename(index = str, columns = {0:'Pct'},inplace = True)\n\nplt.figure(figsize= (14,10))\nFeat_impt_df.plot(kind = 'barh',figsize= (14,10),legend = False)\nplt.show()",
      "execution_count": null,
      "outputs": []
    },
    {
      "metadata": {
        "_uuid": "c4b4830ccd7caed8422171392c9f5b66dcd15343"
      },
      "cell_type": "markdown",
      "source": "If we look at what influences the ratings, the top 4 being reviews, size, category, and number of installs seem to have the highest influence. This is quite an interesting observation, while also rationalizable."
    },
    {
      "metadata": {
        "trusted": true,
        "_uuid": "c954e42587965d702460b3af1ffc1b4f410c4683"
      },
      "cell_type": "code",
      "source": "#for dummy\nFeat_impt_d = {}\nfor col,feat in zip(X_d.columns,model3_d.feature_importances_):\n    Feat_impt_d[col] = feat\n\nFeat_impt_df_d = pd.DataFrame.from_dict(Feat_impt_d,orient = 'index')\nFeat_impt_df_d.sort_values(by = 0, inplace = True)\nFeat_impt_df_d.rename(index = str, columns = {0:'Pct'},inplace = True)\n\nplt.figure(figsize= (14,10))\nFeat_impt_df_d.plot(kind = 'barh',figsize= (14,10),legend = False)\nplt.show()",
      "execution_count": null,
      "outputs": []
    },
    {
      "metadata": {
        "_uuid": "e1f6dfeb037fcbc963d242ecfb96a2c129053a65"
      },
      "cell_type": "markdown",
      "source": "Looking at the breakdown even further, it would seem that indeed Reviews, size and number of install remain as a significant contributer to the predictiveness of app ratings.  What's interesting to me is that how the Tools category of apps have such a high level of predictiveness in terms of ratings, as say compared to the Food and Drink category."
    },
    {
      "metadata": {
        "trusted": true,
        "_uuid": "86a5e0398d1d58d72a4cd8174583ac232d87d2d7"
      },
      "cell_type": "code",
      "source": "\n#Including Genres_C\n\n#Integer encoding\nX = df.drop(labels = ['Category','Rating','Genres'],axis = 1)\ny = df.Rating\nX_train, X_test, y_train, y_test = train_test_split(X, y, test_size=0.30)\nmodel3a = RandomForestRegressor()\nmodel3a.fit(X_train,y_train)\nResults3a = model3a.predict(X_test)\n\n#evaluation\nresultsdf = resultsdf.append(Evaluationmatrix_dict(y_test,Results3a, name = 'RFR(inc Genres) - Integer'),ignore_index = True)\n\n#dummy encoding\n\nX_d = df2.drop(labels = ['Rating','Genres','Category_c'],axis = 1)\ny_d = df2.Rating\nX_train_d, X_test_d, y_train_d, y_test_d = train_test_split(X_d, y_d, test_size=0.30)\nmodel3a_d = RandomForestRegressor()\nmodel3a_d.fit(X_train_d,y_train_d)\nResults3a_d = model3a_d.predict(X_test_d)\n\n#evaluation\nresultsdf = resultsdf.append(Evaluationmatrix_dict(y_test,Results3a_d, name = 'RFR(inc Genres) - Dummy'),ignore_index = True)",
      "execution_count": null,
      "outputs": []
    },
    {
      "metadata": {
        "trusted": true,
        "_uuid": "25edf5ef9d1071c016457404ea0871c11d73a69f"
      },
      "cell_type": "code",
      "source": "plt.figure(figsize=(12,7))\nsns.regplot(Results3a,y_test,color='teal', label = 'Integer', marker = 'x')\nsns.regplot(Results3a_d,y_test_d,color='orange',label = 'Dummy')\nplt.legend()\nplt.title('RFR model - including Genres')\nplt.xlabel('Predicted Ratings')\nplt.ylabel('Actual Ratings')\nplt.show()",
      "execution_count": null,
      "outputs": []
    },
    {
      "metadata": {
        "trusted": true,
        "_uuid": "54c515b140292d3182b60b83578e03cbcfa7e6f9"
      },
      "cell_type": "code",
      "source": "print ('Integer encoding(mean) :' + str(Results3.mean()))\nprint ('Dummy encoding(mean) :'+ str(Results3_d.mean()))\nprint ('Integer encoding(std) :' + str(Results3.std()))\nprint ('Dummy encoding(std) :'+ str(Results3_d.std()))",
      "execution_count": null,
      "outputs": []
    },
    {
      "metadata": {
        "_uuid": "dbb8b81559166c63fd3e408934dae5dae709bd97"
      },
      "cell_type": "markdown",
      "source": "Again with the inclusion of the genre variable, the results do not seem to defer significantly as compared to the previous results."
    },
    {
      "metadata": {
        "trusted": true,
        "_uuid": "d6ae2c4ed6887cdfa42b6de1637c35fc0b693e97"
      },
      "cell_type": "code",
      "source": "#for integer\nFeat_impt = {}\nfor col,feat in zip(X.columns,model3a.feature_importances_):\n    Feat_impt[col] = feat\n\nFeat_impt_df = pd.DataFrame.from_dict(Feat_impt,orient = 'index')\nFeat_impt_df.sort_values(by = 0, inplace = True)\nFeat_impt_df.rename(index = str, columns = {0:'Pct'},inplace = True)\n\nplt.figure(figsize= (14,10))\nFeat_impt_df.plot(kind = 'barh',figsize= (14,10),legend = False)\nplt.show()",
      "execution_count": null,
      "outputs": []
    },
    {
      "metadata": {
        "_uuid": "05ead87eb94483ca7e5747a38ed6da6f4d7b7718"
      },
      "cell_type": "markdown",
      "source": "From the results, it would seem that the genre section actually plays an important part in the decision tree making. Yet the exclusion of it dosent seem to significantly impact results. This to me is quite interesting."
    },
    {
      "metadata": {
        "trusted": true,
        "_uuid": "cf1b295d7a1093e3490586c02ca193634e32555c"
      },
      "cell_type": "code",
      "source": "#for dummy\nFeat_impt_d = {}\nfor col,feat in zip(X_d.columns,model3a_d.feature_importances_):\n    Feat_impt_d[col] = feat\n\nFeat_impt_df_d = pd.DataFrame.from_dict(Feat_impt_d,orient = 'index')\nFeat_impt_df_d.sort_values(by = 0, inplace = True)\nFeat_impt_df_d.rename(index = str, columns = {0:'Pct'},inplace = True)\n\nplt.figure(figsize= (14,10))\nFeat_impt_df_d.plot(kind = 'barh',figsize= (14,10),legend = False)\nplt.show()",
      "execution_count": null,
      "outputs": []
    },
    {
      "metadata": {
        "trusted": true,
        "_uuid": "5663dda22a409c9b10c9f1919296f5e757ecbdd2"
      },
      "cell_type": "code",
      "source": "resultsdf.set_index('Series Name', inplace = True)\n\nplt.figure(figsize = (10,12))\nplt.subplot(3,1,1)\nresultsdf['Mean Squared Error'].sort_values(ascending = False).plot(kind = 'barh',color=(0.3, 0.4, 0.6, 1), title = 'Mean Squared Error')\nplt.subplot(3,1,2)\nresultsdf['Mean Absolute Error'].sort_values(ascending = False).plot(kind = 'barh',color=(0.5, 0.4, 0.6, 1), title = 'Mean Absolute Error')\nplt.subplot(3,1,3)\nresultsdf['Mean Squared Log Error'].sort_values(ascending = False).plot(kind = 'barh',color=(0.7, 0.4, 0.6, 1), title = 'Mean Squared Log Error')\nplt.show()\n",
      "execution_count": null,
      "outputs": []
    },
    {
      "metadata": {
        "_uuid": "610dfec5b807dbcedd3e4771e86f6fc7ee81d5ef"
      },
      "cell_type": "markdown",
      "source": "Finally, looking at the results, it is not easy to conclude which model has the best predictive accuracy and lowest error term. Using this round of data as a basis, the dummy encoded SVM model including genres has the lowest overall error rates, followed by the integer encoded RFR model including genes. Yet, all models seem to be very close in terms of it's error term, so this result is likely to change.\n\nWhat is very surprising to me is how the RFR dummy model has such a significantly more error term compared to all the other models, even though on the surface it seemed to perform very similarly to the RFR integer model.\n\n**Concluding thoughts**\nIt was pretty fun doing this project, using the three different machine learning models for continuous variables to see if it performed well in predictive analysis, based on the data that was provided.  If you guys have any suggestions/comments please do feel free to post, as I'm still a beginner and want to learn more! Have a great and blessed day everyone!"
    }
  ],
  "metadata": {
    "kernelspec": {
      "display_name": "Python 3",
      "language": "python",
      "name": "python3"
    },
    "language_info": {
      "name": "python",
      "version": "3.6.6",
      "mimetype": "text/x-python",
      "codemirror_mode": {
        "name": "ipython",
        "version": 3
      },
      "pygments_lexer": "ipython3",
      "nbconvert_exporter": "python",
      "file_extension": ".py"
    }
  },
  "nbformat": 4,
  "nbformat_minor": 1
}