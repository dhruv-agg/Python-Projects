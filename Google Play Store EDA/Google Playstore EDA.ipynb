{
 "cells": [
  {
   "cell_type": "markdown",
   "metadata": {
    "_uuid": "9678e567443c1085f5fb2d58091bd5b39fcf5aa8"
   },
   "source": [
    "<center><h1 style=\"color:blue\"><b>Google Playstore EDA</b></h1></center>"
   ]
  },
  {
   "cell_type": "markdown",
   "metadata": {
    "_uuid": "3164f7bf9e85ebd584fcd6177137e2cb777696aa"
   },
   "source": [
    "### In this notebook, we are aiming to understand the trend of current Google Playstore market.  \n",
    "\n",
    "<i>But Why ???</i>   \n",
    "\n",
    "<b>Because as a developer, I should know the best constraints to focus on when launching my first app :D .  \n",
    "    And I definitely have no intention of getting lost in this vast ocean of versatile apps XD</b>  \n",
    "\n",
    "So stay with me on this short journey. \n",
    "\n",
    "------------------------------------------------------------------------------------------------------\n",
    "    "
   ]
  },
  {
   "cell_type": "markdown",
   "metadata": {
    "_uuid": "4db79a0c59d9fb74d2d6ccdd988814143a4015af"
   },
   "source": [
    "## Content\n",
    "\n",
    "<a href=\"#Description-of-Dataset\">Description of Dataset</a>  \n",
    "\n",
    "<a href=\"#Features-Engineering\">Features Engineering</a>  \n",
    "\n",
    "<a href=\"#Visulaizations \">Visulaizations </a> \n",
    "\n",
    "<a href=\"#Missing-Data-Study\">Missing Data Study</a>  \n",
    "\n",
    "<a href=\"#Conclusion\">Conclusion</a>  \n",
    "\n",
    "------------------------------------------------------------------------------------------------------------------"
   ]
  },
  {
   "cell_type": "code",
   "execution_count": 1,
   "metadata": {
    "_uuid": "dc8c2c9f05dba0022539075580fd31e3d213f6c8"
   },
   "outputs": [],
   "source": [
    "#importing required packages\n",
    "import pandas as pd\n",
    "import seaborn as sns\n",
    "import matplotlib.pyplot as plt\n",
    "import warnings\n",
    "import numpy as np\n",
    "warnings.filterwarnings(\"ignore\")\n",
    "%matplotlib inline\n",
    "sns.set(style=\"whitegrid\")\n",
    "#import missingno as msno\n",
    "#Interactive\n",
    "from IPython.core.interactiveshell import InteractiveShell\n",
    "InteractiveShell.ast_node_interactivity = \"all\"\n",
    "from IPython.display import display, HTML"
   ]
  },
  {
   "cell_type": "code",
   "execution_count": 2,
   "metadata": {
    "_uuid": "6467bebfb5d581c42e9089611cafbedb377227d8"
   },
   "outputs": [
    {
     "data": {
      "text/html": [
       "<script>\n",
       "code_show=true; \n",
       "function code_toggle() {\n",
       " if (code_show){\n",
       " $('div.input').hide();\n",
       " } else {\n",
       " $('div.input').show();\n",
       " }\n",
       " code_show = !code_show\n",
       " $('div.cell.code_cell.rendered.selected div.input').hide();\n",
       "} \n",
       "$( document ).ready(code_toggle);\n",
       "</script>\n",
       "<form action=\"javascript:code_toggle()\"><input type=\"submit\" class=\"btn btn-primary\" value=\"Click here to toggle on/off the raw code.\"></form>"
      ],
      "text/plain": [
       "<IPython.core.display.HTML object>"
      ]
     },
     "execution_count": 2,
     "metadata": {},
     "output_type": "execute_result"
    }
   ],
   "source": [
    "HTML('''<script>\n",
    "code_show=true; \n",
    "function code_toggle() {\n",
    " if (code_show){\n",
    " $('div.input').hide();\n",
    " } else {\n",
    " $('div.input').show();\n",
    " }\n",
    " code_show = !code_show\n",
    " $('div.cell.code_cell.rendered.selected div.input').hide();\n",
    "} \n",
    "$( document ).ready(code_toggle);\n",
    "</script>\n",
    "<form action=\"javascript:code_toggle()\"><input type=\"submit\" class=\"btn btn-primary\" value=\"Click here to toggle on/off the raw code.\"></form>''')"
   ]
  },
  {
   "cell_type": "markdown",
   "metadata": {
    "_uuid": "302c2fc889dfccb9f704329245cddfafa7ea7177"
   },
   "source": [
    "## Description of Dataset"
   ]
  },
  {
   "cell_type": "markdown",
   "metadata": {
    "_uuid": "2aaf25ab942d9e91735dc5238c3ef7d55200cd03"
   },
   "source": [
    "<h3>We are going to use a simple csv file \"Playstore.csv\", available on Kaggle.  \n",
    "Before getting into actual <i>movie</i>, let's have a look at our main characters :- </h3> \n",
    "\n",
    "    1) App :- Name of the App\n",
    "    2) Category :- Category under which the App falls.\n",
    "    3) Rating :- Application's rating on playstore\n",
    "    4) Reviews :- Number of reviews of the App.\n",
    "    5) Size :- Size of the App.\n",
    "    6) Install :- Number of Installs of the App\n",
    "    7) Type :- If the App is free/paid\n",
    "    8) Price :- Price of the app (0 if it is Free)\n",
    "    9) Content Rating :- Appropiate Target Audience of the App.\n",
    "    10) Genres:- Genre under which the App falls.\n",
    "    11) Last Updated :- Date when the App was last updated\n",
    "    12) Current Ver :- Current Version of the Application\n",
    "    13) Android Ver :- Minimum Android Version required to run the App\n",
    "    \n",
    "<i>So now we know our characters and a basic plot, lets start our movie with no more delay. </i>"
   ]
  },
  {
   "cell_type": "code",
   "execution_count": 3,
   "metadata": {
    "_uuid": "d274a6f3a038c893111c89aa1fd5a9233fc5ce6f"
   },
   "outputs": [
    {
     "name": "stdout",
     "output_type": "stream",
     "text": [
      "\n",
      " First 7 rows in our dataset\n"
     ]
    },
    {
     "data": {
      "text/html": [
       "<div>\n",
       "<style scoped>\n",
       "    .dataframe tbody tr th:only-of-type {\n",
       "        vertical-align: middle;\n",
       "    }\n",
       "\n",
       "    .dataframe tbody tr th {\n",
       "        vertical-align: top;\n",
       "    }\n",
       "\n",
       "    .dataframe thead th {\n",
       "        text-align: right;\n",
       "    }\n",
       "</style>\n",
       "<table border=\"1\" class=\"dataframe\">\n",
       "  <thead>\n",
       "    <tr style=\"text-align: right;\">\n",
       "      <th></th>\n",
       "      <th>App</th>\n",
       "      <th>Category</th>\n",
       "      <th>Rating</th>\n",
       "      <th>Reviews</th>\n",
       "      <th>Size</th>\n",
       "      <th>Installs</th>\n",
       "      <th>Type</th>\n",
       "      <th>Price</th>\n",
       "      <th>Content Rating</th>\n",
       "      <th>Genres</th>\n",
       "      <th>Last Updated</th>\n",
       "      <th>Current Ver</th>\n",
       "      <th>Android Ver</th>\n",
       "    </tr>\n",
       "  </thead>\n",
       "  <tbody>\n",
       "    <tr>\n",
       "      <th>0</th>\n",
       "      <td>Photo Editor &amp; Candy Camera &amp; Grid &amp; ScrapBook</td>\n",
       "      <td>ART_AND_DESIGN</td>\n",
       "      <td>4.1</td>\n",
       "      <td>159</td>\n",
       "      <td>19M</td>\n",
       "      <td>10,000+</td>\n",
       "      <td>Free</td>\n",
       "      <td>0</td>\n",
       "      <td>Everyone</td>\n",
       "      <td>Art &amp; Design</td>\n",
       "      <td>January 7, 2018</td>\n",
       "      <td>1.0.0</td>\n",
       "      <td>4.0.3 and up</td>\n",
       "    </tr>\n",
       "    <tr>\n",
       "      <th>1</th>\n",
       "      <td>Coloring book moana</td>\n",
       "      <td>ART_AND_DESIGN</td>\n",
       "      <td>3.9</td>\n",
       "      <td>967</td>\n",
       "      <td>14M</td>\n",
       "      <td>500,000+</td>\n",
       "      <td>Free</td>\n",
       "      <td>0</td>\n",
       "      <td>Everyone</td>\n",
       "      <td>Art &amp; Design;Pretend Play</td>\n",
       "      <td>January 15, 2018</td>\n",
       "      <td>2.0.0</td>\n",
       "      <td>4.0.3 and up</td>\n",
       "    </tr>\n",
       "    <tr>\n",
       "      <th>2</th>\n",
       "      <td>U Launcher Lite – FREE Live Cool Themes, Hide ...</td>\n",
       "      <td>ART_AND_DESIGN</td>\n",
       "      <td>4.7</td>\n",
       "      <td>87510</td>\n",
       "      <td>8.7M</td>\n",
       "      <td>5,000,000+</td>\n",
       "      <td>Free</td>\n",
       "      <td>0</td>\n",
       "      <td>Everyone</td>\n",
       "      <td>Art &amp; Design</td>\n",
       "      <td>August 1, 2018</td>\n",
       "      <td>1.2.4</td>\n",
       "      <td>4.0.3 and up</td>\n",
       "    </tr>\n",
       "    <tr>\n",
       "      <th>3</th>\n",
       "      <td>Sketch - Draw &amp; Paint</td>\n",
       "      <td>ART_AND_DESIGN</td>\n",
       "      <td>4.5</td>\n",
       "      <td>215644</td>\n",
       "      <td>25M</td>\n",
       "      <td>50,000,000+</td>\n",
       "      <td>Free</td>\n",
       "      <td>0</td>\n",
       "      <td>Teen</td>\n",
       "      <td>Art &amp; Design</td>\n",
       "      <td>June 8, 2018</td>\n",
       "      <td>Varies with device</td>\n",
       "      <td>4.2 and up</td>\n",
       "    </tr>\n",
       "    <tr>\n",
       "      <th>4</th>\n",
       "      <td>Pixel Draw - Number Art Coloring Book</td>\n",
       "      <td>ART_AND_DESIGN</td>\n",
       "      <td>4.3</td>\n",
       "      <td>967</td>\n",
       "      <td>2.8M</td>\n",
       "      <td>100,000+</td>\n",
       "      <td>Free</td>\n",
       "      <td>0</td>\n",
       "      <td>Everyone</td>\n",
       "      <td>Art &amp; Design;Creativity</td>\n",
       "      <td>June 20, 2018</td>\n",
       "      <td>1.1</td>\n",
       "      <td>4.4 and up</td>\n",
       "    </tr>\n",
       "    <tr>\n",
       "      <th>5</th>\n",
       "      <td>Paper flowers instructions</td>\n",
       "      <td>ART_AND_DESIGN</td>\n",
       "      <td>4.4</td>\n",
       "      <td>167</td>\n",
       "      <td>5.6M</td>\n",
       "      <td>50,000+</td>\n",
       "      <td>Free</td>\n",
       "      <td>0</td>\n",
       "      <td>Everyone</td>\n",
       "      <td>Art &amp; Design</td>\n",
       "      <td>March 26, 2017</td>\n",
       "      <td>1.0</td>\n",
       "      <td>2.3 and up</td>\n",
       "    </tr>\n",
       "    <tr>\n",
       "      <th>6</th>\n",
       "      <td>Smoke Effect Photo Maker - Smoke Editor</td>\n",
       "      <td>ART_AND_DESIGN</td>\n",
       "      <td>3.8</td>\n",
       "      <td>178</td>\n",
       "      <td>19M</td>\n",
       "      <td>50,000+</td>\n",
       "      <td>Free</td>\n",
       "      <td>0</td>\n",
       "      <td>Everyone</td>\n",
       "      <td>Art &amp; Design</td>\n",
       "      <td>April 26, 2018</td>\n",
       "      <td>1.1</td>\n",
       "      <td>4.0.3 and up</td>\n",
       "    </tr>\n",
       "  </tbody>\n",
       "</table>\n",
       "</div>"
      ],
      "text/plain": [
       "                                                 App        Category  Rating  \\\n",
       "0     Photo Editor & Candy Camera & Grid & ScrapBook  ART_AND_DESIGN     4.1   \n",
       "1                                Coloring book moana  ART_AND_DESIGN     3.9   \n",
       "2  U Launcher Lite – FREE Live Cool Themes, Hide ...  ART_AND_DESIGN     4.7   \n",
       "3                              Sketch - Draw & Paint  ART_AND_DESIGN     4.5   \n",
       "4              Pixel Draw - Number Art Coloring Book  ART_AND_DESIGN     4.3   \n",
       "5                         Paper flowers instructions  ART_AND_DESIGN     4.4   \n",
       "6            Smoke Effect Photo Maker - Smoke Editor  ART_AND_DESIGN     3.8   \n",
       "\n",
       "  Reviews  Size     Installs  Type Price Content Rating  \\\n",
       "0     159   19M      10,000+  Free     0       Everyone   \n",
       "1     967   14M     500,000+  Free     0       Everyone   \n",
       "2   87510  8.7M   5,000,000+  Free     0       Everyone   \n",
       "3  215644   25M  50,000,000+  Free     0           Teen   \n",
       "4     967  2.8M     100,000+  Free     0       Everyone   \n",
       "5     167  5.6M      50,000+  Free     0       Everyone   \n",
       "6     178   19M      50,000+  Free     0       Everyone   \n",
       "\n",
       "                      Genres      Last Updated         Current Ver  \\\n",
       "0               Art & Design   January 7, 2018               1.0.0   \n",
       "1  Art & Design;Pretend Play  January 15, 2018               2.0.0   \n",
       "2               Art & Design    August 1, 2018               1.2.4   \n",
       "3               Art & Design      June 8, 2018  Varies with device   \n",
       "4    Art & Design;Creativity     June 20, 2018                 1.1   \n",
       "5               Art & Design    March 26, 2017                 1.0   \n",
       "6               Art & Design    April 26, 2018                 1.1   \n",
       "\n",
       "    Android Ver  \n",
       "0  4.0.3 and up  \n",
       "1  4.0.3 and up  \n",
       "2  4.0.3 and up  \n",
       "3    4.2 and up  \n",
       "4    4.4 and up  \n",
       "5    2.3 and up  \n",
       "6  4.0.3 and up  "
      ]
     },
     "metadata": {},
     "output_type": "display_data"
    },
    {
     "name": "stdout",
     "output_type": "stream",
     "text": [
      "\n",
      " Number of rows in our dataset = 10841\n"
     ]
    }
   ],
   "source": [
    "#Reading data\n",
    "storedata = pd.read_csv(\"install.csv\")\n",
    "\n",
    "print(\"\\n First 7 rows in our dataset\")\n",
    "display(storedata.head(7))\n",
    "\n",
    "print(\"\\n Number of rows in our dataset = \" + str(storedata.shape[0]))"
   ]
  },
  {
   "cell_type": "code",
   "execution_count": null,
   "metadata": {
    "_uuid": "cba72f91ef4382e1051d07a5079d976c9fc7cbfa"
   },
   "outputs": [],
   "source": []
  },
  {
   "cell_type": "markdown",
   "metadata": {
    "_uuid": "b58cd2a963ae337e7703825d4cf96422cb33bd17"
   },
   "source": [
    "## Features Engineering  \n",
    "\n",
    "Like any other movie, our movie will also revolve around one main character. In this story, it is <b>'Installs'</b>. We will see who all character are his friends, foes and the ones who just doesn;t care about him.   \n",
    "\n",
    "As we can see from the beginning Genres are Category are somewhat same. So we can omit Category as Genres present all its relevant information along with sub-categories. <i> Sayonara Category </i>  \n",
    "\n",
    "Before getting into action part, our favourite <i>visualization</i> part, we will transform our character to a state where it is really easy for them to do all cool actions and deliver us amazing visualizations.\n",
    "\n",
    "    1) As far as I can understand, 'last updated' gives us to know if the developers are still improving this     app or moved on to some other work. So we can just update our data accordingly to easily represent that.\n",
    "    2) 'Android Ver.' can be represented more easily to use it in visualization.\n",
    "\n",
    "Ok ... Let's continue !!\n",
    "    "
   ]
  },
  {
   "cell_type": "code",
   "execution_count": 4,
   "metadata": {
    "_uuid": "63e60b105f4d06cb5563eeb08e9125945d83f575"
   },
   "outputs": [],
   "source": [
    "#Last Updated to (Month, Year) to number\n",
    "storedata['Last Updated'] = pd.to_datetime(storedata['Last Updated'],format='%B %d, %Y',errors='coerce').astype('str')\n",
    "\n",
    "def split_mul(data):\n",
    "    try:\n",
    "        data=list(map(int,data.split('-')))\n",
    "        return data[0]+(data[1]*12)+data[2]\n",
    "    except:\n",
    "        return \"Nan\"\n",
    "storedata['Last Updated'] = [split_mul(x) for x in storedata['Last Updated']]\n",
    "\n",
    "#Improve 'Android Ver' and 'Installs' representation\n",
    "storedata[\"Android Ver\"] = storedata[\"Android Ver\"].str.split(n=1, expand=True)\n",
    "\n",
    "def deal_with_abnormal_strings(data):\n",
    "    data[data.str.isnumeric()==False]=-1\n",
    "    data=data.astype(np.float32)\n",
    "    return data\n",
    "\n",
    "storedata.Installs = [x.strip().replace('+', '').replace(',','') for x in storedata.Installs]\n",
    "storedata.Installs = deal_with_abnormal_strings(storedata.Installs)\n",
    "\n",
    "storedata.Size = [x.strip().replace('M', '').replace(',','') for x in storedata.Size]\n",
    "\n",
    "def convert_float(val):\n",
    "    try:\n",
    "        return float(val)\n",
    "    except ValueError:\n",
    "        try:\n",
    "            val=val.split('.')\n",
    "            return float(val[0]+'.'+val[1])\n",
    "        except:\n",
    "            return np.nan\n",
    "\n"
   ]
  },
  {
   "cell_type": "code",
   "execution_count": 5,
   "metadata": {
    "_uuid": "07926ebb90fa4b2280ee8efa17c30966d91e43e5"
   },
   "outputs": [
    {
     "data": {
      "text/html": [
       "<div>\n",
       "<style scoped>\n",
       "    .dataframe tbody tr th:only-of-type {\n",
       "        vertical-align: middle;\n",
       "    }\n",
       "\n",
       "    .dataframe tbody tr th {\n",
       "        vertical-align: top;\n",
       "    }\n",
       "\n",
       "    .dataframe thead th {\n",
       "        text-align: right;\n",
       "    }\n",
       "</style>\n",
       "<table border=\"1\" class=\"dataframe\">\n",
       "  <thead>\n",
       "    <tr style=\"text-align: right;\">\n",
       "      <th></th>\n",
       "      <th>App</th>\n",
       "      <th>Category</th>\n",
       "      <th>Rating</th>\n",
       "      <th>Reviews</th>\n",
       "      <th>Size</th>\n",
       "      <th>Installs</th>\n",
       "      <th>Type</th>\n",
       "      <th>Price</th>\n",
       "      <th>Content Rating</th>\n",
       "      <th>Genres</th>\n",
       "      <th>Last Updated</th>\n",
       "      <th>Current Ver</th>\n",
       "      <th>Android Ver</th>\n",
       "    </tr>\n",
       "  </thead>\n",
       "  <tbody>\n",
       "    <tr>\n",
       "      <th>0</th>\n",
       "      <td>Photo Editor &amp; Candy Camera &amp; Grid &amp; ScrapBook</td>\n",
       "      <td>ART_AND_DESIGN</td>\n",
       "      <td>4.1</td>\n",
       "      <td>159</td>\n",
       "      <td>19</td>\n",
       "      <td>10000.0</td>\n",
       "      <td>Free</td>\n",
       "      <td>0</td>\n",
       "      <td>Everyone</td>\n",
       "      <td>Art &amp; Design</td>\n",
       "      <td>2037</td>\n",
       "      <td>1.0.0</td>\n",
       "      <td>4.0.3</td>\n",
       "    </tr>\n",
       "    <tr>\n",
       "      <th>1</th>\n",
       "      <td>Coloring book moana</td>\n",
       "      <td>ART_AND_DESIGN</td>\n",
       "      <td>3.9</td>\n",
       "      <td>967</td>\n",
       "      <td>14</td>\n",
       "      <td>500000.0</td>\n",
       "      <td>Free</td>\n",
       "      <td>0</td>\n",
       "      <td>Everyone</td>\n",
       "      <td>Art &amp; Design;Pretend Play</td>\n",
       "      <td>2045</td>\n",
       "      <td>2.0.0</td>\n",
       "      <td>4.0.3</td>\n",
       "    </tr>\n",
       "    <tr>\n",
       "      <th>2</th>\n",
       "      <td>U Launcher Lite – FREE Live Cool Themes, Hide ...</td>\n",
       "      <td>ART_AND_DESIGN</td>\n",
       "      <td>4.7</td>\n",
       "      <td>87510</td>\n",
       "      <td>8.7</td>\n",
       "      <td>5000000.0</td>\n",
       "      <td>Free</td>\n",
       "      <td>0</td>\n",
       "      <td>Everyone</td>\n",
       "      <td>Art &amp; Design</td>\n",
       "      <td>2115</td>\n",
       "      <td>1.2.4</td>\n",
       "      <td>4.0.3</td>\n",
       "    </tr>\n",
       "    <tr>\n",
       "      <th>3</th>\n",
       "      <td>Sketch - Draw &amp; Paint</td>\n",
       "      <td>ART_AND_DESIGN</td>\n",
       "      <td>4.5</td>\n",
       "      <td>215644</td>\n",
       "      <td>25</td>\n",
       "      <td>50000000.0</td>\n",
       "      <td>Free</td>\n",
       "      <td>0</td>\n",
       "      <td>Teen</td>\n",
       "      <td>Art &amp; Design</td>\n",
       "      <td>2098</td>\n",
       "      <td>Varies with device</td>\n",
       "      <td>4.2</td>\n",
       "    </tr>\n",
       "    <tr>\n",
       "      <th>4</th>\n",
       "      <td>Pixel Draw - Number Art Coloring Book</td>\n",
       "      <td>ART_AND_DESIGN</td>\n",
       "      <td>4.3</td>\n",
       "      <td>967</td>\n",
       "      <td>2.8</td>\n",
       "      <td>100000.0</td>\n",
       "      <td>Free</td>\n",
       "      <td>0</td>\n",
       "      <td>Everyone</td>\n",
       "      <td>Art &amp; Design;Creativity</td>\n",
       "      <td>2110</td>\n",
       "      <td>1.1</td>\n",
       "      <td>4.4</td>\n",
       "    </tr>\n",
       "    <tr>\n",
       "      <th>5</th>\n",
       "      <td>Paper flowers instructions</td>\n",
       "      <td>ART_AND_DESIGN</td>\n",
       "      <td>4.4</td>\n",
       "      <td>167</td>\n",
       "      <td>5.6</td>\n",
       "      <td>50000.0</td>\n",
       "      <td>Free</td>\n",
       "      <td>0</td>\n",
       "      <td>Everyone</td>\n",
       "      <td>Art &amp; Design</td>\n",
       "      <td>2079</td>\n",
       "      <td>1.0</td>\n",
       "      <td>2.3</td>\n",
       "    </tr>\n",
       "    <tr>\n",
       "      <th>6</th>\n",
       "      <td>Smoke Effect Photo Maker - Smoke Editor</td>\n",
       "      <td>ART_AND_DESIGN</td>\n",
       "      <td>3.8</td>\n",
       "      <td>178</td>\n",
       "      <td>19</td>\n",
       "      <td>50000.0</td>\n",
       "      <td>Free</td>\n",
       "      <td>0</td>\n",
       "      <td>Everyone</td>\n",
       "      <td>Art &amp; Design</td>\n",
       "      <td>2092</td>\n",
       "      <td>1.1</td>\n",
       "      <td>4.0.3</td>\n",
       "    </tr>\n",
       "  </tbody>\n",
       "</table>\n",
       "</div>"
      ],
      "text/plain": [
       "                                                 App        Category  Rating  \\\n",
       "0     Photo Editor & Candy Camera & Grid & ScrapBook  ART_AND_DESIGN     4.1   \n",
       "1                                Coloring book moana  ART_AND_DESIGN     3.9   \n",
       "2  U Launcher Lite – FREE Live Cool Themes, Hide ...  ART_AND_DESIGN     4.7   \n",
       "3                              Sketch - Draw & Paint  ART_AND_DESIGN     4.5   \n",
       "4              Pixel Draw - Number Art Coloring Book  ART_AND_DESIGN     4.3   \n",
       "5                         Paper flowers instructions  ART_AND_DESIGN     4.4   \n",
       "6            Smoke Effect Photo Maker - Smoke Editor  ART_AND_DESIGN     3.8   \n",
       "\n",
       "  Reviews Size    Installs  Type Price Content Rating  \\\n",
       "0     159   19     10000.0  Free     0       Everyone   \n",
       "1     967   14    500000.0  Free     0       Everyone   \n",
       "2   87510  8.7   5000000.0  Free     0       Everyone   \n",
       "3  215644   25  50000000.0  Free     0           Teen   \n",
       "4     967  2.8    100000.0  Free     0       Everyone   \n",
       "5     167  5.6     50000.0  Free     0       Everyone   \n",
       "6     178   19     50000.0  Free     0       Everyone   \n",
       "\n",
       "                      Genres Last Updated         Current Ver Android Ver  \n",
       "0               Art & Design         2037               1.0.0       4.0.3  \n",
       "1  Art & Design;Pretend Play         2045               2.0.0       4.0.3  \n",
       "2               Art & Design         2115               1.2.4       4.0.3  \n",
       "3               Art & Design         2098  Varies with device         4.2  \n",
       "4    Art & Design;Creativity         2110                 1.1         4.4  \n",
       "5               Art & Design         2079                 1.0         2.3  \n",
       "6               Art & Design         2092                 1.1       4.0.3  "
      ]
     },
     "execution_count": 5,
     "metadata": {},
     "output_type": "execute_result"
    }
   ],
   "source": [
    "storedata.head(7)"
   ]
  },
  {
   "cell_type": "markdown",
   "metadata": {
    "_uuid": "d0105cb8d32e94535df8dca1b03774367c20fd0b"
   },
   "source": [
    "## Visulaizations \n",
    "\n",
    "Now we'll get into the fun part. We will try different visualization techniques to understand the life of our hero \"Installs\" and other characters."
   ]
  },
  {
   "cell_type": "code",
   "execution_count": 6,
   "metadata": {
    "_uuid": "6b34fe88b47cf528756897f37e4ca6afab9fd034"
   },
   "outputs": [
    {
     "data": {
      "image/png": "[encoded data removed]",
      "text/plain": [
       "<Figure size 1080x504 with 1 Axes>"
      ]
     },
     "metadata": {},
     "output_type": "display_data"
    },
    {
     "data": {
      "text/html": [
       "<div>\n",
       "<style scoped>\n",
       "    .dataframe tbody tr th:only-of-type {\n",
       "        vertical-align: middle;\n",
       "    }\n",
       "\n",
       "    .dataframe tbody tr th {\n",
       "        vertical-align: top;\n",
       "    }\n",
       "\n",
       "    .dataframe thead th {\n",
       "        text-align: right;\n",
       "    }\n",
       "</style>\n",
       "<table border=\"1\" class=\"dataframe\">\n",
       "  <thead>\n",
       "    <tr style=\"text-align: right;\">\n",
       "      <th></th>\n",
       "      <th>Category</th>\n",
       "      <th>Count</th>\n",
       "    </tr>\n",
       "  </thead>\n",
       "  <tbody>\n",
       "    <tr>\n",
       "      <th>12</th>\n",
       "      <td>FAMILY</td>\n",
       "      <td>1972</td>\n",
       "    </tr>\n",
       "    <tr>\n",
       "      <th>15</th>\n",
       "      <td>GAME</td>\n",
       "      <td>1144</td>\n",
       "    </tr>\n",
       "    <tr>\n",
       "      <th>30</th>\n",
       "      <td>TOOLS</td>\n",
       "      <td>843</td>\n",
       "    </tr>\n",
       "    <tr>\n",
       "      <th>21</th>\n",
       "      <td>MEDICAL</td>\n",
       "      <td>463</td>\n",
       "    </tr>\n",
       "    <tr>\n",
       "      <th>5</th>\n",
       "      <td>BUSINESS</td>\n",
       "      <td>460</td>\n",
       "    </tr>\n",
       "    <tr>\n",
       "      <th>26</th>\n",
       "      <td>PRODUCTIVITY</td>\n",
       "      <td>424</td>\n",
       "    </tr>\n",
       "  </tbody>\n",
       "</table>\n",
       "</div>"
      ],
      "text/plain": [
       "        Category  Count\n",
       "12        FAMILY   1972\n",
       "15          GAME   1144\n",
       "30         TOOLS    843\n",
       "21       MEDICAL    463\n",
       "5       BUSINESS    460\n",
       "26  PRODUCTIVITY    424"
      ]
     },
     "metadata": {},
     "output_type": "display_data"
    }
   ],
   "source": [
    "#Number of categories of apps in the store.....\n",
    "def plot_number_category():\n",
    "    fig, ax = plt.subplots()\n",
    "    fig.set_size_inches(15, 7)\n",
    "    fig.autofmt_xdate()\n",
    "    countplot=sns.categorical.countplot(storedata.Category,ax=ax)\n",
    "    plt.show(countplot)\n",
    "\n",
    "plot_number_category()\n",
    "\n",
    "# Tabular representation\n",
    "top_cat=storedata.groupby('Category').size().reset_index(name='Count').nlargest(6,'Count')\n",
    "display(top_cat)\n"
   ]
  },
  {
   "cell_type": "markdown",
   "metadata": {
    "_uuid": "b7bdca1e0a71bb1e8a6ef0b77b4fe032894e7c39"
   },
   "source": [
    "Now we know that 'Family' and 'Game' category rules the playstore market, followed by Tools,Medical and Business.\n",
    "<b>Okay Cool ..... </b> Developers understand our daily requirements and filling the market by similar apps.\n",
    "So lets compare this 5 apps with their actual installs."
   ]
  },
  {
   "cell_type": "code",
   "execution_count": 7,
   "metadata": {
    "_uuid": "b0f9a074c077304891fd0c4679454bf24f5ef71e",
    "scrolled": true
   },
   "outputs": [
    {
     "data": {
      "image/png": "[encoded data removed]",
      "text/plain": [
       "<Figure size 864x288 with 1 Axes>"
      ]
     },
     "metadata": {},
     "output_type": "display_data"
    }
   ],
   "source": [
    "\n",
    "\n",
    "cat=top_cat.Category.tolist()\n",
    "data_top6=storedata.groupby('Category')['Installs'].agg('sum').loc[cat].reset_index(name='Number_Installations')\n",
    "data=storedata.groupby('Category')['Installs'].agg('sum').reset_index(name='Number_Installations')\n",
    "\n",
    "#Comparing top 5 category on the basis of 'Installs'\n",
    "def compare_6(data):\n",
    "    fig = plt.figure(figsize=(12,4))\n",
    "    title=plt.title('Comparing top 5 category on the basis of Installs')\n",
    "    bar=sns.barplot(y=data['Category'],x=data['Number_Installations'])\n",
    "    plt.show(bar)\n",
    "\n",
    "#Comparing all categoryies on the basis of 'Installs'\n",
    "def compare_all(data):\n",
    "    fig = plt.figure(figsize=(12,7))\n",
    "    title=plt.title('Comparing all categories on the basis of Installs')\n",
    "    bar=sns.barplot(y=data['Category'],x=data['Number_Installations'])\n",
    "    plt.show(bar)\n",
    "    \n",
    "compare_6(data_top6)\n",
    "\n"
   ]
  },
  {
   "cell_type": "code",
   "execution_count": 8,
   "metadata": {
    "_uuid": "5c83ce22fcc592191d9b49793dcd336f7204b648"
   },
   "outputs": [
    {
     "data": {
      "image/png": "[encoded data removed]",
      "text/plain": [
       "<Figure size 864x504 with 1 Axes>"
      ]
     },
     "metadata": {},
     "output_type": "display_data"
    }
   ],
   "source": [
    "compare_all(data)"
   ]
  },
  {
   "cell_type": "code",
   "execution_count": 9,
   "metadata": {
    "_uuid": "4479d09ff23a1c54df5883568e81868661b0fa6f"
   },
   "outputs": [
    {
     "name": "stdout",
     "output_type": "stream",
     "text": [
      "\n",
      "Tabular Rep.Of Top 5 Number of Installation by Category\n"
     ]
    },
    {
     "data": {
      "text/html": [
       "<div>\n",
       "<style scoped>\n",
       "    .dataframe tbody tr th:only-of-type {\n",
       "        vertical-align: middle;\n",
       "    }\n",
       "\n",
       "    .dataframe tbody tr th {\n",
       "        vertical-align: top;\n",
       "    }\n",
       "\n",
       "    .dataframe thead th {\n",
       "        text-align: right;\n",
       "    }\n",
       "</style>\n",
       "<table border=\"1\" class=\"dataframe\">\n",
       "  <thead>\n",
       "    <tr style=\"text-align: right;\">\n",
       "      <th></th>\n",
       "      <th>Category</th>\n",
       "      <th>Number_Installations</th>\n",
       "    </tr>\n",
       "  </thead>\n",
       "  <tbody>\n",
       "    <tr>\n",
       "      <th>15</th>\n",
       "      <td>GAME</td>\n",
       "      <td>3.508602e+10</td>\n",
       "    </tr>\n",
       "    <tr>\n",
       "      <th>7</th>\n",
       "      <td>COMMUNICATION</td>\n",
       "      <td>3.264728e+10</td>\n",
       "    </tr>\n",
       "    <tr>\n",
       "      <th>26</th>\n",
       "      <td>PRODUCTIVITY</td>\n",
       "      <td>1.417609e+10</td>\n",
       "    </tr>\n",
       "    <tr>\n",
       "      <th>28</th>\n",
       "      <td>SOCIAL</td>\n",
       "      <td>1.406987e+10</td>\n",
       "    </tr>\n",
       "    <tr>\n",
       "      <th>30</th>\n",
       "      <td>TOOLS</td>\n",
       "      <td>1.145277e+10</td>\n",
       "    </tr>\n",
       "    <tr>\n",
       "      <th>12</th>\n",
       "      <td>FAMILY</td>\n",
       "      <td>1.025826e+10</td>\n",
       "    </tr>\n",
       "  </tbody>\n",
       "</table>\n",
       "</div>"
      ],
      "text/plain": [
       "         Category  Number_Installations\n",
       "15           GAME          3.508602e+10\n",
       "7   COMMUNICATION          3.264728e+10\n",
       "26   PRODUCTIVITY          1.417609e+10\n",
       "28         SOCIAL          1.406987e+10\n",
       "30          TOOLS          1.145277e+10\n",
       "12         FAMILY          1.025826e+10"
      ]
     },
     "metadata": {},
     "output_type": "display_data"
    }
   ],
   "source": [
    "print('\\nTabular Rep.Of Top 5 Number of Installation by Category')\n",
    "display(data.nlargest(6,'Number_Installations'))"
   ]
  },
  {
   "cell_type": "markdown",
   "metadata": {
    "_uuid": "b7b9ead8f6d9f601ea7e1e9a82211dc631b81fca"
   },
   "source": [
    "<b>Woww...</b> Family betrayed our 'Installs'.As we have seen so far, list of Top 6 Categories (acc. to number of apps developed) and Top 6 categories (acc. to number of Installs) differ a lot.  \n",
    "We can feel this story. As a developer, we can use this information to decide our future projects.  \n",
    "\n",
    "Till now, our movie has been building slowly. Now let's increase its pace and see the relationship of our hero 'Installs' with other characters......"
   ]
  },
  {
   "cell_type": "code",
   "execution_count": 10,
   "metadata": {
    "_uuid": "8743b0840c1d1d57612d3a49293d055a895eb23a",
    "scrolled": true
   },
   "outputs": [
    {
     "name": "stdout",
     "output_type": "stream",
     "text": [
      "\n",
      " Correlation of Installs with other selected features \n"
     ]
    },
    {
     "data": {
      "text/plain": [
       "Installs        1.000000\n",
       "Reviews         0.643122\n",
       "Size            0.162557\n",
       "Rating          0.048652\n",
       "Last Updated    0.042500\n",
       "Android Ver     0.037211\n",
       "Current Ver    -0.002024\n",
       "Name: Installs, dtype: float64"
      ]
     },
     "metadata": {},
     "output_type": "display_data"
    }
   ],
   "source": [
    "#features to use for correlation\n",
    "corr_cat=['Rating','Reviews','Size','Installs','Current Ver','Android Ver','Last Updated']\n",
    "for i in corr_cat:\n",
    "    storedata[i]=storedata[i].apply(lambda x: convert_float(x)) #To get it compatible to check correlation\n",
    "\n",
    "correlation = storedata[corr_cat].corr()\n",
    "\n",
    "print(\"\\n Correlation of Installs with other selected features \")\n",
    "display(correlation['Installs'].sort_values(ascending=False))\n",
    "\n"
   ]
  },
  {
   "cell_type": "code",
   "execution_count": 11,
   "metadata": {
    "_uuid": "9f276ee8c691972765ab8707c74e00690d26fd1e"
   },
   "outputs": [
    {
     "data": {
      "image/png": "[encoded data removed]",
      "text/plain": [
       "<Figure size 1008x864 with 2 Axes>"
      ]
     },
     "metadata": {},
     "output_type": "display_data"
    }
   ],
   "source": [
    "#Correlation Heatmap \n",
    "f , ax = plt.subplots(figsize = (14,12))\n",
    "title=plt.title('Correlation of Numeric Features with Installs',y=1,size=16)\n",
    "heatmap=sns.heatmap(correlation,square = True,  vmax=0.8)\n",
    "plt.show(heatmap)"
   ]
  },
  {
   "cell_type": "markdown",
   "metadata": {
    "_uuid": "83a8864920db705d0b8689b3d49326a2b2307782"
   },
   "source": [
    "<b>Are you surprised ???? </b>  \n",
    "I am .. 'Installs' is really so alone. No neighbour cares about him. They all are completely uncorrelated except Reviews. Reviews seems to have some effect on number of Installs. <b>BUT WAIT</b>  We can be wrong here. It seems to be a minor data leakage condition. With more installs comes more reviews. So they are more codependant.   \n",
    "\n",
    "<i>There's still some hope for our hero. We'll have happy ending. Let's check the categorical features for some positive information. Hang on ;)</i>"
   ]
  },
  {
   "cell_type": "code",
   "execution_count": 12,
   "metadata": {
    "_uuid": "79202122e9be52eab76fd23cd6a634533563a4f6",
    "scrolled": false
   },
   "outputs": [
    {
     "data": {
      "image/png": "[encoded data removed]",
      "text/plain": [
       "<Figure size 864x432 with 1 Axes>"
      ]
     },
     "metadata": {},
     "output_type": "display_data"
    },
    {
     "data": {
      "image/png": "[encoded data removed]",
      "text/plain": [
       "<Figure size 864x432 with 1 Axes>"
      ]
     },
     "metadata": {},
     "output_type": "display_data"
    }
   ],
   "source": [
    "install_sum_content=storedata.groupby('Content Rating')['Installs'].agg('sum').reset_index(name='Number_Installations')\n",
    "app_sum_content=data=storedata.groupby('Content Rating')['Installs'].size().reset_index(name='Number_Apps')\n",
    "\n",
    "def content_bar_sum(data):\n",
    "    fig=plt.figure(figsize=(12,6))\n",
    "    \n",
    "    title=plt.title('Comparision of content ratings (Number of Installations)')\n",
    "    content_bar = sns.barplot(x=data['Content Rating'],y=data['Number_Installations'])\n",
    "    plt.show(content_bar)\n",
    "    \n",
    "def content_bar_count(data):\n",
    "    fig=plt.figure(figsize=(12,6))\n",
    "    \n",
    "    title=plt.title('Comparision of content ratings (Number of Apps in Market)')\n",
    "    content_bar = sns.barplot(x=data['Content Rating'],y=data['Number_Apps'])\n",
    "    plt.show(content_bar)\n",
    "    \n",
    "content_bar_sum(install_sum_content)\n",
    "content_bar_count(app_sum_content)\n"
   ]
  },
  {
   "cell_type": "markdown",
   "metadata": {
    "_uuid": "85163ad74dc140f85d5b826301941824d1b61eb5"
   },
   "source": [
    "Okay !! It seems like 'Everyone' is the only choice for us to prefer. But no.... let's dive into this two graphs more to get good intel. Number of 'Teen' Apps are few as compared to 'Everyone' but when we check its 'Number of Installations', it seems like a good second best choice. <b>Few apps but Considerable Installations</b>  \n",
    "Ahaaa !! Our hero 'Install' just got his first good partner XD. Let's interrogate him."
   ]
  },
  {
   "cell_type": "code",
   "execution_count": 13,
   "metadata": {
    "_uuid": "20250f4c40e973afc2ae1ac3668ab52af3e8d798"
   },
   "outputs": [],
   "source": [
    "#Temporary dataframe with improved comparision metric for content rating\n",
    "content=pd.DataFrame()\n",
    "content['Content Rating'] = app_sum_content['Content Rating']\n",
    "content['No_Installations/Total_Apps']=install_sum_content['Number_Installations']/app_sum_content['Number_Apps']"
   ]
  },
  {
   "cell_type": "code",
   "execution_count": 14,
   "metadata": {
    "_uuid": "146e041c0054c85f19e6c2fc5b7ba0deb265282b"
   },
   "outputs": [
    {
     "data": {
      "image/png": "[encoded data removed]",
      "text/plain": [
       "<Figure size 864x504 with 1 Axes>"
      ]
     },
     "metadata": {},
     "output_type": "display_data"
    }
   ],
   "source": [
    "#Visualize content\n",
    "figure=plt.figure(figsize=(12,7))\n",
    "title=plt.title('Content Rating Comparision')\n",
    "bar=sns.barplot(x=content['Content Rating'],y=content['No_Installations/Total_Apps'])\n",
    "plt.show(bar)"
   ]
  },
  {
   "cell_type": "markdown",
   "metadata": {
    "_uuid": "24793fb4405e8c8da18cb202425e0112e25e8d04"
   },
   "source": [
    "Ahhaaa !!! Isn't that like a suspensive movie twist ;)  \n",
    "By a little tweak, we have got a completely different story. 'Everyone' is an easy option but 'Teen' and '10+' are the most rewarding.  \n",
    "And so, our hero 'Installs' moves forward on his journey. He has two paths to go :- 'Free' and 'Paid'. Let's see what happens now and what moves our hero."
   ]
  },
  {
   "cell_type": "code",
   "execution_count": 15,
   "metadata": {
    "_uuid": "5493a24e434258d451f126fe333f36e88697a842"
   },
   "outputs": [
    {
     "data": {
      "image/png": "[encoded data removed]",
      "text/plain": [
       "<Figure size 864x432 with 1 Axes>"
      ]
     },
     "metadata": {},
     "output_type": "display_data"
    }
   ],
   "source": [
    "install_sum_type=storedata.groupby('Type')['Installs'].agg('sum').reset_index(name='Number_Installations')\n",
    "\n",
    "def type_bar_sum(data):\n",
    "    fig=plt.figure(figsize=(12,6))\n",
    "    \n",
    "    title=plt.title('Comparision of  types (Number of Installations)')\n",
    "    content_bar = sns.barplot(x=data['Type'],y=data['Number_Installations'])\n",
    "    plt.show(content_bar)\n",
    "type_bar_sum(install_sum_type)"
   ]
  },
  {
   "cell_type": "markdown",
   "metadata": {
    "_uuid": "1892faaabf2697fb6994eecb721b8ea79d3e8e7a"
   },
   "source": [
    "Yea... I know ... It was a boring part... It turns that in our storyline we have only one path ... 'Free' one....  \n",
    "\n",
    "Have you ever wondered if the name of the App plays an impact on its number of installations!!!  \n",
    "Let's feed our curiousity.  \n",
    "<i>We'll make a feature column like :- App name greater than 2 words or not, and visualize the comparisions</i>"
   ]
  },
  {
   "cell_type": "code",
   "execution_count": 16,
   "metadata": {
    "_uuid": "6fbca684b3e8446c18cfc95e43d000e632980894"
   },
   "outputs": [
    {
     "data": {
      "image/png": "[encoded data removed]",
      "text/plain": [
       "<Figure size 1080x216 with 2 Axes>"
      ]
     },
     "metadata": {},
     "output_type": "display_data"
    },
    {
     "data": {
      "image/png": "[encoded data removed]",
      "text/plain": [
       "<Figure size 864x360 with 1 Axes>"
      ]
     },
     "metadata": {},
     "output_type": "display_data"
    }
   ],
   "source": [
    "storedata['Name_check']=['>2 words' if len(x.split())>2 else '<=2words' for x in storedata['App'] ]\n",
    "\n",
    "data_install= storedata.groupby('Name_check')['Installs'].agg('sum').reset_index(name='Number_Installations')\n",
    "data_apps= storedata.groupby('Name_check').size().reset_index(name='Number_Apps')\n",
    "\n",
    "\n",
    "fig,axes = plt.subplots(figsize=(15,3),ncols=2, nrows=1)\n",
    "\n",
    "title=axes[0].set_title(\"No. of Installations\", y = 1.1)\n",
    "title=axes[1].set_title(\"No of Apps\", y = 1.1)\n",
    "\n",
    "plot1=sns.barplot( x=data_install['Name_check'],y=data_install['Number_Installations'] , ax=axes[0])\n",
    "\n",
    "plot2=sns.barplot( x=data_apps['Name_check'],y=data_apps['Number_Apps'] , ax=axes[1])\n",
    "\n",
    "plt.show(fig)\n",
    "\n",
    "# No. of installation / No. of apps\n",
    "\n",
    "figure=plt.figure(figsize=(12,5))\n",
    "title=plt.title(\"Installations/Total Apps\", y = 1.0)\n",
    "plot3=sns.barplot( x=data_apps['Name_check'],y=data_install['Number_Installations']/data_apps['Number_Apps'] ,palette=sns.color_palette(palette=\"Set1\",n_colors=2,desat=.8))\n",
    "plt.show(figure)"
   ]
  },
  {
   "cell_type": "markdown",
   "metadata": {
    "_uuid": "e8c08efb5b27b4cf9b2da5e9f2da5eacc6185b53"
   },
   "source": [
    "As our visualizations speak, it is better to have a small name for our app. Well, I personally prefer small but effective names.  \n",
    "\n",
    "<b>But the movie never ends without witnessing any villians. So it is required to witness villians of our data.</b>\n",
    "\n",
    "\n",
    "## Missing Data Study\n"
   ]
  },
  {
   "cell_type": "code",
   "execution_count": 17,
   "metadata": {
    "_uuid": "476e75e800bc627b266a9cc8d1ce1d8060f83610"
   },
   "outputs": [
    {
     "data": {
      "text/plain": [
       "App                  0\n",
       "Category             0\n",
       "Rating            1474\n",
       "Reviews              1\n",
       "Size              2012\n",
       "Installs             0\n",
       "Type                 1\n",
       "Price                0\n",
       "Content Rating       1\n",
       "Genres               0\n",
       "Last Updated         1\n",
       "Current Ver       1667\n",
       "Android Ver       1377\n",
       "Name_check           0\n",
       "dtype: int64"
      ]
     },
     "execution_count": 17,
     "metadata": {},
     "output_type": "execute_result"
    },
    {
     "ename": "NameError",
     "evalue": "name 'msno' is not defined",
     "output_type": "error",
     "traceback": [
      "\u001b[1;31m---------------------------------------------------------------------------\u001b[0m",
      "\u001b[1;31mNameError\u001b[0m                                 Traceback (most recent call last)",
      "\u001b[1;32m<ipython-input-17-1c121a3ca266>\u001b[0m in \u001b[0;36m<module>\u001b[1;34m()\u001b[0m\n\u001b[0;32m      3\u001b[0m \u001b[1;33m\u001b[0m\u001b[0m\n\u001b[0;32m      4\u001b[0m \u001b[1;31m#Visualising missing data\u001b[0m\u001b[1;33m\u001b[0m\u001b[1;33m\u001b[0m\u001b[0m\n\u001b[1;32m----> 5\u001b[1;33m \u001b[0mmissing\u001b[0m \u001b[1;33m=\u001b[0m \u001b[0mmsno\u001b[0m\u001b[1;33m.\u001b[0m\u001b[0mmatrix\u001b[0m\u001b[1;33m(\u001b[0m\u001b[0mstoredata\u001b[0m\u001b[1;33m.\u001b[0m\u001b[0msample\u001b[0m\u001b[1;33m(\u001b[0m\u001b[1;36m250\u001b[0m\u001b[1;33m)\u001b[0m\u001b[1;33m)\u001b[0m\u001b[1;33m\u001b[0m\u001b[0m\n\u001b[0m",
      "\u001b[1;31mNameError\u001b[0m: name 'msno' is not defined"
     ]
    }
   ],
   "source": [
    "#Number of null values in each feature\n",
    "storedata.isnull().sum()\n",
    "\n",
    "#Visualising missing data\n",
    "missing = msno.matrix(storedata.sample(250))"
   ]
  },
  {
   "cell_type": "markdown",
   "metadata": {
    "_uuid": "acbeebc2c1215b223036cec29448eb5087102b62"
   },
   "source": [
    "As we witnessed... Rating,Size,Current Ver. and Android Ver. have null values but our visualizations were not affected by this as we handled them during processing.  \n",
    "Our hero is NaNproof XD.  \n",
    "\n",
    "Let's the increase of this scene with <b>Missingno Correlation Heatmap</b>  \n",
    "The missingno correlation heatmap measures nullity correlation: how strongly the presence or absence of one variable affects the presence of another:"
   ]
  },
  {
   "cell_type": "code",
   "execution_count": null,
   "metadata": {
    "_uuid": "319b06e57e2be62a8d235a85f4fee78e8a9c5674"
   },
   "outputs": [],
   "source": [
    "mheatmap=msno.heatmap(storedata)"
   ]
  },
  {
   "cell_type": "markdown",
   "metadata": {
    "_uuid": "5418761f02d9b0c8afb98ce6e0fab5476797682f"
   },
   "source": [
    "## Conclusion\n",
    "\n",
    "Yayyy!!! This is the end of our movie. Hope you enjoyed this journey.  \n",
    "In this, we have seen :-\n",
    "    1) How every feature has an unique impact on the story.\n",
    "    2) Why exploring data is important beforing starting to build ML models\n",
    "    3) How visualizations make anything interesting. ;)\n",
    "    4) There's hell lot of comeptition in Android market.\n",
    "\n",
    "Final Note :- This is the first movie directed by me. I have always tried running away from EDA, because Deep Learning and ML models seems super interesting. But believe me, EDA is an important subject.  \n",
    "And I will improve in this field and be regular with improved EDA's and interesting datasets.  \n",
    "Stay connected :D ;)\n",
    "\n",
    "<center><h1> Thank You !!!! </h1></center>"
   ]
  }
 ],
 "metadata": {
  "kernelspec": {
   "display_name": "Python 3",
   "language": "python",
   "name": "python3"
  },
  "language_info": {
   "codemirror_mode": {
    "name": "ipython",
    "version": 3
   },
   "file_extension": ".py",
   "mimetype": "text/x-python",
   "name": "python",
   "nbconvert_exporter": "python",
   "pygments_lexer": "ipython3",
   "version": "3.6.4"
  }
 },
 "nbformat": 4,
 "nbformat_minor": 1
}
