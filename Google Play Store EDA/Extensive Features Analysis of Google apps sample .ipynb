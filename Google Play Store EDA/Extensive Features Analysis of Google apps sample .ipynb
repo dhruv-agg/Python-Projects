{
  "cells": [
    {
      "metadata": {
        "_uuid": "8f2839f25d086af736a60e9eeb907d3b93b6e0e5",
        "_cell_guid": "b1076dfc-b9ad-4769-8c92-a6c4dae69d19",
        "trusted": true
      },
      "cell_type": "code",
      "source": "# This Python 3 environment comes with many helpful analytics libraries installed\n# It is defined by the kaggle/python docker image: https://github.com/kaggle/docker-python\n# For example, here's several helpful packages to load in \n\nimport numpy as np #linear algebra\nimport pandas as pd #data processing\nimport matplotlib.pyplot as plt\nimport seaborn as sns\nimport scipy as sp\n# Input data files are available in the \"../input/\" directory.\n# For example, running this (by clicking run or pressing Shift+Enter) will list the files in the input directory\n\nimport os\nprint(os.listdir(\"../input\"))\n\n# Any results you write to the current directory are saved as output.",
      "execution_count": null,
      "outputs": []
    },
    {
      "metadata": {
        "_uuid": "c806a6669f9ffeefc7480bafd6cca53330396c29"
      },
      "cell_type": "markdown",
      "source": "*                                                         **JOURNEY TO THE CENTER OF THE DATA**\n **Ok** ,This is my first kernel I do on kaggle here . I took a look to over all kernels here and I am here to  note some unique ideas using aggressive intuition about this dataset directed to the android developers community in order to help them developing their apps and increase reviews and also number of downloads.LETS GO \n \nSteps to our tiny journey:\nTake a look to our data\n\n**1.Univariate Analysis**   \n    \n**2.Bivariate Analysis**"
    },
    {
      "metadata": {
        "trusted": true,
        "_uuid": "805d1835ce33b29c6bd564ec35911f1c382d11aa"
      },
      "cell_type": "code",
      "source": "#lets read our data\ndb=pd.read_csv('../input/googleplaystore.csv')\n",
      "execution_count": null,
      "outputs": []
    },
    {
      "metadata": {
        "trusted": true,
        "_uuid": "02bd90ef13d9b3a7c9eda50f3057a0dceb200c94"
      },
      "cell_type": "code",
      "source": "'''lets descover our all data'''\n\n#tail\ndb.tail()",
      "execution_count": null,
      "outputs": []
    },
    {
      "metadata": {
        "trusted": true,
        "_uuid": "61a2ed37665e13994bb5fb456083439d897bcc0d"
      },
      "cell_type": "code",
      "source": "#head of data\ndb.head()",
      "execution_count": null,
      "outputs": []
    },
    {
      "metadata": {
        "_cell_guid": "79c7e3d0-c299-4dcb-8224-4455121ee9b0",
        "_uuid": "d629ff2d2480ee46fbb7e2d37f6b5fab8052498a",
        "trusted": true,
        "_kg_hide-input": true,
        "_kg_hide-output": false
      },
      "cell_type": "code",
      "source": "db.info()\n",
      "execution_count": null,
      "outputs": []
    },
    {
      "metadata": {
        "trusted": true,
        "_uuid": "1423b2adc9fcd12700100405f70c47060e0bd9fe"
      },
      "cell_type": "code",
      "source": "db.shape\n",
      "execution_count": null,
      "outputs": []
    },
    {
      "metadata": {
        "trusted": true,
        "_uuid": "929f602951d61da114be516626ce98782b5c1c99"
      },
      "cell_type": "code",
      "source": "db.describe()\n",
      "execution_count": null,
      "outputs": []
    },
    {
      "metadata": {
        "trusted": true,
        "_uuid": "b568fc5e04f8f6a5b86e1cd6e66f80419a31ad4a"
      },
      "cell_type": "code",
      "source": "db.dtypes\n",
      "execution_count": null,
      "outputs": []
    },
    {
      "metadata": {
        "_uuid": "5652ab921e758e7d1c8a12bc673b96c3a10406d5"
      },
      "cell_type": "markdown",
      "source": "we have found that all our features data types are objects ecept Rating\nnow we will convert some of them which we are interested in into numeric\nFeatures that we are interested in are:\nReviews ,Rating,Category ,Installs,Type,Size, Contet Rating,Current version and android versions. I think these are the most important features for Univariate analysis."
    },
    {
      "metadata": {
        "_uuid": "a0705de2805c0a94573a4aebe90ba8fabcdfa4ad"
      },
      "cell_type": "markdown",
      "source": "**Univariate : **  \n    1.Description\n    2.Transformation\n    3.Analysis"
    },
    {
      "metadata": {
        "_uuid": "cadef2de2683eb69417fa905c0d5397c140695c2"
      },
      "cell_type": "markdown",
      "source": "**Reviews:**\n\n1.Description\n\n2.Transformation"
    },
    {
      "metadata": {
        "trusted": true,
        "_uuid": "48c425fe91601df2b2f7f0bae3eeef9bcd7635fb"
      },
      "cell_type": "code",
      "source": "'''Description'''\ndb['Reviews'].describe()\n",
      "execution_count": null,
      "outputs": []
    },
    {
      "metadata": {
        "trusted": true,
        "_uuid": "2c38b63365b1314e361e4b43512e8ce30271da50"
      },
      "cell_type": "code",
      "source": "db.Reviews.isna().sum()",
      "execution_count": null,
      "outputs": []
    },
    {
      "metadata": {
        "trusted": true,
        "_uuid": "83b3eacb54318edf74cd0e5bece96025341fe5b1"
      },
      "cell_type": "code",
      "source": "'''Transformation'''\ndb['Reviews']=db['Reviews'].astype(int)\n",
      "execution_count": null,
      "outputs": []
    },
    {
      "metadata": {
        "_uuid": "d96b0ecd1624bd539ec0e9b78ce15ce7e07da1f2"
      },
      "cell_type": "markdown",
      "source": "**ERROR** : ValueError: invalid literal for int() with base 10: '3.0M'  !!\none M in 10841 ? is it millions? even if. I considered it as outlier . so It will affect my data aggressively\nlets get rid of it\n1. determine position of M row\n    a.**Manually** : crazy method . I am crazy .So what if you have 2 millions raws>>>BooooM\n    b.**Automatically**\n2. remove it\n"
    },
    {
      "metadata": {
        "trusted": true,
        "_uuid": "b0f8ee41e23f1f22a5a48ea9815a63006d6b0cf3"
      },
      "cell_type": "code",
      "source": "#get the position of the M value\ndb[db['Reviews'].str.contains('M')]",
      "execution_count": null,
      "outputs": []
    },
    {
      "metadata": {
        "_uuid": "d6ff8fe3d51bc8661479fe612da8681beec8d3be"
      },
      "cell_type": "markdown",
      "source": "Position of **10472** . \nnow remove it"
    },
    {
      "metadata": {
        "trusted": true,
        "_uuid": "9e4e70da643d141504ebcbf87df28289d5ce27d4"
      },
      "cell_type": "code",
      "source": "#drop series containing M\ndb.drop(db.index[10472],inplace=True)",
      "execution_count": null,
      "outputs": []
    },
    {
      "metadata": {
        "trusted": true,
        "_uuid": "1633b0959a806ec8eee0e0099d2dceaff2d1fab6"
      },
      "cell_type": "code",
      "source": "#convert column into integer values\ndb['Reviews']=db['Reviews'].astype(int)",
      "execution_count": null,
      "outputs": []
    },
    {
      "metadata": {
        "trusted": true,
        "_uuid": "2dfcd449d5fc787bb7f14d325d14d760da00df54"
      },
      "cell_type": "code",
      "source": "#check for conversion again\ndb.dtypes\n",
      "execution_count": null,
      "outputs": []
    },
    {
      "metadata": {
        "_uuid": "295bf53ce0399c397c9c6ccb494f10c8894b7de2"
      },
      "cell_type": "markdown",
      "source": "THATS IT , \nit is now numeric."
    },
    {
      "metadata": {
        "_uuid": "f1ea2450ae8841ecf6c1dc90e2c793ae860925c2"
      },
      "cell_type": "markdown",
      "source": "Befor Continuing , Lets make a function that makes our analysis instead of repeating codes:\nIllustrating  absolute frequency and plotting using barplot"
    },
    {
      "metadata": {
        "trusted": true,
        "_uuid": "ae604ced356df074645553a00851f5618ec84b71"
      },
      "cell_type": "code",
      "source": "def univariateAnalysis(featureName):\n    mDB=pd.DataFrame({'Absolute_Frequency':featureName.value_counts()})    \n    #get index of data as x axis and convert to an array\n    x=mDB.index.values\n    #get y and convert to an array\n    y=mDB.Absolute_Frequency.values\n    #scaling\n    plt.figure(figsize=(8,8))\n    #colors = sns.color_palette(\"CMRmap\", len(db))\n    #plotting\n    BarplotDB=sns.barplot(x,y,palette=\"CMRmap\")\n    #get ticks and make it 90 degree to be visible clearly\n    BarplotDB.set_xticklabels(BarplotDB.get_xticklabels(), rotation=90)\n",
      "execution_count": null,
      "outputs": []
    },
    {
      "metadata": {
        "_uuid": "49773d73094be72993b9c7c57fbd95f830a414ae"
      },
      "cell_type": "markdown",
      "source": "**Type**:\n1.Discription\n2.Transformation\n3.Analysis\n"
    },
    {
      "metadata": {
        "trusted": true,
        "_uuid": "726b8e5ebd06d5ef05b7fc986399a1ea31b75f79"
      },
      "cell_type": "code",
      "source": "db.Type.value_counts()\n",
      "execution_count": null,
      "outputs": []
    },
    {
      "metadata": {
        "trusted": true,
        "_uuid": "befd00f3db3444973e4488c0ecf5e7c8f121088e"
      },
      "cell_type": "code",
      "source": "db.Type.isna().sum()",
      "execution_count": null,
      "outputs": []
    },
    {
      "metadata": {
        "trusted": true,
        "scrolled": true,
        "_uuid": "a2194055ece946c0e1a203f6341116f9ef289c9b"
      },
      "cell_type": "code",
      "source": "'''Transformation'''\ndb['Type'].fillna('Free',inplace=True)\n",
      "execution_count": null,
      "outputs": []
    },
    {
      "metadata": {
        "trusted": true,
        "_uuid": "1fa814af46536c3abcbdc033f337bc377909aff2"
      },
      "cell_type": "code",
      "source": "db.Type.isna().sum()",
      "execution_count": null,
      "outputs": []
    },
    {
      "metadata": {
        "trusted": true,
        "scrolled": true,
        "_uuid": "0e413024186a8c87e1d310a3f7039fbb9a97b679"
      },
      "cell_type": "code",
      "source": "'''Analysis'''\nunivariateAnalysis(db.Type)\n",
      "execution_count": null,
      "outputs": []
    },
    {
      "metadata": {
        "_uuid": "e71e3087455111df183983d3b1dc82f8617cad88"
      },
      "cell_type": "markdown",
      "source": "1. As we thought by filling with free value, free apps is more predominant than paid.\n2.difference is too much; a customer want a free rather than paid app.\n3.developers should take care if they design paid apps."
    },
    {
      "metadata": {
        "_uuid": "477b166d43dbf122819619234df1691d234d69c8"
      },
      "cell_type": "markdown",
      "source": "**Size:**\n 1. Description\n\n 2.Transformation\n\n"
    },
    {
      "metadata": {
        "trusted": true,
        "_uuid": "fd6d373cc151db6da88bb1004649f20d22ada537"
      },
      "cell_type": "code",
      "source": "'''Description'''\ndb.Size.value_counts()\n",
      "execution_count": null,
      "outputs": []
    },
    {
      "metadata": {
        "trusted": true,
        "_uuid": "51f49fcf75b4f71c296c16bb7fd05962ba06b99e"
      },
      "cell_type": "code",
      "source": "db.Size.isna().sum()",
      "execution_count": null,
      "outputs": []
    },
    {
      "metadata": {
        "_uuid": "35be7329e2b3cd5840084319d3efce6f5d715ef2"
      },
      "cell_type": "markdown",
      "source": "We have alot of problems here, So what we will do is:\n1 .  replace Varies with device by the Cenral tendency measure:\n    I will use the trimmed mean which is more accurate than mean(I think) which is the same as the mean but              removing outliers by 10% from both sides of our ordered data.also calculating other measures.\n2 . remove M (Megabytes)\n3 .  replace K(kilobytes) by .5 M "
    },
    {
      "metadata": {
        "trusted": true,
        "_uuid": "8a5737dfaa49f0e3343d51cd8017e5c7d0318c2f",
        "scrolled": true
      },
      "cell_type": "code",
      "source": "'''Transformation'''\n#remove M  from values of size \ndb['Size'] = db['Size'].map(lambda x: x.rstrip('M'))\n#extract numeric values from size column and put it in new series\nnewSize=db[db[['Size']].apply(lambda x: x[0].isdigit(), axis=1)]\n'''here some rows were removed but we will fix it latter dont worry'''\n#make new dataframe\nnewSizeData=newSize.Size\n#convert numeric values into floats \nnewSizeData=newSizeData.astype(float)\n'''removing fractions will not affect size at all'''\n\n",
      "execution_count": null,
      "outputs": []
    },
    {
      "metadata": {
        "trusted": true,
        "_uuid": "6dff2983f34c8182f91cacac495ea35f6d9ac68d"
      },
      "cell_type": "code",
      "source": "#mean\nnewSizeData.mean()",
      "execution_count": null,
      "outputs": []
    },
    {
      "metadata": {
        "trusted": true,
        "_uuid": "33d11594d987ae13a7e52fc111ea521e779cfb88"
      },
      "cell_type": "code",
      "source": "#median\nnewSizeData.median()",
      "execution_count": null,
      "outputs": []
    },
    {
      "metadata": {
        "trusted": true,
        "_uuid": "45402fb3a34e4a80d5d20e35f15e09399401b94a"
      },
      "cell_type": "code",
      "source": "#mode\nnewSizeData.mode()",
      "execution_count": null,
      "outputs": []
    },
    {
      "metadata": {
        "trusted": true,
        "_uuid": "59b473a3e176b2679502d0cf0d70cd59fcb8209c"
      },
      "cell_type": "code",
      "source": "#trimmed mean(I love using it )\nsp.stats.trim_mean(newSizeData,.1)\n",
      "execution_count": null,
      "outputs": []
    },
    {
      "metadata": {
        "_kg_hide-output": true,
        "trusted": true,
        "_uuid": "f4961263d6f51ab174a403155e30e0666601ab11"
      },
      "cell_type": "code",
      "source": "30.768015322001435\n",
      "execution_count": null,
      "outputs": []
    },
    {
      "metadata": {
        "_uuid": "335ab7935f22b1eb07b4a084c8bac8bd1b81aceb"
      },
      "cell_type": "markdown",
      "source": "lets continue"
    },
    {
      "metadata": {
        "trusted": true,
        "_uuid": "bc789681c2061c4ddc25a26d75ff6fd26d7eed29"
      },
      "cell_type": "code",
      "source": "db.Size.str.contains(\"k\").value_counts()\n#replace all values containg K by .5\ndb.loc[db['Size'].str.contains('k'), 'Size'] = '.5M'\n'''NOW WE WILL MAKE A THIng replace varies with 0 and get'''\ndb.loc[db['Size'].str.contains('Varies with device'), 'Size'] = '31M'\ndb['Size'] = db['Size'].map(lambda x: x.rstrip('M'))\n",
      "execution_count": null,
      "outputs": []
    },
    {
      "metadata": {
        "trusted": true,
        "scrolled": true,
        "_uuid": "99d38519c3cb46e6aef3cd7f191520ead61d19be"
      },
      "cell_type": "code",
      "source": "db.Size.value_counts()\n",
      "execution_count": null,
      "outputs": []
    },
    {
      "metadata": {
        "_uuid": "613827d80a81285be1464a39496702f80fbbe4b8"
      },
      "cell_type": "markdown",
      "source": "As we see it is fixed now"
    },
    {
      "metadata": {
        "_uuid": "af0492c2e106c6c95b6ff9c4b19d42c6c5d00338"
      },
      "cell_type": "markdown",
      "source": "**Content Rating\n**1.Description\n2.Analysis"
    },
    {
      "metadata": {
        "trusted": true,
        "_uuid": "a218153ad8d6367d9ce5a773cddb2c0f13d1eeae"
      },
      "cell_type": "code",
      "source": "                    '''CONTENT RATING'''\n  #count categories values                  \ndb['Content Rating'].value_counts() \n",
      "execution_count": null,
      "outputs": []
    },
    {
      "metadata": {
        "trusted": true,
        "_uuid": "54e0ceb307c5b83d13705d549b649f1f24303565"
      },
      "cell_type": "code",
      "source": "db['Content Rating'].isna().sum()\n",
      "execution_count": null,
      "outputs": []
    },
    {
      "metadata": {
        "trusted": true,
        "_uuid": "df0dace81886ce412499f654aee89529cfff263d"
      },
      "cell_type": "code",
      "source": "univariateAnalysis( db['Content Rating'])\n",
      "execution_count": null,
      "outputs": []
    },
    {
      "metadata": {
        "_uuid": "f5d3c0f5e0b1b1f81b55fdc8b785b0fea2c267e1"
      },
      "cell_type": "markdown",
      "source": "Developers tend to  develope everyone apps more than others.this is because the overall population that have variations in interests and needs.\n"
    },
    {
      "metadata": {
        "_uuid": "397e789d5711c38bce4fb5cb1328f81efaf1d732"
      },
      "cell_type": "markdown",
      "source": "**Current version**\n1.Description.\n2.Transformation.\n3.Analysis."
    },
    {
      "metadata": {
        "trusted": true,
        "_uuid": "b71a35a02c13abf3d19ae877a870f9376839d5d6"
      },
      "cell_type": "code",
      "source": "'''Description'''\n db['Current Ver'].value_counts()\n",
      "execution_count": null,
      "outputs": []
    },
    {
      "metadata": {
        "trusted": true,
        "_uuid": "3fef1e0d77db65bf1418e6906708e4539a7a3a53"
      },
      "cell_type": "code",
      "source": "db['Current Ver'].isna().sum()\n",
      "execution_count": null,
      "outputs": []
    },
    {
      "metadata": {
        "trusted": true,
        "_uuid": "5c9aab27e44072082e4cdfeba090eef8f0538635"
      },
      "cell_type": "code",
      "source": "'''Transformation'''\ndb['Current Ver']=db['Current Ver'].fillna(value=4.1)\n",
      "execution_count": null,
      "outputs": []
    },
    {
      "metadata": {
        "_uuid": "4efee5d8b7c2e22c9fa6bdb66005697411dfc1e7"
      },
      "cell_type": "markdown",
      "source": "Why do we fillna by 4.1 ?\nthats because 99. of android evices uses ths version or above of it\nso guessing any version will be in the range of this version"
    },
    {
      "metadata": {
        "trusted": true,
        "scrolled": true,
        "_uuid": "dde1075c5cf53fe235d7a0bb031b830fa04f9c98"
      },
      "cell_type": "code",
      "source": "'''Analysis'''\nunivariateAnalysis( db['Android Ver'])\n",
      "execution_count": null,
      "outputs": []
    },
    {
      "metadata": {
        "_uuid": "ecb5c24a075897637de77a89da0bb647bcb90c20"
      },
      "cell_type": "markdown",
      "source": "1- As we thought, filling na  by 4.1 (API=16)is totally true\na prief  search will show you that this percentage is standard.\n\n2- Most of apps having 4.1 version or above . this versions allow most of apps features  to work. so as android developer be carefull of using features that include minimum API >16  .if the app doesn't work ,customer will remove it immediately.\n\n3- latest versions which are 6,7,8 . People don't care about updating their versions."
    },
    {
      "metadata": {
        "_uuid": "ce2f2347e14a5065204fde58c61a40e673501d5b"
      },
      "cell_type": "markdown",
      "source": "**Installs:**\n1. Description\n\n2.Tranformation\n\n3.Analysis"
    },
    {
      "metadata": {
        "trusted": true,
        "_uuid": "258fdd874308b2ecf8aca75dba76ade0fa32557e"
      },
      "cell_type": "code",
      "source": "db['Installs'].value_counts()",
      "execution_count": null,
      "outputs": []
    },
    {
      "metadata": {
        "trusted": true,
        "_uuid": "2798c8f09bf4e24ad4ae88b10a0501a536386cad"
      },
      "cell_type": "code",
      "source": "db['Installs'].isnull().sum()",
      "execution_count": null,
      "outputs": []
    },
    {
      "metadata": {
        "trusted": true,
        "_uuid": "e32987623e8e8bd16525d85622886a863aa88a64"
      },
      "cell_type": "code",
      "source": "'''Transformation'''\n#remove + from installs\ndb['Installs'] = db['Installs'].map(lambda x: x.rstrip('+'))\n#remove commas from installs\ndb['Installs']  = db['Installs'] .str.replace(',', '')\ndb['Installs'] =db['Installs'] .astype(int)\ndb['Installs'].value_counts()",
      "execution_count": null,
      "outputs": []
    },
    {
      "metadata": {
        "trusted": true,
        "_uuid": "8c33acb3fa61d7474a1732f09544231422b63b8c",
        "scrolled": true
      },
      "cell_type": "code",
      "source": "'''Analysis'''\nunivariateAnalysis(db['Installs'])\n",
      "execution_count": null,
      "outputs": []
    },
    {
      "metadata": {
        "_uuid": "4510d8aa5586ef72defb6f5282723ae1d5beb97e"
      },
      "cell_type": "markdown",
      "source": "**what we have here??**\nups and downs ! . For all apps I think that is because users often don't update their mobile versions so  when a new version or update of the app releases, when they open their app again ,crashes occurs. This leades to unInstalling applications .****"
    },
    {
      "metadata": {
        "trusted": true,
        "_uuid": "7c0a7f88b500f18c4a325f58f7eb2700fc53550d"
      },
      "cell_type": "markdown",
      "source": "**Rating :**\n\n1 . Description\n\n\n2 . Analysis"
    },
    {
      "metadata": {
        "trusted": true,
        "_uuid": "f9090031b211fcb7f6b0402ec03eadd29257915f"
      },
      "cell_type": "code",
      "source": "'''Description'''\ndb['Rating'].value_counts() \n",
      "execution_count": null,
      "outputs": []
    },
    {
      "metadata": {
        "_uuid": "7ca7c7bcf9fc33a2b428b60edf6813138feb1301",
        "trusted": true
      },
      "cell_type": "code",
      "source": "db['Rating'].isna().sum()",
      "execution_count": null,
      "outputs": []
    },
    {
      "metadata": {
        "_uuid": "8e12e8aef128744280c043b9401770dd40427986"
      },
      "cell_type": "markdown",
      "source": "Transformation of Nan values  **is not prefered here ** \n\ndue to probability  of violation in rating apps. It appears as if you try to improve the image of an application to get more reviews or more downloads.\n\n"
    },
    {
      "metadata": {
        "trusted": true,
        "scrolled": true,
        "_uuid": "f116f120fe4dfdeaae7c2b77310c43415abd6917"
      },
      "cell_type": "code",
      "source": "'''Analysis'''\nunivariateAnalysis(db['Rating'])",
      "execution_count": null,
      "outputs": []
    },
    {
      "metadata": {
        "_uuid": "0ae0a061869f89817c33f06eec660023331f0619"
      },
      "cell_type": "markdown",
      "source": "Size\n1 . Description\n2 . "
    },
    {
      "metadata": {
        "_uuid": "cf7c8fdcbf6aac0f86e0a0c032d94182f8c47988"
      },
      "cell_type": "markdown",
      "source": "Most of apps have rating up to 4.3 "
    },
    {
      "metadata": {
        "_uuid": "f90b39f5c413cb95d0c5b288695e36d612b5405e"
      },
      "cell_type": "markdown",
      "source": "**Bivariate Analysis**"
    },
    {
      "metadata": {
        "trusted": true,
        "_uuid": "3020a6da30f17d42c8c838048f821b62a8caa012"
      },
      "cell_type": "code",
      "source": "\ndef barplotAnalysis(x,y):\n    \n    plt.figure(figsize=(10,8))\n    plt.xticks(rotation=90)\n    #plotting\n    sns.barplot(x,y,palette=\"CMRmap\")\n",
      "execution_count": null,
      "outputs": []
    },
    {
      "metadata": {
        "trusted": true,
        "_uuid": "99fc9a506e33cead8920a0e282c7c5cd7ec76353"
      },
      "cell_type": "code",
      "source": "barplotAnalysis(db['Content Rating'],db['Installs'])\n",
      "execution_count": null,
      "outputs": []
    },
    {
      "metadata": {
        "_uuid": "38550ff5530c52c31f0e4d3654d10fdb2088f829"
      },
      "cell_type": "markdown",
      "source": "developers tend to develope apps for every one and they succeed to achieve higher rates of downloads"
    },
    {
      "metadata": {
        "trusted": true,
        "_uuid": "8e1211f35661afdc414eb815aa1353c55cbf4797"
      },
      "cell_type": "code",
      "source": "",
      "execution_count": null,
      "outputs": []
    },
    {
      "metadata": {
        "trusted": true,
        "_uuid": "37d1847a164d284349318b2e8e8e9677867d12cc",
        "scrolled": true
      },
      "cell_type": "code",
      "source": "barplotAnalysis(db['Category'],db['Installs'])",
      "execution_count": null,
      "outputs": []
    },
    {
      "metadata": {
        "_uuid": "1d1c5e269ac7518cd01e37171a193007ec117a30"
      },
      "cell_type": "markdown",
      "source": "communications- social apps have higher rates of installs "
    },
    {
      "metadata": {
        "trusted": true,
        "_uuid": "466248328439e29ac95144d92d40f5ddfa00a926"
      },
      "cell_type": "code",
      "source": "barplotAnalysis(db['Rating'],db['Installs'])",
      "execution_count": null,
      "outputs": []
    },
    {
      "metadata": {
        "trusted": true,
        "_uuid": "11e5974b8fd6832789dd5cad1b29c813b305883c"
      },
      "cell_type": "code",
      "source": "\n#convert to float\n#bins\nx = [0, 10,20,50,100,1000]\ndb['Size']=db['Size'].astype(float)\n\ndb['Size'] = pd.cut(db['Size'],x)\ndb.dtypes\n#coding bins groups\n#db.Size.astype(\"category\").cat.codes\nbarplotAnalysis(db['Size'],db['Installs'])\ndb.dtypes\n",
      "execution_count": null,
      "outputs": []
    },
    {
      "metadata": {
        "_uuid": "2bf8629dbfc30c6514ff77d1b4a197d01579106a"
      },
      "cell_type": "markdown",
      "source": "Lower sized apps have lower  rate of downloads than higher sized apps. that is because most of downloads is for social apps (Communication) .which usually have high sizes ."
    },
    {
      "metadata": {
        "trusted": true,
        "_uuid": "e9d982813c9b9a6e96f622e0973491bed8c3379d"
      },
      "cell_type": "markdown",
      "source": "this is for now and thank you for watching\n**TO BE CONTINUED.....**"
    },
    {
      "metadata": {
        "trusted": true,
        "_uuid": "e5443a7072e8d463be7ce8661b2a6063976bc469"
      },
      "cell_type": "code",
      "source": "",
      "execution_count": null,
      "outputs": []
    }
  ],
  "metadata": {
    "kernelspec": {
      "display_name": "Python 3",
      "language": "python",
      "name": "python3"
    },
    "language_info": {
      "name": "python",
      "version": "3.6.6",
      "mimetype": "text/x-python",
      "codemirror_mode": {
        "name": "ipython",
        "version": 3
      },
      "pygments_lexer": "ipython3",
      "nbconvert_exporter": "python",
      "file_extension": ".py"
    }
  },
  "nbformat": 4,
  "nbformat_minor": 1
}