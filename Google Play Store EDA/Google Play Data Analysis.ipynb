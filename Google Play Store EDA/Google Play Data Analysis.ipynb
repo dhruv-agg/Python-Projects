{
 "cells": [
  {
   "cell_type": "code",
   "execution_count": 1,
   "metadata": {
    "_cell_guid": "b1076dfc-b9ad-4769-8c92-a6c4dae69d19",
    "_uuid": "8f2839f25d086af736a60e9eeb907d3b93b6e0e5"
   },
   "outputs": [],
   "source": [
    "# This Python 3 environment comes with many helpful analytics libraries installed\n",
    "# It is defined by the kaggle/python docker image: https://github.com/kaggle/docker-python\n",
    "# For example, here's several helpful packages to load in \n",
    "\n",
    "import numpy as np # linear algebra\n",
    "import pandas as pd # data processing, CSV file I/O (e.g. pd.read_csv)\n",
    "import matplotlib.pyplot as plt\n",
    "import seaborn as sns\n",
    "#%matplotlib inline\n",
    "\n",
    "# Input data files are available in the \"../input/\" directory.\n",
    "# For example, running this (by clicking run or pressing Shift+Enter) will list the files in the input directory\n",
    "\n",
    "import os\n",
    "#print(os.listdir(\"../input\"))\n",
    "\n",
    "# Any results you write to the current directory are saved as output."
   ]
  },
  {
   "cell_type": "code",
   "execution_count": 2,
   "metadata": {
    "_uuid": "37f4dc7b763d4745761bbdd3a2147e74ceb7d83c"
   },
   "outputs": [],
   "source": [
    "pd.set_option('display.width', 300)\n",
    "pd.set_option('display.max_columns', 300)\n",
    "pd.set_option('display.max_colwidth', 500)\n",
    "pd.set_option('display.precision',3)\n",
    "\n",
    "def visualization_settings():\n",
    "    plt.clf()\n",
    "    sns.set_style({\"xtick.major.size\":30,\"ytick.major.size\":30})\n",
    "    plt.figure(figsize=(14,6))\n",
    "    sns.set(font_scale=1.4)"
   ]
  },
  {
   "cell_type": "code",
   "execution_count": 3,
   "metadata": {
    "_cell_guid": "79c7e3d0-c299-4dcb-8224-4455121ee9b0",
    "_uuid": "d629ff2d2480ee46fbb7e2d37f6b5fab8052498a"
   },
   "outputs": [],
   "source": [
    "df = pd.read_csv('install.csv')"
   ]
  },
  {
   "cell_type": "code",
   "execution_count": 4,
   "metadata": {
    "_uuid": "0011918ee49a4ec4fbc5915fd4418570f067dc5b"
   },
   "outputs": [
    {
     "data": {
      "text/html": [
       "<div>\n",
       "<style scoped>\n",
       "    .dataframe tbody tr th:only-of-type {\n",
       "        vertical-align: middle;\n",
       "    }\n",
       "\n",
       "    .dataframe tbody tr th {\n",
       "        vertical-align: top;\n",
       "    }\n",
       "\n",
       "    .dataframe thead th {\n",
       "        text-align: right;\n",
       "    }\n",
       "</style>\n",
       "<table border=\"1\" class=\"dataframe\">\n",
       "  <thead>\n",
       "    <tr style=\"text-align: right;\">\n",
       "      <th></th>\n",
       "      <th>App</th>\n",
       "      <th>Category</th>\n",
       "      <th>Rating</th>\n",
       "      <th>Reviews</th>\n",
       "      <th>Size</th>\n",
       "      <th>Installs</th>\n",
       "      <th>Type</th>\n",
       "      <th>Price</th>\n",
       "      <th>Content Rating</th>\n",
       "      <th>Genres</th>\n",
       "      <th>Last Updated</th>\n",
       "      <th>Current Ver</th>\n",
       "      <th>Android Ver</th>\n",
       "    </tr>\n",
       "  </thead>\n",
       "  <tbody>\n",
       "    <tr>\n",
       "      <th>0</th>\n",
       "      <td>Photo Editor &amp; Candy Camera &amp; Grid &amp; ScrapBook</td>\n",
       "      <td>ART_AND_DESIGN</td>\n",
       "      <td>4.1</td>\n",
       "      <td>159</td>\n",
       "      <td>19M</td>\n",
       "      <td>10,000+</td>\n",
       "      <td>Free</td>\n",
       "      <td>0</td>\n",
       "      <td>Everyone</td>\n",
       "      <td>Art &amp; Design</td>\n",
       "      <td>January 7, 2018</td>\n",
       "      <td>1.0.0</td>\n",
       "      <td>4.0.3 and up</td>\n",
       "    </tr>\n",
       "    <tr>\n",
       "      <th>1</th>\n",
       "      <td>Coloring book moana</td>\n",
       "      <td>ART_AND_DESIGN</td>\n",
       "      <td>3.9</td>\n",
       "      <td>967</td>\n",
       "      <td>14M</td>\n",
       "      <td>500,000+</td>\n",
       "      <td>Free</td>\n",
       "      <td>0</td>\n",
       "      <td>Everyone</td>\n",
       "      <td>Art &amp; Design;Pretend Play</td>\n",
       "      <td>January 15, 2018</td>\n",
       "      <td>2.0.0</td>\n",
       "      <td>4.0.3 and up</td>\n",
       "    </tr>\n",
       "    <tr>\n",
       "      <th>2</th>\n",
       "      <td>U Launcher Lite – FREE Live Cool Themes, Hide Apps</td>\n",
       "      <td>ART_AND_DESIGN</td>\n",
       "      <td>4.7</td>\n",
       "      <td>87510</td>\n",
       "      <td>8.7M</td>\n",
       "      <td>5,000,000+</td>\n",
       "      <td>Free</td>\n",
       "      <td>0</td>\n",
       "      <td>Everyone</td>\n",
       "      <td>Art &amp; Design</td>\n",
       "      <td>August 1, 2018</td>\n",
       "      <td>1.2.4</td>\n",
       "      <td>4.0.3 and up</td>\n",
       "    </tr>\n",
       "    <tr>\n",
       "      <th>3</th>\n",
       "      <td>Sketch - Draw &amp; Paint</td>\n",
       "      <td>ART_AND_DESIGN</td>\n",
       "      <td>4.5</td>\n",
       "      <td>215644</td>\n",
       "      <td>25M</td>\n",
       "      <td>50,000,000+</td>\n",
       "      <td>Free</td>\n",
       "      <td>0</td>\n",
       "      <td>Teen</td>\n",
       "      <td>Art &amp; Design</td>\n",
       "      <td>June 8, 2018</td>\n",
       "      <td>Varies with device</td>\n",
       "      <td>4.2 and up</td>\n",
       "    </tr>\n",
       "    <tr>\n",
       "      <th>4</th>\n",
       "      <td>Pixel Draw - Number Art Coloring Book</td>\n",
       "      <td>ART_AND_DESIGN</td>\n",
       "      <td>4.3</td>\n",
       "      <td>967</td>\n",
       "      <td>2.8M</td>\n",
       "      <td>100,000+</td>\n",
       "      <td>Free</td>\n",
       "      <td>0</td>\n",
       "      <td>Everyone</td>\n",
       "      <td>Art &amp; Design;Creativity</td>\n",
       "      <td>June 20, 2018</td>\n",
       "      <td>1.1</td>\n",
       "      <td>4.4 and up</td>\n",
       "    </tr>\n",
       "  </tbody>\n",
       "</table>\n",
       "</div>"
      ],
      "text/plain": [
       "                                                  App        Category  Rating Reviews  Size     Installs  Type Price Content Rating                     Genres      Last Updated         Current Ver   Android Ver\n",
       "0      Photo Editor & Candy Camera & Grid & ScrapBook  ART_AND_DESIGN     4.1     159   19M      10,000+  Free     0       Everyone               Art & Design   January 7, 2018               1.0.0  4.0.3 and up\n",
       "1                                 Coloring book moana  ART_AND_DESIGN     3.9     967   14M     500,000+  Free     0       Everyone  Art & Design;Pretend Play  January 15, 2018               2.0.0  4.0.3 and up\n",
       "2  U Launcher Lite – FREE Live Cool Themes, Hide Apps  ART_AND_DESIGN     4.7   87510  8.7M   5,000,000+  Free     0       Everyone               Art & Design    August 1, 2018               1.2.4  4.0.3 and up\n",
       "3                               Sketch - Draw & Paint  ART_AND_DESIGN     4.5  215644   25M  50,000,000+  Free     0           Teen               Art & Design      June 8, 2018  Varies with device    4.2 and up\n",
       "4               Pixel Draw - Number Art Coloring Book  ART_AND_DESIGN     4.3     967  2.8M     100,000+  Free     0       Everyone    Art & Design;Creativity     June 20, 2018                 1.1    4.4 and up"
      ]
     },
     "execution_count": 4,
     "metadata": {},
     "output_type": "execute_result"
    }
   ],
   "source": [
    "df.head()"
   ]
  },
  {
   "cell_type": "code",
   "execution_count": 5,
   "metadata": {
    "_uuid": "0773475fed4995799aa1ef28439270a1b8fd50f6"
   },
   "outputs": [
    {
     "name": "stdout",
     "output_type": "stream",
     "text": [
      "<class 'pandas.core.frame.DataFrame'>\n",
      "RangeIndex: 10841 entries, 0 to 10840\n",
      "Data columns (total 13 columns):\n",
      "App               10841 non-null object\n",
      "Category          10841 non-null object\n",
      "Rating            9367 non-null float64\n",
      "Reviews           10841 non-null object\n",
      "Size              10841 non-null object\n",
      "Installs          10841 non-null object\n",
      "Type              10840 non-null object\n",
      "Price             10841 non-null object\n",
      "Content Rating    10840 non-null object\n",
      "Genres            10841 non-null object\n",
      "Last Updated      10841 non-null object\n",
      "Current Ver       10833 non-null object\n",
      "Android Ver       10838 non-null object\n",
      "dtypes: float64(1), object(12)\n",
      "memory usage: 1.1+ MB\n"
     ]
    }
   ],
   "source": [
    "df.info()"
   ]
  },
  {
   "cell_type": "code",
   "execution_count": 6,
   "metadata": {
    "_uuid": "818d2290fe94fe389e78bcb3a8153bde9acda11c"
   },
   "outputs": [
    {
     "data": {
      "text/plain": [
       "(10841, 13)"
      ]
     },
     "execution_count": 6,
     "metadata": {},
     "output_type": "execute_result"
    }
   ],
   "source": [
    "df.shape"
   ]
  },
  {
   "cell_type": "markdown",
   "metadata": {
    "_uuid": "73e46d05eeb23021041d1ad5a5937cb731c9c692"
   },
   "source": [
    "Our dataset contains 10841 samples with 13 columns. Let's review our data column by column. Let's start with App column"
   ]
  },
  {
   "cell_type": "code",
   "execution_count": 7,
   "metadata": {
    "_uuid": "75c649d3c9c1327a514899501ffae52e3ae0dd43"
   },
   "outputs": [
    {
     "data": {
      "text/plain": [
       "9660"
      ]
     },
     "execution_count": 7,
     "metadata": {},
     "output_type": "execute_result"
    }
   ],
   "source": [
    "df['App'].nunique()"
   ]
  },
  {
   "cell_type": "markdown",
   "metadata": {
    "_uuid": "2ea981ae5f82e37c5ac9dfaac1dfc946e1233d33"
   },
   "source": [
    "As we can see most of the Apps are unique. 9660 out of 10481 Apps are unique."
   ]
  },
  {
   "cell_type": "code",
   "execution_count": 8,
   "metadata": {
    "_uuid": "a6f7ef2ea8d8e8f28f01df537b1d13ebcab64991"
   },
   "outputs": [
    {
     "data": {
      "text/html": [
       "<div>\n",
       "<style scoped>\n",
       "    .dataframe tbody tr th:only-of-type {\n",
       "        vertical-align: middle;\n",
       "    }\n",
       "\n",
       "    .dataframe tbody tr th {\n",
       "        vertical-align: top;\n",
       "    }\n",
       "\n",
       "    .dataframe thead th {\n",
       "        text-align: right;\n",
       "    }\n",
       "</style>\n",
       "<table border=\"1\" class=\"dataframe\">\n",
       "  <thead>\n",
       "    <tr style=\"text-align: right;\">\n",
       "      <th></th>\n",
       "      <th>App</th>\n",
       "      <th>Category</th>\n",
       "      <th>Rating</th>\n",
       "      <th>Reviews</th>\n",
       "      <th>Size</th>\n",
       "      <th>Installs</th>\n",
       "      <th>Type</th>\n",
       "      <th>Price</th>\n",
       "      <th>Content Rating</th>\n",
       "      <th>Genres</th>\n",
       "      <th>Last Updated</th>\n",
       "      <th>Current Ver</th>\n",
       "      <th>Android Ver</th>\n",
       "    </tr>\n",
       "  </thead>\n",
       "  <tbody>\n",
       "    <tr>\n",
       "      <th>2544</th>\n",
       "      <td>Facebook</td>\n",
       "      <td>SOCIAL</td>\n",
       "      <td>4.1</td>\n",
       "      <td>78158306</td>\n",
       "      <td>Varies with device</td>\n",
       "      <td>1,000,000,000+</td>\n",
       "      <td>Free</td>\n",
       "      <td>0</td>\n",
       "      <td>Teen</td>\n",
       "      <td>Social</td>\n",
       "      <td>August 3, 2018</td>\n",
       "      <td>Varies with device</td>\n",
       "      <td>Varies with device</td>\n",
       "    </tr>\n",
       "    <tr>\n",
       "      <th>3943</th>\n",
       "      <td>Facebook</td>\n",
       "      <td>SOCIAL</td>\n",
       "      <td>4.1</td>\n",
       "      <td>78128208</td>\n",
       "      <td>Varies with device</td>\n",
       "      <td>1,000,000,000+</td>\n",
       "      <td>Free</td>\n",
       "      <td>0</td>\n",
       "      <td>Teen</td>\n",
       "      <td>Social</td>\n",
       "      <td>August 3, 2018</td>\n",
       "      <td>Varies with device</td>\n",
       "      <td>Varies with device</td>\n",
       "    </tr>\n",
       "  </tbody>\n",
       "</table>\n",
       "</div>"
      ],
      "text/plain": [
       "           App Category  Rating   Reviews                Size        Installs  Type Price Content Rating  Genres    Last Updated         Current Ver         Android Ver\n",
       "2544  Facebook   SOCIAL     4.1  78158306  Varies with device  1,000,000,000+  Free     0           Teen  Social  August 3, 2018  Varies with device  Varies with device\n",
       "3943  Facebook   SOCIAL     4.1  78128208  Varies with device  1,000,000,000+  Free     0           Teen  Social  August 3, 2018  Varies with device  Varies with device"
      ]
     },
     "execution_count": 8,
     "metadata": {},
     "output_type": "execute_result"
    }
   ],
   "source": [
    "df[df['App']=='Facebook']"
   ]
  },
  {
   "cell_type": "code",
   "execution_count": 9,
   "metadata": {
    "_uuid": "bbe208102f4b49b6ddf79de71dc2ae0c413646f9"
   },
   "outputs": [
    {
     "data": {
      "text/html": [
       "<div>\n",
       "<style scoped>\n",
       "    .dataframe tbody tr th:only-of-type {\n",
       "        vertical-align: middle;\n",
       "    }\n",
       "\n",
       "    .dataframe tbody tr th {\n",
       "        vertical-align: top;\n",
       "    }\n",
       "\n",
       "    .dataframe thead th {\n",
       "        text-align: right;\n",
       "    }\n",
       "</style>\n",
       "<table border=\"1\" class=\"dataframe\">\n",
       "  <thead>\n",
       "    <tr style=\"text-align: right;\">\n",
       "      <th></th>\n",
       "      <th>App</th>\n",
       "      <th>Category</th>\n",
       "      <th>Rating</th>\n",
       "      <th>Reviews</th>\n",
       "      <th>Size</th>\n",
       "      <th>Installs</th>\n",
       "      <th>Type</th>\n",
       "      <th>Price</th>\n",
       "      <th>Content Rating</th>\n",
       "      <th>Genres</th>\n",
       "      <th>Last Updated</th>\n",
       "      <th>Current Ver</th>\n",
       "      <th>Android Ver</th>\n",
       "    </tr>\n",
       "  </thead>\n",
       "  <tbody>\n",
       "    <tr>\n",
       "      <th>2545</th>\n",
       "      <td>Instagram</td>\n",
       "      <td>SOCIAL</td>\n",
       "      <td>4.5</td>\n",
       "      <td>66577313</td>\n",
       "      <td>Varies with device</td>\n",
       "      <td>1,000,000,000+</td>\n",
       "      <td>Free</td>\n",
       "      <td>0</td>\n",
       "      <td>Teen</td>\n",
       "      <td>Social</td>\n",
       "      <td>July 31, 2018</td>\n",
       "      <td>Varies with device</td>\n",
       "      <td>Varies with device</td>\n",
       "    </tr>\n",
       "    <tr>\n",
       "      <th>2604</th>\n",
       "      <td>Instagram</td>\n",
       "      <td>SOCIAL</td>\n",
       "      <td>4.5</td>\n",
       "      <td>66577446</td>\n",
       "      <td>Varies with device</td>\n",
       "      <td>1,000,000,000+</td>\n",
       "      <td>Free</td>\n",
       "      <td>0</td>\n",
       "      <td>Teen</td>\n",
       "      <td>Social</td>\n",
       "      <td>July 31, 2018</td>\n",
       "      <td>Varies with device</td>\n",
       "      <td>Varies with device</td>\n",
       "    </tr>\n",
       "    <tr>\n",
       "      <th>2611</th>\n",
       "      <td>Instagram</td>\n",
       "      <td>SOCIAL</td>\n",
       "      <td>4.5</td>\n",
       "      <td>66577313</td>\n",
       "      <td>Varies with device</td>\n",
       "      <td>1,000,000,000+</td>\n",
       "      <td>Free</td>\n",
       "      <td>0</td>\n",
       "      <td>Teen</td>\n",
       "      <td>Social</td>\n",
       "      <td>July 31, 2018</td>\n",
       "      <td>Varies with device</td>\n",
       "      <td>Varies with device</td>\n",
       "    </tr>\n",
       "    <tr>\n",
       "      <th>3909</th>\n",
       "      <td>Instagram</td>\n",
       "      <td>SOCIAL</td>\n",
       "      <td>4.5</td>\n",
       "      <td>66509917</td>\n",
       "      <td>Varies with device</td>\n",
       "      <td>1,000,000,000+</td>\n",
       "      <td>Free</td>\n",
       "      <td>0</td>\n",
       "      <td>Teen</td>\n",
       "      <td>Social</td>\n",
       "      <td>July 31, 2018</td>\n",
       "      <td>Varies with device</td>\n",
       "      <td>Varies with device</td>\n",
       "    </tr>\n",
       "  </tbody>\n",
       "</table>\n",
       "</div>"
      ],
      "text/plain": [
       "            App Category  Rating   Reviews                Size        Installs  Type Price Content Rating  Genres   Last Updated         Current Ver         Android Ver\n",
       "2545  Instagram   SOCIAL     4.5  66577313  Varies with device  1,000,000,000+  Free     0           Teen  Social  July 31, 2018  Varies with device  Varies with device\n",
       "2604  Instagram   SOCIAL     4.5  66577446  Varies with device  1,000,000,000+  Free     0           Teen  Social  July 31, 2018  Varies with device  Varies with device\n",
       "2611  Instagram   SOCIAL     4.5  66577313  Varies with device  1,000,000,000+  Free     0           Teen  Social  July 31, 2018  Varies with device  Varies with device\n",
       "3909  Instagram   SOCIAL     4.5  66509917  Varies with device  1,000,000,000+  Free     0           Teen  Social  July 31, 2018  Varies with device  Varies with device"
      ]
     },
     "execution_count": 9,
     "metadata": {},
     "output_type": "execute_result"
    }
   ],
   "source": [
    "df[df['App']=='Instagram']"
   ]
  },
  {
   "cell_type": "markdown",
   "metadata": {
    "_uuid": "dc9874b0d48abc06f1d596ae1dd92253ff2b9ab8"
   },
   "source": [
    "For example, Facebook and Instagram have multiple rows with almost same information so we will remove multiple rows of the same Apps in our dataset and will kep only unique ones. "
   ]
  },
  {
   "cell_type": "code",
   "execution_count": 10,
   "metadata": {
    "_uuid": "79359354a3b32e4294bb5b54f2e51f97adf85ce7"
   },
   "outputs": [],
   "source": [
    "df.drop_duplicates(subset='App', keep='first', inplace=True)"
   ]
  },
  {
   "cell_type": "code",
   "execution_count": 11,
   "metadata": {
    "_uuid": "e611e2aca787439da4b77a0f4e060d300ead72ad"
   },
   "outputs": [
    {
     "data": {
      "text/plain": [
       "(9660, 13)"
      ]
     },
     "execution_count": 11,
     "metadata": {},
     "output_type": "execute_result"
    }
   ],
   "source": [
    "df.shape"
   ]
  },
  {
   "cell_type": "code",
   "execution_count": 12,
   "metadata": {
    "_uuid": "774a686a74a5cc32a891e728a33e40c5612c5483"
   },
   "outputs": [
    {
     "data": {
      "text/plain": [
       "0        Photo Editor & Candy Camera & Grid & ScrapBook\n",
       "1                                   Coloring book moana\n",
       "2    U Launcher Lite – FREE Live Cool Themes, Hide Apps\n",
       "3                                 Sketch - Draw & Paint\n",
       "4                 Pixel Draw - Number Art Coloring Book\n",
       "Name: App, dtype: object"
      ]
     },
     "execution_count": 12,
     "metadata": {},
     "output_type": "execute_result"
    }
   ],
   "source": [
    "df['App'].head()"
   ]
  },
  {
   "cell_type": "markdown",
   "metadata": {
    "_uuid": "4092745d75d366fd15e0aefd7ea074f74040b7c8"
   },
   "source": [
    "As we see, there are some signs such as **(\"&\", \"-\", \",\")** etc. We don't need those and can remove them "
   ]
  },
  {
   "cell_type": "markdown",
   "metadata": {
    "_uuid": "5d721ef1885bb94db453c4a14178d64986c2f9e3"
   },
   "source": [
    "## Removing Redundant Signs from App Names"
   ]
  },
  {
   "cell_type": "code",
   "execution_count": 13,
   "metadata": {
    "_uuid": "1145b826f5a785269e374943c5a3e2cd3dd9658f"
   },
   "outputs": [],
   "source": [
    "import re\n",
    "df['App'] = df['App'].map(lambda x: re.sub(r\"[^\\w\\s]\", \"\", x.title())) # Capitalize every word"
   ]
  },
  {
   "cell_type": "markdown",
   "metadata": {
    "_uuid": "0a09d222d6653e38727c4573ab8e2f06defef4f4"
   },
   "source": [
    "We have capitalize every word and removed all punctuations/ signs  rather than words and numbers "
   ]
  },
  {
   "cell_type": "code",
   "execution_count": 14,
   "metadata": {
    "_uuid": "7ce6727e29d677ffe1c3bc8f9a1f500d4127bcf4"
   },
   "outputs": [
    {
     "data": {
      "text/plain": [
       "0         Photo Editor  Candy Camera  Grid  Scrapbook\n",
       "1                                 Coloring Book Moana\n",
       "2    U Launcher Lite  Free Live Cool Themes Hide Apps\n",
       "3                                 Sketch  Draw  Paint\n",
       "4                Pixel Draw  Number Art Coloring Book\n",
       "Name: App, dtype: object"
      ]
     },
     "execution_count": 14,
     "metadata": {},
     "output_type": "execute_result"
    }
   ],
   "source": [
    "df['App'].head()"
   ]
  },
  {
   "cell_type": "markdown",
   "metadata": {
    "_uuid": "9cd6be1cf24cc53dc180207a1a48db74b13e9da2"
   },
   "source": [
    "I believe this is better. Now we can check how many words there are in App Names"
   ]
  },
  {
   "cell_type": "code",
   "execution_count": 15,
   "metadata": {
    "_uuid": "547ad04311bf7ecaa7fc2a4c12d5a0f9f4768a62"
   },
   "outputs": [],
   "source": [
    "df['App_length'] = df['App'].map(lambda x: len(x.split()))\n",
    "cols = df.columns.tolist()"
   ]
  },
  {
   "cell_type": "code",
   "execution_count": 16,
   "metadata": {
    "_uuid": "6a2bd1e12678953c6fd004da2f4b9d6cb125ac07"
   },
   "outputs": [],
   "source": [
    "cols.insert(1,'App_length') # We insert new column (App_length) after App column\n",
    "cols.pop() # We removed the very last column name from the list\n",
    "df = df[cols] # We have changed the column order in the dataframe"
   ]
  },
  {
   "cell_type": "markdown",
   "metadata": {
    "_uuid": "dd2d50028e948b4bbebb165c63fcfb9e2e7fe410"
   },
   "source": [
    "We have reordered the column orders. The App and App Names are together now."
   ]
  },
  {
   "cell_type": "code",
   "execution_count": 17,
   "metadata": {
    "_uuid": "635de8b7049ed4d3313d846e3feb48871da615bc"
   },
   "outputs": [
    {
     "data": {
      "text/html": [
       "<div>\n",
       "<style scoped>\n",
       "    .dataframe tbody tr th:only-of-type {\n",
       "        vertical-align: middle;\n",
       "    }\n",
       "\n",
       "    .dataframe tbody tr th {\n",
       "        vertical-align: top;\n",
       "    }\n",
       "\n",
       "    .dataframe thead th {\n",
       "        text-align: right;\n",
       "    }\n",
       "</style>\n",
       "<table border=\"1\" class=\"dataframe\">\n",
       "  <thead>\n",
       "    <tr style=\"text-align: right;\">\n",
       "      <th></th>\n",
       "      <th>App</th>\n",
       "      <th>App_length</th>\n",
       "      <th>Category</th>\n",
       "      <th>Rating</th>\n",
       "      <th>Reviews</th>\n",
       "      <th>Size</th>\n",
       "      <th>Installs</th>\n",
       "      <th>Type</th>\n",
       "      <th>Price</th>\n",
       "      <th>Content Rating</th>\n",
       "      <th>Genres</th>\n",
       "      <th>Last Updated</th>\n",
       "      <th>Current Ver</th>\n",
       "      <th>Android Ver</th>\n",
       "    </tr>\n",
       "  </thead>\n",
       "  <tbody>\n",
       "    <tr>\n",
       "      <th>0</th>\n",
       "      <td>Photo Editor  Candy Camera  Grid  Scrapbook</td>\n",
       "      <td>6</td>\n",
       "      <td>ART_AND_DESIGN</td>\n",
       "      <td>4.1</td>\n",
       "      <td>159</td>\n",
       "      <td>19M</td>\n",
       "      <td>10,000+</td>\n",
       "      <td>Free</td>\n",
       "      <td>0</td>\n",
       "      <td>Everyone</td>\n",
       "      <td>Art &amp; Design</td>\n",
       "      <td>January 7, 2018</td>\n",
       "      <td>1.0.0</td>\n",
       "      <td>4.0.3 and up</td>\n",
       "    </tr>\n",
       "    <tr>\n",
       "      <th>1</th>\n",
       "      <td>Coloring Book Moana</td>\n",
       "      <td>3</td>\n",
       "      <td>ART_AND_DESIGN</td>\n",
       "      <td>3.9</td>\n",
       "      <td>967</td>\n",
       "      <td>14M</td>\n",
       "      <td>500,000+</td>\n",
       "      <td>Free</td>\n",
       "      <td>0</td>\n",
       "      <td>Everyone</td>\n",
       "      <td>Art &amp; Design;Pretend Play</td>\n",
       "      <td>January 15, 2018</td>\n",
       "      <td>2.0.0</td>\n",
       "      <td>4.0.3 and up</td>\n",
       "    </tr>\n",
       "    <tr>\n",
       "      <th>2</th>\n",
       "      <td>U Launcher Lite  Free Live Cool Themes Hide Apps</td>\n",
       "      <td>9</td>\n",
       "      <td>ART_AND_DESIGN</td>\n",
       "      <td>4.7</td>\n",
       "      <td>87510</td>\n",
       "      <td>8.7M</td>\n",
       "      <td>5,000,000+</td>\n",
       "      <td>Free</td>\n",
       "      <td>0</td>\n",
       "      <td>Everyone</td>\n",
       "      <td>Art &amp; Design</td>\n",
       "      <td>August 1, 2018</td>\n",
       "      <td>1.2.4</td>\n",
       "      <td>4.0.3 and up</td>\n",
       "    </tr>\n",
       "    <tr>\n",
       "      <th>3</th>\n",
       "      <td>Sketch  Draw  Paint</td>\n",
       "      <td>3</td>\n",
       "      <td>ART_AND_DESIGN</td>\n",
       "      <td>4.5</td>\n",
       "      <td>215644</td>\n",
       "      <td>25M</td>\n",
       "      <td>50,000,000+</td>\n",
       "      <td>Free</td>\n",
       "      <td>0</td>\n",
       "      <td>Teen</td>\n",
       "      <td>Art &amp; Design</td>\n",
       "      <td>June 8, 2018</td>\n",
       "      <td>Varies with device</td>\n",
       "      <td>4.2 and up</td>\n",
       "    </tr>\n",
       "    <tr>\n",
       "      <th>4</th>\n",
       "      <td>Pixel Draw  Number Art Coloring Book</td>\n",
       "      <td>6</td>\n",
       "      <td>ART_AND_DESIGN</td>\n",
       "      <td>4.3</td>\n",
       "      <td>967</td>\n",
       "      <td>2.8M</td>\n",
       "      <td>100,000+</td>\n",
       "      <td>Free</td>\n",
       "      <td>0</td>\n",
       "      <td>Everyone</td>\n",
       "      <td>Art &amp; Design;Creativity</td>\n",
       "      <td>June 20, 2018</td>\n",
       "      <td>1.1</td>\n",
       "      <td>4.4 and up</td>\n",
       "    </tr>\n",
       "  </tbody>\n",
       "</table>\n",
       "</div>"
      ],
      "text/plain": [
       "                                                App  App_length        Category  Rating Reviews  Size     Installs  Type Price Content Rating                     Genres      Last Updated         Current Ver   Android Ver\n",
       "0       Photo Editor  Candy Camera  Grid  Scrapbook           6  ART_AND_DESIGN     4.1     159   19M      10,000+  Free     0       Everyone               Art & Design   January 7, 2018               1.0.0  4.0.3 and up\n",
       "1                               Coloring Book Moana           3  ART_AND_DESIGN     3.9     967   14M     500,000+  Free     0       Everyone  Art & Design;Pretend Play  January 15, 2018               2.0.0  4.0.3 and up\n",
       "2  U Launcher Lite  Free Live Cool Themes Hide Apps           9  ART_AND_DESIGN     4.7   87510  8.7M   5,000,000+  Free     0       Everyone               Art & Design    August 1, 2018               1.2.4  4.0.3 and up\n",
       "3                               Sketch  Draw  Paint           3  ART_AND_DESIGN     4.5  215644   25M  50,000,000+  Free     0           Teen               Art & Design      June 8, 2018  Varies with device    4.2 and up\n",
       "4              Pixel Draw  Number Art Coloring Book           6  ART_AND_DESIGN     4.3     967  2.8M     100,000+  Free     0       Everyone    Art & Design;Creativity     June 20, 2018                 1.1    4.4 and up"
      ]
     },
     "execution_count": 17,
     "metadata": {},
     "output_type": "execute_result"
    }
   ],
   "source": [
    "df.head()"
   ]
  },
  {
   "cell_type": "code",
   "execution_count": 18,
   "metadata": {
    "_uuid": "1c7b4536724a6f82908cb1765e8a0db4d04779b0"
   },
   "outputs": [
    {
     "data": {
      "text/html": [
       "<div>\n",
       "<style scoped>\n",
       "    .dataframe tbody tr th:only-of-type {\n",
       "        vertical-align: middle;\n",
       "    }\n",
       "\n",
       "    .dataframe tbody tr th {\n",
       "        vertical-align: top;\n",
       "    }\n",
       "\n",
       "    .dataframe thead th {\n",
       "        text-align: right;\n",
       "    }\n",
       "</style>\n",
       "<table border=\"1\" class=\"dataframe\">\n",
       "  <thead>\n",
       "    <tr style=\"text-align: right;\">\n",
       "      <th></th>\n",
       "      <th>App</th>\n",
       "      <th>App_length</th>\n",
       "      <th>Category</th>\n",
       "      <th>Rating</th>\n",
       "      <th>Reviews</th>\n",
       "      <th>Size</th>\n",
       "      <th>Installs</th>\n",
       "      <th>Type</th>\n",
       "      <th>Price</th>\n",
       "      <th>Content Rating</th>\n",
       "      <th>Genres</th>\n",
       "      <th>Last Updated</th>\n",
       "      <th>Current Ver</th>\n",
       "      <th>Android Ver</th>\n",
       "    </tr>\n",
       "  </thead>\n",
       "  <tbody>\n",
       "    <tr>\n",
       "      <th>1451</th>\n",
       "      <td>591 Housing Transactions  Renting Houses MiddleClass Houses New Cases RealTime Registration Villas Through The Sky Apartment Suites Mrt Buying A House Selling Prices Housing Mortgages</td>\n",
       "      <td>25</td>\n",
       "      <td>HOUSE_AND_HOME</td>\n",
       "      <td>4.1</td>\n",
       "      <td>24977</td>\n",
       "      <td>21M</td>\n",
       "      <td>1,000,000+</td>\n",
       "      <td>Free</td>\n",
       "      <td>0</td>\n",
       "      <td>Everyone</td>\n",
       "      <td>House &amp; Home</td>\n",
       "      <td>August 1, 2018</td>\n",
       "      <td>3.5.9</td>\n",
       "      <td>4.0.3 and up</td>\n",
       "    </tr>\n",
       "  </tbody>\n",
       "</table>\n",
       "</div>"
      ],
      "text/plain": [
       "                                                                                                                                                                                          App  App_length        Category  Rating Reviews Size    Installs  Type Price Content Rating        Genres  \\\n",
       "1451  591 Housing Transactions  Renting Houses MiddleClass Houses New Cases RealTime Registration Villas Through The Sky Apartment Suites Mrt Buying A House Selling Prices Housing Mortgages          25  HOUSE_AND_HOME     4.1   24977  21M  1,000,000+  Free     0       Everyone  House & Home   \n",
       "\n",
       "        Last Updated Current Ver   Android Ver  \n",
       "1451  August 1, 2018       3.5.9  4.0.3 and up  "
      ]
     },
     "execution_count": 18,
     "metadata": {},
     "output_type": "execute_result"
    }
   ],
   "source": [
    "df.loc[df[['App_length']].idxmax()]"
   ]
  },
  {
   "cell_type": "markdown",
   "metadata": {
    "_uuid": "26f14f7bf3d5d7eed50176ec8e164e8c62a54238"
   },
   "source": [
    "It is a little bit weird  but the longest App name has 25-word in it. What a cool idea to name the App with such a long name:)"
   ]
  },
  {
   "cell_type": "code",
   "execution_count": 19,
   "metadata": {
    "_uuid": "9c7e85a7f7edafda69bcf03519abb2ee49aa0140"
   },
   "outputs": [
    {
     "data": {
      "text/plain": [
       "3     2285\n",
       "2     2165\n",
       "4     1907\n",
       "5     1203\n",
       "1      715\n",
       "6      617\n",
       "7      444\n",
       "8      212\n",
       "9       73\n",
       "10      18\n",
       "11       8\n",
       "13       5\n",
       "15       2\n",
       "12       2\n",
       "25       1\n",
       "17       1\n",
       "21       1\n",
       "23       1\n",
       "Name: App_length, dtype: int64"
      ]
     },
     "execution_count": 19,
     "metadata": {},
     "output_type": "execute_result"
    }
   ],
   "source": [
    "df['App_length'].value_counts()"
   ]
  },
  {
   "cell_type": "code",
   "execution_count": 20,
   "metadata": {
    "_uuid": "3b9da5943bb626aa33063328389a6e730929df62"
   },
   "outputs": [
    {
     "data": {
      "text/plain": [
       "<Figure size 432x288 with 0 Axes>"
      ]
     },
     "metadata": {},
     "output_type": "display_data"
    },
    {
     "data": {
      "image/png": "[encoded data removed]",
      "text/plain": [
       "<Figure size 1008x432 with 1 Axes>"
      ]
     },
     "metadata": {},
     "output_type": "display_data"
    }
   ],
   "source": [
    "#sns.set(style=\"darkgrid\")\n",
    "visualization_settings()\n",
    "plt.style.use(\"ggplot\")\n",
    "ax = sns.countplot(df['App_length'], alpha=0.9)\n",
    "sns.despine()\n",
    "\n",
    "# Label customizing\n",
    "plt.ylabel('Count', fontsize=16)\n",
    "plt.xlabel('App Name Length', fontsize=16)\n",
    "plt.title(\"App Name Length Frequency\", fontsize=16);"
   ]
  },
  {
   "cell_type": "code",
   "execution_count": 21,
   "metadata": {
    "_uuid": "6384f7931f51ad8a15ede88db16e78d974dac6c5"
   },
   "outputs": [
    {
     "data": {
      "text/plain": [
       "2285"
      ]
     },
     "execution_count": 21,
     "metadata": {},
     "output_type": "execute_result"
    }
   ],
   "source": [
    "len(df[df['App_length']==3])"
   ]
  },
  {
   "cell_type": "markdown",
   "metadata": {
    "_uuid": "fc0e3ed85b953dd404949be387178d3455bb3704"
   },
   "source": [
    "Most common App name length is the ones with `3-word`. There  are 2537 3-word App names. It is almost 1 out of 4 in our database. Broadly speaking we can say that most of the App names are `less than 5 words`. Let's check now the most common 20 words in App names."
   ]
  },
  {
   "cell_type": "code",
   "execution_count": 22,
   "metadata": {
    "_uuid": "1040f08822b65a1a0b428ce58f0194e214f11217"
   },
   "outputs": [],
   "source": [
    "from collections import Counter\n",
    "words = Counter(\"\".join(df['App']).split()).items()\n",
    "sorted_App_names = sorted(words, key=lambda x: x[1], reverse=True) # sorting on App name frequency"
   ]
  },
  {
   "cell_type": "code",
   "execution_count": 23,
   "metadata": {
    "_uuid": "6e577041b7ce0d8f187e745a6cc726cc1f8c9c92"
   },
   "outputs": [
    {
     "data": {
      "text/plain": [
       "[('For', 517),\n",
       " ('And', 250),\n",
       " ('Free', 191),\n",
       " ('The', 147),\n",
       " ('By', 144),\n",
       " ('Of', 144),\n",
       " ('Video', 126),\n",
       " ('Live', 119),\n",
       " ('Mobile', 103),\n",
       " ('Photo', 99),\n",
       " ('To', 97),\n",
       " ('App', 86),\n",
       " ('Pro', 83),\n",
       " ('With', 81),\n",
       " ('Chat', 80),\n",
       " ('In', 74),\n",
       " ('A', 71),\n",
       " ('Dating', 65),\n",
       " ('Online', 64),\n",
       " ('News', 64)]"
      ]
     },
     "execution_count": 23,
     "metadata": {},
     "output_type": "execute_result"
    }
   ],
   "source": [
    "sorted_App_names[:20]"
   ]
  },
  {
   "cell_type": "markdown",
   "metadata": {
    "_uuid": "d2e8c2b8d2893efb37d8635d3f81b4a2b7b8941b"
   },
   "source": [
    "The most common 20 words in App Names are shown above.  But just a minute most of the top 20 words in App Names are pretty common words such as conjuctions or prepositoins in English. Let's clean them and check the names again."
   ]
  },
  {
   "cell_type": "code",
   "execution_count": 24,
   "metadata": {
    "_uuid": "92956cf144b427c5154f9f9e36f7c9441e11dcfb"
   },
   "outputs": [],
   "source": [
    "from nltk.corpus import stopwords\n",
    "stopword_list= stopwords.words('english')\n",
    "sorted_App_names = [x for x in sorted_App_names if x[0].lower() not in stopword_list] # stop words are exclueded from App names"
   ]
  },
  {
   "cell_type": "code",
   "execution_count": 25,
   "metadata": {
    "_uuid": "5a62ae39fd980d7dd14183f357f475d67a148e64"
   },
   "outputs": [
    {
     "data": {
      "text/plain": [
       "[('Free', 191),\n",
       " ('Video', 126),\n",
       " ('Live', 119),\n",
       " ('Mobile', 103),\n",
       " ('Photo', 99),\n",
       " ('App', 86),\n",
       " ('Pro', 83),\n",
       " ('Chat', 80),\n",
       " ('Dating', 65),\n",
       " ('Online', 64),\n",
       " ('News', 64),\n",
       " ('Launcher', 61),\n",
       " ('3D', 60),\n",
       " ('Camera', 54),\n",
       " ('Editor', 53),\n",
       " ('Car', 53),\n",
       " ('Tv', 50),\n",
       " ('Android', 49),\n",
       " ('Simulator', 48),\n",
       " ('Theme', 48)]"
      ]
     },
     "execution_count": 25,
     "metadata": {},
     "output_type": "execute_result"
    }
   ],
   "source": [
    "sorted_App_names[:20]"
   ]
  },
  {
   "cell_type": "markdown",
   "metadata": {
    "_uuid": "17b6b9456a43369fb9036abdb5dd9b4e2df40574"
   },
   "source": [
    "It makes much more sense now. As we can see the most common word in App Names is \"**Free**\"."
   ]
  },
  {
   "cell_type": "code",
   "execution_count": 26,
   "metadata": {
    "_uuid": "aba98e1d6ee1037afdb3c0d8ee7aa6f3dfe2a0ad"
   },
   "outputs": [],
   "source": [
    "# Let's review Category Column"
   ]
  },
  {
   "cell_type": "code",
   "execution_count": 27,
   "metadata": {
    "_uuid": "a0732d315bc30019f2d0c055c1bd4ddc0b85ea21"
   },
   "outputs": [
    {
     "data": {
      "text/plain": [
       "FAMILY                 1832\n",
       "GAME                    959\n",
       "TOOLS                   827\n",
       "BUSINESS                420\n",
       "MEDICAL                 395\n",
       "PERSONALIZATION         376\n",
       "PRODUCTIVITY            374\n",
       "LIFESTYLE               369\n",
       "FINANCE                 345\n",
       "SPORTS                  325\n",
       "COMMUNICATION           315\n",
       "HEALTH_AND_FITNESS      288\n",
       "PHOTOGRAPHY             281\n",
       "NEWS_AND_MAGAZINES      254\n",
       "SOCIAL                  239\n",
       "BOOKS_AND_REFERENCE     222\n",
       "TRAVEL_AND_LOCAL        219\n",
       "SHOPPING                202\n",
       "DATING                  171\n",
       "VIDEO_PLAYERS           163\n",
       "MAPS_AND_NAVIGATION     131\n",
       "EDUCATION               119\n",
       "FOOD_AND_DRINK          112\n",
       "ENTERTAINMENT           102\n",
       "AUTO_AND_VEHICLES        85\n",
       "LIBRARIES_AND_DEMO       84\n",
       "WEATHER                  79\n",
       "HOUSE_AND_HOME           74\n",
       "EVENTS                   64\n",
       "ART_AND_DESIGN           64\n",
       "PARENTING                60\n",
       "COMICS                   56\n",
       "BEAUTY                   53\n",
       "1.9                       1\n",
       "Name: Category, dtype: int64"
      ]
     },
     "execution_count": 27,
     "metadata": {},
     "output_type": "execute_result"
    }
   ],
   "source": [
    "df['Category'].value_counts()"
   ]
  },
  {
   "cell_type": "markdown",
   "metadata": {
    "_uuid": "7ea5aa030e108123ccf254e2c79b7a3f38716520"
   },
   "source": [
    "* The very last category name is 1.9,  it cannot be a category name.  Something must wrong with it so we will dropp it."
   ]
  },
  {
   "cell_type": "code",
   "execution_count": 28,
   "metadata": {
    "_uuid": "a7f0942ca565d3fc6864e9dec48387a9728b9032"
   },
   "outputs": [],
   "source": [
    "df = df[df['Category']!='1.9']"
   ]
  },
  {
   "cell_type": "code",
   "execution_count": 29,
   "metadata": {
    "_uuid": "3c5afda186991058400d92a90597b756f1e08e4c"
   },
   "outputs": [],
   "source": [
    "df['Category'] = df['Category'].map(lambda x: x.title())"
   ]
  },
  {
   "cell_type": "code",
   "execution_count": 30,
   "metadata": {
    "_uuid": "3df2d1ec7cf9fb2a5e452c63a745c15fdca8294c"
   },
   "outputs": [
    {
     "data": {
      "image/png": "[encoded data removed]",
      "text/plain": [
       "<Figure size 1440x576 with 1 Axes>"
      ]
     },
     "metadata": {},
     "output_type": "display_data"
    }
   ],
   "source": [
    "category_count  = df['Category'].value_counts();\n",
    "plt.figure(figsize=(20,8))\n",
    "sns.barplot(category_count.index, category_count.values, alpha=0.8)\n",
    "plt.ylabel('Count', fontsize=16)\n",
    "plt.title(\"App Categories\", fontsize=16);\n",
    "plt.xticks(rotation=90);"
   ]
  },
  {
   "cell_type": "markdown",
   "metadata": {
    "_uuid": "970d3acd63008542761040c02f4c96582587ab75"
   },
   "source": [
    "As seen from the graphic Family, Game and Tools categories are the top 3 ones, while Comics, Parenting and Beauty categories are the least used ones. "
   ]
  },
  {
   "cell_type": "markdown",
   "metadata": {
    "_uuid": "215b1b6d5e503e81383e759ecbce976e039b664c"
   },
   "source": [
    "**Let's check out Rating column**"
   ]
  },
  {
   "cell_type": "code",
   "execution_count": 31,
   "metadata": {
    "_uuid": "4381743d624a0f414126649ce5f784d57150b6b8"
   },
   "outputs": [
    {
     "data": {
      "text/plain": [
       "count    8196.000\n",
       "mean        4.173\n",
       "std         0.537\n",
       "min         1.000\n",
       "25%         4.000\n",
       "50%         4.300\n",
       "75%         4.500\n",
       "max         5.000\n",
       "Name: Rating, dtype: float64"
      ]
     },
     "execution_count": 31,
     "metadata": {},
     "output_type": "execute_result"
    }
   ],
   "source": [
    "df['Rating'].describe()"
   ]
  },
  {
   "cell_type": "code",
   "execution_count": 32,
   "metadata": {
    "_uuid": "266f4a3a61e29ea7ab8c1c71599599f7f93c4b19"
   },
   "outputs": [
    {
     "data": {
      "image/png": "[encoded data removed]",
      "text/plain": [
       "<Figure size 1440x576 with 1 Axes>"
      ]
     },
     "metadata": {},
     "output_type": "display_data"
    }
   ],
   "source": [
    "rating_count = df['Rating'].value_counts()\n",
    "plt.figure(figsize=(20,8))\n",
    "sns.barplot(rating_count.index, rating_count.values, palette=\"Blues_d\");\n",
    "plt.ylabel('Count', fontsize=16)\n",
    "plt.xlabel('Ratings', fontsize=16)\n",
    "plt.title(\"Rating Frequency\", fontsize=16);"
   ]
  },
  {
   "cell_type": "markdown",
   "metadata": {
    "_uuid": "06cebb4e34eb32c291a5324cf9b5657a458165a6"
   },
   "source": [
    "The rating mean is 4.2. We conclude that many people rate the apps more than 4 stars. "
   ]
  },
  {
   "cell_type": "code",
   "execution_count": 33,
   "metadata": {
    "_uuid": "69c635fb5fef6da0b55a1ba5e85883c682d442dc"
   },
   "outputs": [
    {
     "data": {
      "text/plain": [
       "Category\n",
       "Events                 4.436\n",
       "Education              4.364\n",
       "Art_And_Design         4.357\n",
       "Books_And_Reference    4.345\n",
       "Personalization        4.332\n",
       "Parenting              4.300\n",
       "Beauty                 4.279\n",
       "Game                   4.247\n",
       "Social                 4.247\n",
       "Weather                4.243\n",
       "Health_And_Fitness     4.243\n",
       "Shopping               4.230\n",
       "Sports                 4.216\n",
       "Auto_And_Vehicles      4.190\n",
       "Productivity           4.183\n",
       "Comics                 4.181\n",
       "Family                 4.180\n",
       "Libraries_And_Demo     4.178\n",
       "Food_And_Drink         4.172\n",
       "Medical                4.167\n",
       "Photography            4.157\n",
       "House_And_Home         4.150\n",
       "Entertainment          4.135\n",
       "News_And_Magazines     4.122\n",
       "Communication          4.121\n",
       "Finance                4.116\n",
       "Business               4.098\n",
       "Lifestyle              4.093\n",
       "Travel_And_Local       4.070\n",
       "Video_Players          4.045\n",
       "Tools                  4.040\n",
       "Maps_And_Navigation    4.036\n",
       "Dating                 3.970\n",
       "Name: Rating, dtype: float64"
      ]
     },
     "execution_count": 33,
     "metadata": {},
     "output_type": "execute_result"
    }
   ],
   "source": [
    "df.groupby('Category')['Rating'].mean().sort_values(ascending=False)"
   ]
  },
  {
   "cell_type": "markdown",
   "metadata": {
    "_uuid": "0a3184ff3947b5c0e3267f55b4015005fe03cf01"
   },
   "source": [
    "Highest average mean rating score belongs to \"Events\" category which is around 4.44, while \"Dating\" category is with the least mean rating which is around 3.97. Although Events category does have only 64 Apps, it has the highest mean rating score. We can conclude that its user profile tend to give higher rating star. "
   ]
  },
  {
   "cell_type": "code",
   "execution_count": 34,
   "metadata": {
    "_uuid": "cf98fe85724f1c8694eed48dad8e91a40a90cdc3"
   },
   "outputs": [
    {
     "data": {
      "text/html": [
       "<div>\n",
       "<style scoped>\n",
       "    .dataframe tbody tr th:only-of-type {\n",
       "        vertical-align: middle;\n",
       "    }\n",
       "\n",
       "    .dataframe tbody tr th {\n",
       "        vertical-align: top;\n",
       "    }\n",
       "\n",
       "    .dataframe thead th {\n",
       "        text-align: right;\n",
       "    }\n",
       "</style>\n",
       "<table border=\"1\" class=\"dataframe\">\n",
       "  <thead>\n",
       "    <tr style=\"text-align: right;\">\n",
       "      <th></th>\n",
       "      <th>App</th>\n",
       "      <th>App_length</th>\n",
       "      <th>Category</th>\n",
       "      <th>Rating</th>\n",
       "      <th>Reviews</th>\n",
       "      <th>Size</th>\n",
       "      <th>Installs</th>\n",
       "      <th>Type</th>\n",
       "      <th>Price</th>\n",
       "      <th>Content Rating</th>\n",
       "      <th>Genres</th>\n",
       "      <th>Last Updated</th>\n",
       "      <th>Current Ver</th>\n",
       "      <th>Android Ver</th>\n",
       "    </tr>\n",
       "  </thead>\n",
       "  <tbody>\n",
       "    <tr>\n",
       "      <th>0</th>\n",
       "      <td>Photo Editor  Candy Camera  Grid  Scrapbook</td>\n",
       "      <td>6</td>\n",
       "      <td>Art_And_Design</td>\n",
       "      <td>4.1</td>\n",
       "      <td>159</td>\n",
       "      <td>19M</td>\n",
       "      <td>10,000+</td>\n",
       "      <td>Free</td>\n",
       "      <td>0</td>\n",
       "      <td>Everyone</td>\n",
       "      <td>Art &amp; Design</td>\n",
       "      <td>January 7, 2018</td>\n",
       "      <td>1.0.0</td>\n",
       "      <td>4.0.3 and up</td>\n",
       "    </tr>\n",
       "    <tr>\n",
       "      <th>1</th>\n",
       "      <td>Coloring Book Moana</td>\n",
       "      <td>3</td>\n",
       "      <td>Art_And_Design</td>\n",
       "      <td>3.9</td>\n",
       "      <td>967</td>\n",
       "      <td>14M</td>\n",
       "      <td>500,000+</td>\n",
       "      <td>Free</td>\n",
       "      <td>0</td>\n",
       "      <td>Everyone</td>\n",
       "      <td>Art &amp; Design;Pretend Play</td>\n",
       "      <td>January 15, 2018</td>\n",
       "      <td>2.0.0</td>\n",
       "      <td>4.0.3 and up</td>\n",
       "    </tr>\n",
       "    <tr>\n",
       "      <th>2</th>\n",
       "      <td>U Launcher Lite  Free Live Cool Themes Hide Apps</td>\n",
       "      <td>9</td>\n",
       "      <td>Art_And_Design</td>\n",
       "      <td>4.7</td>\n",
       "      <td>87510</td>\n",
       "      <td>8.7M</td>\n",
       "      <td>5,000,000+</td>\n",
       "      <td>Free</td>\n",
       "      <td>0</td>\n",
       "      <td>Everyone</td>\n",
       "      <td>Art &amp; Design</td>\n",
       "      <td>August 1, 2018</td>\n",
       "      <td>1.2.4</td>\n",
       "      <td>4.0.3 and up</td>\n",
       "    </tr>\n",
       "    <tr>\n",
       "      <th>3</th>\n",
       "      <td>Sketch  Draw  Paint</td>\n",
       "      <td>3</td>\n",
       "      <td>Art_And_Design</td>\n",
       "      <td>4.5</td>\n",
       "      <td>215644</td>\n",
       "      <td>25M</td>\n",
       "      <td>50,000,000+</td>\n",
       "      <td>Free</td>\n",
       "      <td>0</td>\n",
       "      <td>Teen</td>\n",
       "      <td>Art &amp; Design</td>\n",
       "      <td>June 8, 2018</td>\n",
       "      <td>Varies with device</td>\n",
       "      <td>4.2 and up</td>\n",
       "    </tr>\n",
       "    <tr>\n",
       "      <th>4</th>\n",
       "      <td>Pixel Draw  Number Art Coloring Book</td>\n",
       "      <td>6</td>\n",
       "      <td>Art_And_Design</td>\n",
       "      <td>4.3</td>\n",
       "      <td>967</td>\n",
       "      <td>2.8M</td>\n",
       "      <td>100,000+</td>\n",
       "      <td>Free</td>\n",
       "      <td>0</td>\n",
       "      <td>Everyone</td>\n",
       "      <td>Art &amp; Design;Creativity</td>\n",
       "      <td>June 20, 2018</td>\n",
       "      <td>1.1</td>\n",
       "      <td>4.4 and up</td>\n",
       "    </tr>\n",
       "  </tbody>\n",
       "</table>\n",
       "</div>"
      ],
      "text/plain": [
       "                                                App  App_length        Category  Rating Reviews  Size     Installs  Type Price Content Rating                     Genres      Last Updated         Current Ver   Android Ver\n",
       "0       Photo Editor  Candy Camera  Grid  Scrapbook           6  Art_And_Design     4.1     159   19M      10,000+  Free     0       Everyone               Art & Design   January 7, 2018               1.0.0  4.0.3 and up\n",
       "1                               Coloring Book Moana           3  Art_And_Design     3.9     967   14M     500,000+  Free     0       Everyone  Art & Design;Pretend Play  January 15, 2018               2.0.0  4.0.3 and up\n",
       "2  U Launcher Lite  Free Live Cool Themes Hide Apps           9  Art_And_Design     4.7   87510  8.7M   5,000,000+  Free     0       Everyone               Art & Design    August 1, 2018               1.2.4  4.0.3 and up\n",
       "3                               Sketch  Draw  Paint           3  Art_And_Design     4.5  215644   25M  50,000,000+  Free     0           Teen               Art & Design      June 8, 2018  Varies with device    4.2 and up\n",
       "4              Pixel Draw  Number Art Coloring Book           6  Art_And_Design     4.3     967  2.8M     100,000+  Free     0       Everyone    Art & Design;Creativity     June 20, 2018                 1.1    4.4 and up"
      ]
     },
     "execution_count": 34,
     "metadata": {},
     "output_type": "execute_result"
    }
   ],
   "source": [
    "df.head()"
   ]
  },
  {
   "cell_type": "markdown",
   "metadata": {
    "_uuid": "d5eef037e0f02c4aa1a01de9575ff4788257c4b3"
   },
   "source": [
    "**Let's review Reviews columns**"
   ]
  },
  {
   "cell_type": "code",
   "execution_count": 35,
   "metadata": {
    "_uuid": "967007a06e55ffce6d5c3c6efb273ad2f24c261b"
   },
   "outputs": [
    {
     "data": {
      "text/plain": [
       "str"
      ]
     },
     "execution_count": 35,
     "metadata": {},
     "output_type": "execute_result"
    }
   ],
   "source": [
    "type(df['Reviews'][0])"
   ]
  },
  {
   "cell_type": "markdown",
   "metadata": {
    "_uuid": "d3b4de14105c4de33b96e3a8b7016e45e869b029"
   },
   "source": [
    "To make math opers on Reviews columns let's convert string type into integer"
   ]
  },
  {
   "cell_type": "code",
   "execution_count": 36,
   "metadata": {
    "_uuid": "4c78d024426271dd0e445ed855a9436804669502"
   },
   "outputs": [],
   "source": [
    "df['Reviews'] = df['Reviews'].map(lambda x: int(x))"
   ]
  },
  {
   "cell_type": "code",
   "execution_count": 37,
   "metadata": {
    "_uuid": "08552b31546a178ebd36480d322f5cd6d3135ba2"
   },
   "outputs": [
    {
     "data": {
      "text/plain": [
       "count    9.659e+03\n",
       "mean     2.166e+05\n",
       "std      1.831e+06\n",
       "min      0.000e+00\n",
       "25%      2.500e+01\n",
       "50%      9.670e+02\n",
       "75%      2.940e+04\n",
       "max      7.816e+07\n",
       "Name: Reviews, dtype: float64"
      ]
     },
     "execution_count": 37,
     "metadata": {},
     "output_type": "execute_result"
    }
   ],
   "source": [
    "df['Reviews'].describe()"
   ]
  },
  {
   "cell_type": "markdown",
   "metadata": {
    "_uuid": "b6351fdb987109cdceeedd873549251122ece8a0"
   },
   "source": [
    "Some Apps has been rated almost 8 millions times. On the other hand some Apps has no review at all."
   ]
  },
  {
   "cell_type": "code",
   "execution_count": 38,
   "metadata": {
    "_uuid": "8c1648bf93c16da309fefae7dcd0f6d5699a0ade"
   },
   "outputs": [
    {
     "data": {
      "text/plain": [
       "335            Messenger  Text And Video Chat For Free\n",
       "336                                 Whatsapp Messenger\n",
       "1654                                    Subway Surfers\n",
       "1655                                  Candy Crush Saga\n",
       "1660                                      Clash Royale\n",
       "1670                                    Clash Of Clans\n",
       "2544                                          Facebook\n",
       "2545                                         Instagram\n",
       "3665                                           Youtube\n",
       "4005             Clean Master Space Cleaner  Antivirus\n",
       "7536    Security Master  Antivirus Vpn Applock Booster\n",
       "Name: App, dtype: object"
      ]
     },
     "execution_count": 38,
     "metadata": {},
     "output_type": "execute_result"
    }
   ],
   "source": [
    "df[df['Reviews']>20000000]['App']"
   ]
  },
  {
   "cell_type": "markdown",
   "metadata": {
    "_uuid": "c7518a77bc4734e383cd800b0a752c48fb2ac071"
   },
   "source": [
    "The above applications have been reviewed more than 20 million times. "
   ]
  },
  {
   "cell_type": "code",
   "execution_count": 39,
   "metadata": {
    "_uuid": "1fd52160977828d340204128eb65386d9180a0ca"
   },
   "outputs": [
    {
     "data": {
      "text/html": [
       "<div>\n",
       "<style scoped>\n",
       "    .dataframe tbody tr th:only-of-type {\n",
       "        vertical-align: middle;\n",
       "    }\n",
       "\n",
       "    .dataframe tbody tr th {\n",
       "        vertical-align: top;\n",
       "    }\n",
       "\n",
       "    .dataframe thead th {\n",
       "        text-align: right;\n",
       "    }\n",
       "</style>\n",
       "<table border=\"1\" class=\"dataframe\">\n",
       "  <thead>\n",
       "    <tr style=\"text-align: right;\">\n",
       "      <th></th>\n",
       "      <th>App</th>\n",
       "      <th>App_length</th>\n",
       "      <th>Category</th>\n",
       "      <th>Rating</th>\n",
       "      <th>Reviews</th>\n",
       "      <th>Size</th>\n",
       "      <th>Installs</th>\n",
       "      <th>Type</th>\n",
       "      <th>Price</th>\n",
       "      <th>Content Rating</th>\n",
       "      <th>Genres</th>\n",
       "      <th>Last Updated</th>\n",
       "      <th>Current Ver</th>\n",
       "      <th>Android Ver</th>\n",
       "    </tr>\n",
       "  </thead>\n",
       "  <tbody>\n",
       "    <tr>\n",
       "      <th>2544</th>\n",
       "      <td>Facebook</td>\n",
       "      <td>1</td>\n",
       "      <td>Social</td>\n",
       "      <td>4.1</td>\n",
       "      <td>78158306</td>\n",
       "      <td>Varies with device</td>\n",
       "      <td>1,000,000,000+</td>\n",
       "      <td>Free</td>\n",
       "      <td>0</td>\n",
       "      <td>Teen</td>\n",
       "      <td>Social</td>\n",
       "      <td>August 3, 2018</td>\n",
       "      <td>Varies with device</td>\n",
       "      <td>Varies with device</td>\n",
       "    </tr>\n",
       "  </tbody>\n",
       "</table>\n",
       "</div>"
      ],
      "text/plain": [
       "           App  App_length Category  Rating   Reviews                Size        Installs  Type Price Content Rating  Genres    Last Updated         Current Ver         Android Ver\n",
       "2544  Facebook           1   Social     4.1  78158306  Varies with device  1,000,000,000+  Free     0           Teen  Social  August 3, 2018  Varies with device  Varies with device"
      ]
     },
     "execution_count": 39,
     "metadata": {},
     "output_type": "execute_result"
    }
   ],
   "source": [
    "df.loc[df[['Reviews']].idxmax()]"
   ]
  },
  {
   "cell_type": "markdown",
   "metadata": {
    "_uuid": "dffd3ebc110c269356cfa2a4660b6f3b214a09ce"
   },
   "source": [
    "**Facebook** is the most rated application in our dataset with more than **78 million** reviews.****"
   ]
  },
  {
   "cell_type": "code",
   "execution_count": 40,
   "metadata": {
    "_uuid": "b81648810f296ab14e8c346547f7ba7f667840f2"
   },
   "outputs": [
    {
     "data": {
      "image/png": "[encoded data removed]",
      "text/plain": [
       "<Figure size 1440x576 with 1 Axes>"
      ]
     },
     "metadata": {},
     "output_type": "display_data"
    }
   ],
   "source": [
    "plt.figure(figsize=(20,8))\n",
    "df.groupby('Category')['Reviews'].sum().sort_values(ascending=False).head(10).plot(kind='bar');\n",
    "plt.ylabel('Count', fontsize=16)\n",
    "plt.xlabel('Ratings', fontsize=16)\n",
    "plt.title(\"Total Reviews Number for Top 10 Category\", fontsize=16)\n",
    "plt.xticks(rotation=0);"
   ]
  },
  {
   "cell_type": "markdown",
   "metadata": {
    "_uuid": "f35285e11b62190c54ec52c38f466fc7e1c621cb"
   },
   "source": [
    "The most rated category is '**Game**' which has more than** 600 million reviews** in total. Game, Communication, Social and Tools have more than **200 million reviews**."
   ]
  },
  {
   "cell_type": "markdown",
   "metadata": {
    "_uuid": "9ef5de000900ebfc3a0c3d863763a6c2811260af"
   },
   "source": [
    "**Let's review Size column**"
   ]
  },
  {
   "cell_type": "code",
   "execution_count": 41,
   "metadata": {
    "_uuid": "09e21d454239da40bfc2abbca1673f5a0f5e86eb"
   },
   "outputs": [
    {
     "data": {
      "text/plain": [
       "Varies with device    1227\n",
       "11M                    182\n",
       "12M                    181\n",
       "14M                    177\n",
       "13M                    177\n",
       "15M                    163\n",
       "17M                    146\n",
       "26M                    142\n",
       "16M                    137\n",
       "19M                    130\n",
       "Name: Size, dtype: int64"
      ]
     },
     "execution_count": 41,
     "metadata": {},
     "output_type": "execute_result"
    }
   ],
   "source": [
    "df['Size'].value_counts().head(10)"
   ]
  },
  {
   "cell_type": "markdown",
   "metadata": {
    "_uuid": "4b7a2e9c155d6d0f99a3f4e946f34f0712f759bd"
   },
   "source": [
    "The App size varies but the top ten can be seen above. We can argue that most common Apps' size varies between **11MB and 26 MB**, if we ignore the 'Varies with device'. "
   ]
  },
  {
   "cell_type": "markdown",
   "metadata": {
    "_uuid": "43235fb6744cccd62fadfd373ed2c1a24bab5e86"
   },
   "source": [
    "**Let's check Type now**"
   ]
  },
  {
   "cell_type": "code",
   "execution_count": 42,
   "metadata": {
    "_uuid": "7a7bbeb8cb42203a4af8aebdbc19e060390b65dc"
   },
   "outputs": [
    {
     "data": {
      "text/plain": [
       "Free    8902\n",
       "Paid     756\n",
       "Name: Type, dtype: int64"
      ]
     },
     "execution_count": 42,
     "metadata": {},
     "output_type": "execute_result"
    }
   ],
   "source": [
    "df['Type'].value_counts()"
   ]
  },
  {
   "cell_type": "markdown",
   "metadata": {
    "_uuid": "d6c811a8e60212519a5531e5d4c7cb217f8ab97f"
   },
   "source": [
    "There are only **756** apps are paid Apps  and the rest are free."
   ]
  },
  {
   "cell_type": "code",
   "execution_count": 43,
   "metadata": {
    "_uuid": "4458b468466d6b4689330dc7fba55b737e82efc7"
   },
   "outputs": [],
   "source": [
    "df['Price'] = df['Price'].map(lambda x: re.sub(r\"[^\\w\\.]\", \"\", x)) #remove $ from the price"
   ]
  },
  {
   "cell_type": "code",
   "execution_count": 44,
   "metadata": {
    "_uuid": "f6f7d5651233dc2a66b05ef88fbde2a607e4436b"
   },
   "outputs": [
    {
     "data": {
      "text/plain": [
       "str"
      ]
     },
     "execution_count": 44,
     "metadata": {},
     "output_type": "execute_result"
    }
   ],
   "source": [
    "type(df['Price'][0])"
   ]
  },
  {
   "cell_type": "markdown",
   "metadata": {
    "_uuid": "e7d547cac64ecdaf09f46aa1374e2925c90bfaa2"
   },
   "source": [
    "We need to convert string into float"
   ]
  },
  {
   "cell_type": "code",
   "execution_count": 45,
   "metadata": {
    "_uuid": "05c126776ce64902392a4f34bf4e4ad225fad82b"
   },
   "outputs": [],
   "source": [
    "df['Price'] = df[\"Price\"].map(lambda x: float(x))"
   ]
  },
  {
   "cell_type": "code",
   "execution_count": 46,
   "metadata": {
    "_uuid": "1ee0805a71d312054b156d88a16d64d9ff7db389"
   },
   "outputs": [
    {
     "data": {
      "text/plain": [
       "1.0992990992856289"
      ]
     },
     "execution_count": 46,
     "metadata": {},
     "output_type": "execute_result"
    }
   ],
   "source": [
    "df['Price'].mean()"
   ]
  },
  {
   "cell_type": "markdown",
   "metadata": {
    "_uuid": "398304e0befc37a0118f102cc5da13bfab7f954e"
   },
   "source": [
    "The average charge for paid Apps is **$1.01. ** "
   ]
  },
  {
   "cell_type": "code",
   "execution_count": 47,
   "metadata": {
    "_uuid": "32179b9456bed84d2d4c3596e679f3cf1e41bb7d"
   },
   "outputs": [
    {
     "data": {
      "text/html": [
       "<div>\n",
       "<style scoped>\n",
       "    .dataframe tbody tr th:only-of-type {\n",
       "        vertical-align: middle;\n",
       "    }\n",
       "\n",
       "    .dataframe tbody tr th {\n",
       "        vertical-align: top;\n",
       "    }\n",
       "\n",
       "    .dataframe thead th {\n",
       "        text-align: right;\n",
       "    }\n",
       "</style>\n",
       "<table border=\"1\" class=\"dataframe\">\n",
       "  <thead>\n",
       "    <tr style=\"text-align: right;\">\n",
       "      <th></th>\n",
       "      <th>App</th>\n",
       "      <th>App_length</th>\n",
       "      <th>Category</th>\n",
       "      <th>Rating</th>\n",
       "      <th>Reviews</th>\n",
       "      <th>Size</th>\n",
       "      <th>Installs</th>\n",
       "      <th>Type</th>\n",
       "      <th>Price</th>\n",
       "      <th>Content Rating</th>\n",
       "      <th>Genres</th>\n",
       "      <th>Last Updated</th>\n",
       "      <th>Current Ver</th>\n",
       "      <th>Android Ver</th>\n",
       "    </tr>\n",
       "  </thead>\n",
       "  <tbody>\n",
       "    <tr>\n",
       "      <th>4367</th>\n",
       "      <td>IM Rich  Trump Edition</td>\n",
       "      <td>4</td>\n",
       "      <td>Lifestyle</td>\n",
       "      <td>3.6</td>\n",
       "      <td>275</td>\n",
       "      <td>7.3M</td>\n",
       "      <td>10,000+</td>\n",
       "      <td>Paid</td>\n",
       "      <td>400.0</td>\n",
       "      <td>Everyone</td>\n",
       "      <td>Lifestyle</td>\n",
       "      <td>May 3, 2018</td>\n",
       "      <td>1.0.1</td>\n",
       "      <td>4.1 and up</td>\n",
       "    </tr>\n",
       "  </tbody>\n",
       "</table>\n",
       "</div>"
      ],
      "text/plain": [
       "                         App  App_length   Category  Rating  Reviews  Size Installs  Type  Price Content Rating     Genres Last Updated Current Ver Android Ver\n",
       "4367  IM Rich  Trump Edition           4  Lifestyle     3.6      275  7.3M  10,000+  Paid  400.0       Everyone  Lifestyle  May 3, 2018       1.0.1  4.1 and up"
      ]
     },
     "execution_count": 47,
     "metadata": {},
     "output_type": "execute_result"
    }
   ],
   "source": [
    "df.loc[df[['Price']].idxmax()]"
   ]
  },
  {
   "cell_type": "markdown",
   "metadata": {
    "_uuid": "b7a101bf872e249d182990ddf918330b18caa1ea"
   },
   "source": [
    "The most expensive App is IM Rich Trump which is **$400** and it has been installed more than **10 thousand times.**.People have paid **400 thousads dollars**[](http://) so far for it."
   ]
  },
  {
   "cell_type": "code",
   "execution_count": 48,
   "metadata": {
    "_uuid": "fcfebbbfe520660849c11403dcd6dc73870c95db"
   },
   "outputs": [],
   "source": [
    "df_paid = df[df['Price']>50]"
   ]
  },
  {
   "cell_type": "code",
   "execution_count": 49,
   "metadata": {
    "_uuid": "5bde439cc6db670fc61c0e9dfd7ab78615f05e02"
   },
   "outputs": [
    {
     "data": {
      "text/html": [
       "<div>\n",
       "<style scoped>\n",
       "    .dataframe tbody tr th:only-of-type {\n",
       "        vertical-align: middle;\n",
       "    }\n",
       "\n",
       "    .dataframe tbody tr th {\n",
       "        vertical-align: top;\n",
       "    }\n",
       "\n",
       "    .dataframe thead th {\n",
       "        text-align: right;\n",
       "    }\n",
       "</style>\n",
       "<table border=\"1\" class=\"dataframe\">\n",
       "  <thead>\n",
       "    <tr style=\"text-align: right;\">\n",
       "      <th></th>\n",
       "      <th>Price</th>\n",
       "    </tr>\n",
       "    <tr>\n",
       "      <th>App</th>\n",
       "      <th></th>\n",
       "    </tr>\n",
       "  </thead>\n",
       "  <tbody>\n",
       "    <tr>\n",
       "      <th>IM Rich  Trump Edition</th>\n",
       "      <td>400.00</td>\n",
       "    </tr>\n",
       "    <tr>\n",
       "      <th>IM Rich</th>\n",
       "      <td>399.99</td>\n",
       "    </tr>\n",
       "    <tr>\n",
       "      <th>I Am Rich Plus</th>\n",
       "      <td>399.99</td>\n",
       "    </tr>\n",
       "    <tr>\n",
       "      <th>Most Expensive App H</th>\n",
       "      <td>399.99</td>\n",
       "    </tr>\n",
       "    <tr>\n",
       "      <th>IM RichEu Sou Ricoأنا غني我很有錢</th>\n",
       "      <td>399.99</td>\n",
       "    </tr>\n",
       "    <tr>\n",
       "      <th>I Am RichPremium</th>\n",
       "      <td>399.99</td>\n",
       "    </tr>\n",
       "    <tr>\n",
       "      <th>I Am Rich Pro Plus</th>\n",
       "      <td>399.99</td>\n",
       "    </tr>\n",
       "    <tr>\n",
       "      <th>I Am Rich Premium</th>\n",
       "      <td>399.99</td>\n",
       "    </tr>\n",
       "    <tr>\n",
       "      <th>I Am Rich Pro</th>\n",
       "      <td>399.99</td>\n",
       "    </tr>\n",
       "    <tr>\n",
       "      <th>I Am Rich Most Expensive App</th>\n",
       "      <td>399.99</td>\n",
       "    </tr>\n",
       "    <tr>\n",
       "      <th>I Am Rich</th>\n",
       "      <td>397.49</td>\n",
       "    </tr>\n",
       "    <tr>\n",
       "      <th>Eu Sou Rico</th>\n",
       "      <td>394.99</td>\n",
       "    </tr>\n",
       "    <tr>\n",
       "      <th>I Am Extremely Rich</th>\n",
       "      <td>379.99</td>\n",
       "    </tr>\n",
       "    <tr>\n",
       "      <th>I Am Rich Vip</th>\n",
       "      <td>299.99</td>\n",
       "    </tr>\n",
       "    <tr>\n",
       "      <th>Ep Cook Book</th>\n",
       "      <td>200.00</td>\n",
       "    </tr>\n",
       "    <tr>\n",
       "      <th>CronometraBr</th>\n",
       "      <td>154.99</td>\n",
       "    </tr>\n",
       "    <tr>\n",
       "      <th>Bp Fitness Lead Scanner</th>\n",
       "      <td>109.99</td>\n",
       "    </tr>\n",
       "    <tr>\n",
       "      <th>Lean Eq</th>\n",
       "      <td>89.99</td>\n",
       "    </tr>\n",
       "    <tr>\n",
       "      <th>Vargo Anesthesia Mega App</th>\n",
       "      <td>79.99</td>\n",
       "    </tr>\n",
       "    <tr>\n",
       "      <th>Language Therapy Aphasia</th>\n",
       "      <td>74.99</td>\n",
       "    </tr>\n",
       "  </tbody>\n",
       "</table>\n",
       "</div>"
      ],
      "text/plain": [
       "                                Price\n",
       "App                                  \n",
       "IM Rich  Trump Edition         400.00\n",
       " IM Rich                       399.99\n",
       "I Am Rich Plus                 399.99\n",
       "Most Expensive App H           399.99\n",
       "IM RichEu Sou Ricoأنا غني我很有錢  399.99\n",
       "I Am RichPremium               399.99\n",
       "I Am Rich Pro Plus             399.99\n",
       "I Am Rich Premium              399.99\n",
       "I Am Rich Pro                  399.99\n",
       "I Am Rich Most Expensive App   399.99\n",
       "I Am Rich                      397.49\n",
       "Eu Sou Rico                    394.99\n",
       "I Am Extremely Rich            379.99\n",
       "I Am Rich Vip                  299.99\n",
       "Ep Cook Book                   200.00\n",
       "CronometraBr                   154.99\n",
       "Bp Fitness Lead Scanner        109.99\n",
       "Lean Eq                         89.99\n",
       "Vargo Anesthesia Mega App       79.99\n",
       "Language Therapy Aphasia        74.99"
      ]
     },
     "execution_count": 49,
     "metadata": {},
     "output_type": "execute_result"
    }
   ],
   "source": [
    "df_paid.groupby('App')[['Price']].mean().sort_values(by='Price', ascending=False)"
   ]
  },
  {
   "cell_type": "markdown",
   "metadata": {
    "_uuid": "5ad9cf1e655471eaa952db4a58d0a54733fe5e45"
   },
   "source": [
    "The Apps more than** $50**  can be seen above. "
   ]
  },
  {
   "cell_type": "code",
   "execution_count": 50,
   "metadata": {
    "_uuid": "6292cc3e22e5980b2c7a6cfd62a1002fd3b524ac"
   },
   "outputs": [
    {
     "data": {
      "text/html": [
       "<div>\n",
       "<style scoped>\n",
       "    .dataframe tbody tr th:only-of-type {\n",
       "        vertical-align: middle;\n",
       "    }\n",
       "\n",
       "    .dataframe tbody tr th {\n",
       "        vertical-align: top;\n",
       "    }\n",
       "\n",
       "    .dataframe thead th {\n",
       "        text-align: right;\n",
       "    }\n",
       "</style>\n",
       "<table border=\"1\" class=\"dataframe\">\n",
       "  <thead>\n",
       "    <tr style=\"text-align: right;\">\n",
       "      <th></th>\n",
       "      <th>App</th>\n",
       "      <th>Genres</th>\n",
       "      <th>Price</th>\n",
       "      <th>Installs</th>\n",
       "    </tr>\n",
       "  </thead>\n",
       "  <tbody>\n",
       "    <tr>\n",
       "      <th>4367</th>\n",
       "      <td>IM Rich  Trump Edition</td>\n",
       "      <td>Lifestyle</td>\n",
       "      <td>400.00</td>\n",
       "      <td>10,000+</td>\n",
       "    </tr>\n",
       "    <tr>\n",
       "      <th>5359</th>\n",
       "      <td>I Am RichPremium</td>\n",
       "      <td>Finance</td>\n",
       "      <td>399.99</td>\n",
       "      <td>5,000+</td>\n",
       "    </tr>\n",
       "    <tr>\n",
       "      <th>5356</th>\n",
       "      <td>I Am Rich Premium</td>\n",
       "      <td>Finance</td>\n",
       "      <td>399.99</td>\n",
       "      <td>50,000+</td>\n",
       "    </tr>\n",
       "    <tr>\n",
       "      <th>5373</th>\n",
       "      <td>I Am Rich Pro Plus</td>\n",
       "      <td>Finance</td>\n",
       "      <td>399.99</td>\n",
       "      <td>1,000+</td>\n",
       "    </tr>\n",
       "    <tr>\n",
       "      <th>5369</th>\n",
       "      <td>I Am Rich</td>\n",
       "      <td>Finance</td>\n",
       "      <td>399.99</td>\n",
       "      <td>5,000+</td>\n",
       "    </tr>\n",
       "    <tr>\n",
       "      <th>5364</th>\n",
       "      <td>I Am Rich Most Expensive App</td>\n",
       "      <td>Finance</td>\n",
       "      <td>399.99</td>\n",
       "      <td>1,000+</td>\n",
       "    </tr>\n",
       "    <tr>\n",
       "      <th>5362</th>\n",
       "      <td>I Am Rich Pro</td>\n",
       "      <td>Entertainment</td>\n",
       "      <td>399.99</td>\n",
       "      <td>5,000+</td>\n",
       "    </tr>\n",
       "    <tr>\n",
       "      <th>5358</th>\n",
       "      <td>I Am Rich</td>\n",
       "      <td>Finance</td>\n",
       "      <td>399.99</td>\n",
       "      <td>1,000+</td>\n",
       "    </tr>\n",
       "    <tr>\n",
       "      <th>9934</th>\n",
       "      <td>IM RichEu Sou Ricoأنا غني我很有錢</td>\n",
       "      <td>Lifestyle</td>\n",
       "      <td>399.99</td>\n",
       "      <td>0+</td>\n",
       "    </tr>\n",
       "    <tr>\n",
       "      <th>5354</th>\n",
       "      <td>I Am Rich Plus</td>\n",
       "      <td>Entertainment</td>\n",
       "      <td>399.99</td>\n",
       "      <td>10,000+</td>\n",
       "    </tr>\n",
       "    <tr>\n",
       "      <th>5351</th>\n",
       "      <td>I Am Rich</td>\n",
       "      <td>Lifestyle</td>\n",
       "      <td>399.99</td>\n",
       "      <td>100,000+</td>\n",
       "    </tr>\n",
       "    <tr>\n",
       "      <th>4362</th>\n",
       "      <td>IM Rich</td>\n",
       "      <td>Lifestyle</td>\n",
       "      <td>399.99</td>\n",
       "      <td>10,000+</td>\n",
       "    </tr>\n",
       "    <tr>\n",
       "      <th>4197</th>\n",
       "      <td>Most Expensive App H</td>\n",
       "      <td>Entertainment</td>\n",
       "      <td>399.99</td>\n",
       "      <td>100+</td>\n",
       "    </tr>\n",
       "    <tr>\n",
       "      <th>9917</th>\n",
       "      <td>Eu Sou Rico</td>\n",
       "      <td>Finance</td>\n",
       "      <td>394.99</td>\n",
       "      <td>0+</td>\n",
       "    </tr>\n",
       "    <tr>\n",
       "      <th>5366</th>\n",
       "      <td>I Am Rich</td>\n",
       "      <td>Entertainment</td>\n",
       "      <td>389.99</td>\n",
       "      <td>10,000+</td>\n",
       "    </tr>\n",
       "    <tr>\n",
       "      <th>5357</th>\n",
       "      <td>I Am Extremely Rich</td>\n",
       "      <td>Lifestyle</td>\n",
       "      <td>379.99</td>\n",
       "      <td>1,000+</td>\n",
       "    </tr>\n",
       "    <tr>\n",
       "      <th>5355</th>\n",
       "      <td>I Am Rich Vip</td>\n",
       "      <td>Lifestyle</td>\n",
       "      <td>299.99</td>\n",
       "      <td>10,000+</td>\n",
       "    </tr>\n",
       "    <tr>\n",
       "      <th>9719</th>\n",
       "      <td>Ep Cook Book</td>\n",
       "      <td>Medical</td>\n",
       "      <td>200.00</td>\n",
       "      <td>0+</td>\n",
       "    </tr>\n",
       "    <tr>\n",
       "      <th>6692</th>\n",
       "      <td>CronometraBr</td>\n",
       "      <td>Productivity</td>\n",
       "      <td>154.99</td>\n",
       "      <td>0+</td>\n",
       "    </tr>\n",
       "    <tr>\n",
       "      <th>6624</th>\n",
       "      <td>Bp Fitness Lead Scanner</td>\n",
       "      <td>Events</td>\n",
       "      <td>109.99</td>\n",
       "      <td>1+</td>\n",
       "    </tr>\n",
       "    <tr>\n",
       "      <th>9730</th>\n",
       "      <td>Lean Eq</td>\n",
       "      <td>Business</td>\n",
       "      <td>89.99</td>\n",
       "      <td>10+</td>\n",
       "    </tr>\n",
       "    <tr>\n",
       "      <th>2253</th>\n",
       "      <td>Vargo Anesthesia Mega App</td>\n",
       "      <td>Medical</td>\n",
       "      <td>79.99</td>\n",
       "      <td>1,000+</td>\n",
       "    </tr>\n",
       "    <tr>\n",
       "      <th>2390</th>\n",
       "      <td>Language Therapy Aphasia</td>\n",
       "      <td>Medical</td>\n",
       "      <td>74.99</td>\n",
       "      <td>1,000+</td>\n",
       "    </tr>\n",
       "  </tbody>\n",
       "</table>\n",
       "</div>"
      ],
      "text/plain": [
       "                                App         Genres   Price  Installs\n",
       "4367         IM Rich  Trump Edition      Lifestyle  400.00   10,000+\n",
       "5359               I Am RichPremium        Finance  399.99    5,000+\n",
       "5356              I Am Rich Premium        Finance  399.99   50,000+\n",
       "5373             I Am Rich Pro Plus        Finance  399.99    1,000+\n",
       "5369                      I Am Rich        Finance  399.99    5,000+\n",
       "5364   I Am Rich Most Expensive App        Finance  399.99    1,000+\n",
       "5362                  I Am Rich Pro  Entertainment  399.99    5,000+\n",
       "5358                      I Am Rich        Finance  399.99    1,000+\n",
       "9934  IM RichEu Sou Ricoأنا غني我很有錢      Lifestyle  399.99        0+\n",
       "5354                 I Am Rich Plus  Entertainment  399.99   10,000+\n",
       "5351                      I Am Rich      Lifestyle  399.99  100,000+\n",
       "4362                        IM Rich      Lifestyle  399.99   10,000+\n",
       "4197           Most Expensive App H  Entertainment  399.99      100+\n",
       "9917                    Eu Sou Rico        Finance  394.99        0+\n",
       "5366                      I Am Rich  Entertainment  389.99   10,000+\n",
       "5357            I Am Extremely Rich      Lifestyle  379.99    1,000+\n",
       "5355                  I Am Rich Vip      Lifestyle  299.99   10,000+\n",
       "9719                   Ep Cook Book        Medical  200.00        0+\n",
       "6692                   CronometraBr   Productivity  154.99        0+\n",
       "6624        Bp Fitness Lead Scanner         Events  109.99        1+\n",
       "9730                        Lean Eq       Business   89.99       10+\n",
       "2253      Vargo Anesthesia Mega App        Medical   79.99    1,000+\n",
       "2390       Language Therapy Aphasia        Medical   74.99    1,000+"
      ]
     },
     "execution_count": 50,
     "metadata": {},
     "output_type": "execute_result"
    }
   ],
   "source": [
    "df_paid[['App', 'Genres', 'Price', 'Installs']].sort_values(by='Price', ascending=False)"
   ]
  },
  {
   "cell_type": "markdown",
   "metadata": {
    "_uuid": "294e560ebf8fc811a32612ce1a8af89b3558b5a0"
   },
   "source": [
    "As we can see many people are willing to pay **some good money** for some Apps in certain categories such as **Finance, LifeStyle and Entertainment.**"
   ]
  },
  {
   "cell_type": "markdown",
   "metadata": {
    "_uuid": "b093811192994f2ba9dc7560368c9497ac62816d"
   },
   "source": [
    "We wanted to get basic insights from the App Data we have. I hope you enjoyed my basic findings. Thank you."
   ]
  },
  {
   "cell_type": "code",
   "execution_count": null,
   "metadata": {
    "_uuid": "dd53894b3fb03824df642fe7bef847078cbaa477"
   },
   "outputs": [],
   "source": []
  },
  {
   "cell_type": "code",
   "execution_count": null,
   "metadata": {
    "_uuid": "074468fa7929062385916f97a82ed7102f7cac5d"
   },
   "outputs": [],
   "source": []
  }
 ],
 "metadata": {
  "kernelspec": {
   "display_name": "Python 3",
   "language": "python",
   "name": "python3"
  },
  "language_info": {
   "codemirror_mode": {
    "name": "ipython",
    "version": 3
   },
   "file_extension": ".py",
   "mimetype": "text/x-python",
   "name": "python",
   "nbconvert_exporter": "python",
   "pygments_lexer": "ipython3",
   "version": "3.6.4"
  }
 },
 "nbformat": 4,
 "nbformat_minor": 1
}
